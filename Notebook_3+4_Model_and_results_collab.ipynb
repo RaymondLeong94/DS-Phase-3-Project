{
  "nbformat": 4,
  "nbformat_minor": 0,
  "metadata": {
    "colab": {
      "provenance": [],
      "authorship_tag": "ABX9TyNPIh2lfrk+pqdsQkqUWwRd",
      "include_colab_link": true
    },
    "kernelspec": {
      "name": "python3",
      "display_name": "Python 3"
    },
    "language_info": {
      "name": "python"
    }
  },
  "cells": [
    {
      "cell_type": "markdown",
      "metadata": {
        "id": "view-in-github",
        "colab_type": "text"
      },
      "source": [
        "<a href=\"https://colab.research.google.com/github/RaymondLeong94/DS-Phase-3-Project/blob/main/Notebook_3%2B4_Model_and_results_collab.ipynb\" target=\"_parent\"><img src=\"https://colab.research.google.com/assets/colab-badge.svg\" alt=\"Open In Colab\"/></a>"
      ]
    },
    {
      "cell_type": "code",
      "source": [
        "#https://www.youtube.com/watch?v=Fuw0wv3X-0o"
      ],
      "metadata": {
        "id": "TVhnSFdD9RiM"
      },
      "execution_count": 1,
      "outputs": []
    },
    {
      "cell_type": "code",
      "execution_count": 2,
      "metadata": {
        "colab": {
          "base_uri": "https://localhost:8080/"
        },
        "id": "fo0_E549BTi_",
        "outputId": "89b7997a-a054-43ab-ffe3-adcd22f5b043"
      },
      "outputs": [
        {
          "output_type": "stream",
          "name": "stdout",
          "text": [
            "Mounted at /content/gdrive/\n"
          ]
        }
      ],
      "source": [
        "import pandas as pd\n",
        "import json\n",
        "from google.colab import drive\n",
        "\n",
        "drive.mount('/content/gdrive/', force_remount=True)"
      ]
    },
    {
      "cell_type": "code",
      "source": [
        "%cd gdrive/MyDrive"
      ],
      "metadata": {
        "colab": {
          "base_uri": "https://localhost:8080/"
        },
        "id": "PfAfm61GBW_M",
        "outputId": "5869d978-5eaa-4bb2-868b-271cd0d6950e"
      },
      "execution_count": 3,
      "outputs": [
        {
          "output_type": "stream",
          "name": "stdout",
          "text": [
            "/content/gdrive/MyDrive\n"
          ]
        }
      ]
    },
    {
      "cell_type": "code",
      "source": [
        "import json\n",
        "preprocessed3 = pd.read_json('/content/gdrive/MyDrive/final_preprocessed_data.json', encoding='utf8') "
      ],
      "metadata": {
        "id": "sgCp0y90BgDo"
      },
      "execution_count": 22,
      "outputs": []
    },
    {
      "cell_type": "code",
      "source": [
        "practice_set= preprocessed3\n",
        "practice_set.head()"
      ],
      "metadata": {
        "id": "kqkfW65zBrXC",
        "colab": {
          "base_uri": "https://localhost:8080/",
          "height": 1000
        },
        "outputId": "eda7f512-6555-4c8b-a444-944afcf9bfa0"
      },
      "execution_count": 23,
      "outputs": [
        {
          "output_type": "execute_result",
          "data": {
            "text/plain": [
              "              business_id  stars_x  review_count ByAppointmentOnly  \\\n",
              "0  MTSW4McQd7CbVtyjqoe9mw      4.0            80             False   \n",
              "1  MTSW4McQd7CbVtyjqoe9mw      4.0            80             False   \n",
              "2  MTSW4McQd7CbVtyjqoe9mw      4.0            80             False   \n",
              "3  MTSW4McQd7CbVtyjqoe9mw      4.0            80             False   \n",
              "4  MTSW4McQd7CbVtyjqoe9mw      4.0            80             False   \n",
              "\n",
              "  BusinessAcceptsCreditCards CoatCheck RestaurantsTakeOut RestaurantsDelivery  \\\n",
              "0                      False   unknown               True               False   \n",
              "1                      False   unknown               True               False   \n",
              "2                      False   unknown               True               False   \n",
              "3                      False   unknown               True               False   \n",
              "4                      False   unknown               True               False   \n",
              "\n",
              "  Caters     WiFi  ... stars_y  \\\n",
              "0   True  u'free'  ...       4   \n",
              "1   True  u'free'  ...       4   \n",
              "2   True  u'free'  ...       5   \n",
              "3   True  u'free'  ...       5   \n",
              "4   True  u'free'  ...       4   \n",
              "\n",
              "                                                                                                                                                                                                                                                                                                                                                                                                                                                                                                                                                                                                                                                                                                                                                                                                                                                                                                                                                                                                                     text  \\\n",
              "0                                                                                                                                                                                                                                                                                                                                                                                                                                                                                                                                                                                                 This is nice little Chinese bakery in the heart of Philadelphia's Chinatown! The female cashier was very friendly (flirtatious!) and the pastries shown in nicely adorned display cases. I stopped by early one evening had a sesame ball, which was filled with bean paste. The glutinous rice of the ball was nicely flavored, similar to Bai Tang Gao. Definitely as place worth stopping at if you are in the area.   \n",
              "1                                                                                                                                                                                                                                                                                                                                                                                       This is the bakery I usually go to in Chinatown.  They have a decent variety of buns and pastries.  Red bean-filled buns, mung bean-filled buns, coconut stuff, egg tarts etc.  If you buy a dozen, they will give you two more for free.  The prices are standard for a Chinese bakery, with most things at approximately $1.  The service has always been good.  They do serve coffee and tea.  There are a couple of tables inside, with usually the expected group of older Chinese guys chillin' in the corner table debating about something.  Great place to stock up on the buns, which I usually do before leaving town.   \n",
              "2                                                                                                                                                                                                                                                                                                                                                                                                                                                                                                                                                                                                                                                                                                                                                                                   A delightful find in Chinatown! Very clean, and very kind service. Everyone always seems happy in here, and their treats are absolutely delicious. You can also get a ton of sweet treats without any judgement! They're my favorite.   \n",
              "3                                                                                                                                                                                                                                                                                                                                                                                                                                                                                                                                                                                                                                                                                                                                                                                                                                                       I ordered a graduation cake for my niece and it came out absolutely perfect. Will come again for future events! Staff was nice also and the cake was really good.   \n",
              "4  HK-STYLE MILK TEA:  FOUR STARS\\n\\nNot quite sure why there are two Saint Honore Pastries business listings on Yelp, but I have been checking in to this one.\\n\\nBoyfriend and I go by it all the time while in Chinatown, but it never crossed our mind to try it.  I think we might have tried it once a year or two ago, but it wasn't memorable.  I decided to try the HK-style milk tea not too long ago and was hooked.  I think I went here almost every day one week to get the milk tea, only to realize that I should REALLY watch my sugar intake...it's sooo good!  \\n\\nI personally don't think it's better than Zhong Gang's HK-style milk tea because they have their off days when a certain lady makes them (not enough ice, too much ice, etc.).\\n\\nOn a side note:  I wanted to try the crispy roast pork bun, but accidentally said the wrong name in Chinese and got the roast pork bun.  It was decent enough, although I will get to trying the crispy roast pork bun soon!  \\n\\nI will be back~   \n",
              "\n",
              "  total_hours weekend_hours distance_to_lowest_star  \\\n",
              "0        94.0          42.0              987.992116   \n",
              "1        94.0          42.0              987.992116   \n",
              "2        94.0          42.0              987.992116   \n",
              "3        94.0          42.0              987.992116   \n",
              "4        94.0          42.0              987.992116   \n",
              "\n",
              "                                                                                                                                                                                                                                                                                                                                                                                                                                                                                                                                                                                                           text_refurbished  \\\n",
              "0                                                                                                                                                                                                                                                                                                                                                      nice little bakery heart philadelphia chinatown female cashier friendly flirtatious pastry show nicely adorn display case stop early one evening sesame ball fill bean paste glutinous rice ball nicely flavor similar bai tang gao definitely place worth stop area   \n",
              "1                                                                                                                                                                                                                                                                   bakery usually go chinatown decent variety bun pastry red beanfilled bun mung beanfilled bun coconut stuff egg tart etc buy dozen give two free price standard bakery thing approximately service good serve coffee tea couple table inside usually expect group old guy chillin corner table debate something great place stock bun usually leave town   \n",
              "2                                                                                                                                                                                                                                                                                                                                                                                                                                                                    delightful find chinatown clean kind service everyone seem happy treat absolutely delicious also get ton sweet treat without judgement theyre favorite   \n",
              "3                                                                                                                                                                                                                                                                                                                                                                                                                                                                                                                    order graduation cake niece come absolutely perfect come future event staff nice also cake really good   \n",
              "4  hkstyle milk tea four stars\\n\\nnot quite sure two saint honore pastry business listing yelp check one\\n\\nboyfriend go time chinatown never cross mind try think might try year two ago wasnt memorable decide try hkstyle milk tea long ago hook think go almost every day one week get milk tea realize really watch sugar intakeits sooo good \\n\\ni personally think good zhong gang hkstyle milk tea day certain lady make enough ice much ice etc\\n\\non side note want try crispy roast pork bun accidentally say wrong name get roast pork bun decent enough although get try crispy roast pork bun soon \\n\\ni back   \n",
              "\n",
              "                                                                                                                                                                                                                                                                                                                                                                                                                                                                                                                                                                                                                                                                                                                                                                                                                                                                                                                                                                                                                                                                                                                                                                                                                                                                          entities  \\\n",
              "0                                                                                                                                                                                                                                                                                                                                                                                                                                                                                                                                                                                                                                                                                                                                                             (S\\n  nice/JJ\\n  little/JJ\\n  bakery/JJ\\n  heart/NN\\n  philadelphia/NN\\n  chinatown/JJ\\n  female/NN\\n  cashier/NN\\n  friendly/RB\\n  flirtatious/JJ\\n  pastry/NN\\n  show/NN\\n  nicely/RB\\n  adorn/JJ\\n  display/NN\\n  case/NN\\n  stop/VBD\\n  early/RB\\n  one/CD\\n  evening/NN\\n  sesame/NN\\n  ball/NN\\n  fill/JJ\\n  bean/JJ\\n  paste/NN\\n  glutinous/JJ\\n  rice/NN\\n  ball/NN\\n  nicely/RB\\n  flavor/VBD\\n  similar/JJ\\n  bai/NN\\n  tang/NN\\n  gao/NN\\n  definitely/RB\\n  place/JJ\\n  worth/JJ\\n  stop/VB\\n  area/NN)   \n",
              "1                                                                                                                                                                                                                                                                                                                                                                                                                                                                                                                                                                            (S\\n  bakery/NN\\n  usually/RB\\n  go/VBP\\n  chinatown/JJ\\n  decent/JJ\\n  variety/NN\\n  bun/NN\\n  pastry/NN\\n  red/VBD\\n  beanfilled/JJ\\n  bun/NN\\n  mung/NN\\n  beanfilled/VBD\\n  bun/JJ\\n  coconut/NN\\n  stuff/NN\\n  egg/NN\\n  tart/NN\\n  etc/FW\\n  buy/VB\\n  dozen/NN\\n  give/VBP\\n  two/CD\\n  free/JJ\\n  price/NN\\n  standard/NN\\n  bakery/IN\\n  thing/NN\\n  approximately/RB\\n  service/NN\\n  good/JJ\\n  serve/NN\\n  coffee/NN\\n  tea/NN\\n  couple/NN\\n  table/JJ\\n  inside/RB\\n  usually/RB\\n  expect/VBP\\n  group/NN\\n  old/JJ\\n  guy/NN\\n  chillin/NN\\n  corner/NN\\n  table/JJ\\n  debate/NN\\n  something/NN\\n  great/JJ\\n  place/NN\\n  stock/NN\\n  bun/NN\\n  usually/RB\\n  leave/VBP\\n  town/NN)   \n",
              "2                                                                                                                                                                                                                                                                                                                                                                                                                                                                                                                                                                                                                                                                                                                                                                                                                                                                                                                                                                                      (S\\n  delightful/JJ\\n  find/VBP\\n  chinatown/JJ\\n  clean/JJ\\n  kind/NN\\n  service/NN\\n  everyone/NN\\n  seem/VBP\\n  happy/JJ\\n  treat/NN\\n  absolutely/RB\\n  delicious/JJ\\n  also/RB\\n  get/VBP\\n  ton/JJ\\n  sweet/JJ\\n  treat/NN\\n  without/IN\\n  judgement/NN\\n  theyre/NN\\n  favorite/NN)   \n",
              "3                                                                                                                                                                                                                                                                                                                                                                                                                                                                                                                                                                                                                                                                                                                                                                                                                                                                                                                                                                                                                                                                      (S\\n  order/NN\\n  graduation/NN\\n  cake/VB\\n  niece/JJ\\n  come/VB\\n  absolutely/RB\\n  perfect/JJ\\n  come/JJ\\n  future/JJ\\n  event/NN\\n  staff/NN\\n  nice/NN\\n  also/RB\\n  cake/VBP\\n  really/RB\\n  good/JJ)   \n",
              "4  (S\\n  hkstyle/JJ\\n  milk/NN\\n  tea/IN\\n  four/CD\\n  stars/NNS\\n  not/RB\\n  quite/RB\\n  sure/JJ\\n  two/CD\\n  saint/NN\\n  honore/NN\\n  pastry/NN\\n  business/NN\\n  listing/VBG\\n  yelp/JJR\\n  check/VB\\n  one/CD\\n  boyfriend/NN\\n  go/VB\\n  time/NN\\n  chinatown/VBN\\n  never/RB\\n  cross/NN\\n  mind/NN\\n  try/NN\\n  think/NN\\n  might/MD\\n  try/VB\\n  year/NN\\n  two/CD\\n  ago/IN\\n  wasnt/NNS\\n  memorable/JJ\\n  decide/JJ\\n  try/NN\\n  hkstyle/NN\\n  milk/NN\\n  tea/NN\\n  long/RB\\n  ago/RB\\n  hook/NN\\n  think/NN\\n  go/VBP\\n  almost/RB\\n  every/DT\\n  day/NN\\n  one/CD\\n  week/NN\\n  get/VB\\n  milk/NN\\n  tea/NN\\n  realize/VBP\\n  really/RB\\n  watch/JJ\\n  sugar/NN\\n  intakeits/NNS\\n  sooo/VBP\\n  good/JJ\\n  i/NN\\n  personally/RB\\n  think/VBP\\n  good/JJ\\n  zhong/NN\\n  gang/NN\\n  hkstyle/JJ\\n  milk/NN\\n  tea/VBN\\n  day/NN\\n  certain/JJ\\n  lady/JJ\\n  make/VB\\n  enough/JJ\\n  ice/NN\\n  much/JJ\\n  ice/NN\\n  etc/NN\\n  on/IN\\n  side/JJ\\n  note/NN\\n  want/VBP\\n  try/NN\\n  crispy/NN\\n  roast/NN\\n  pork/NN\\n  bun/NN\\n  accidentally/RB\\n  say/VBP\\n  wrong/JJ\\n  name/NN\\n  get/VB\\n  roast/JJ\\n  pork/NN\\n  bun/NN\\n  decent/JJ\\n  enough/RB\\n  although/IN\\n  get/VB\\n  try/JJ\\n  crispy/NN\\n  roast/NN\\n  pork/NN\\n  bun/NN\\n  soon/RB\\n  i/VBZ\\n  back/RP)   \n",
              "\n",
              "                                                                                                                                                                                                                                                                                                                                                                extract_nouns  \\\n",
              "0                                                                                                                                                                                                       'heart', 'philadelphia', 'female', 'cashier', 'pastry', 'show', 'display', 'case', 'evening', 'sesame', 'ball', 'paste', 'rice', 'ball', 'bai', 'tang', 'gao', 'area'   \n",
              "1                                                                                                   'bakery', 'variety', 'bun', 'pastry', 'bun', 'mung', 'coconut', 'stuff', 'egg', 'tart', 'dozen', 'price', 'standard', 'thing', 'service', 'serve', 'coffee', 'tea', 'couple', 'group', 'guy', 'chillin', 'corner', 'debate', 'something', 'place', 'stock', 'bun', 'town'   \n",
              "2                                                                                                                                                                                                                                                                                          'kind', 'service', 'everyone', 'treat', 'treat', 'judgement', 'theyre', 'favorite'   \n",
              "3                                                                                                                                                                                                                                                                                                                             'order', 'graduation', 'event', 'staff', 'nice'   \n",
              "4  'milk', 'saint', 'honore', 'pastry', 'business', 'boyfriend', 'time', 'cross', 'mind', 'try', 'think', 'year', 'try', 'hkstyle', 'milk', 'tea', 'hook', 'think', 'day', 'week', 'milk', 'tea', 'sugar', 'i', 'zhong', 'gang', 'milk', 'day', 'ice', 'ice', 'etc', 'note', 'try', 'crispy', 'roast', 'pork', 'bun', 'name', 'pork', 'bun', 'crispy', 'roast', 'pork', 'bun'   \n",
              "\n",
              "                                                                                                                                             extract_adjectives  \\\n",
              "0                                     'nice', 'little', 'bakery', 'chinatown', 'flirtatious', 'adorn', 'fill', 'bean', 'glutinous', 'similar', 'place', 'worth'   \n",
              "1                                                                  'chinatown', 'decent', 'beanfilled', 'bun', 'free', 'good', 'table', 'old', 'table', 'great'   \n",
              "2                                                                                      'delightful', 'chinatown', 'clean', 'happy', 'delicious', 'ton', 'sweet'   \n",
              "3                                                                                                                  'niece', 'perfect', 'come', 'future', 'good'   \n",
              "4  'hkstyle', 'sure', 'memorable', 'decide', 'watch', 'good', 'good', 'hkstyle', 'certain', 'lady', 'enough', 'much', 'side', 'wrong', 'roast', 'decent', 'try'   \n",
              "\n",
              "                                                                                                                                                                                                                                                                                                                                                                                                                                                                                                                              nouns_adjec  \n",
              "0                                                                                                                                                                                                                                          'heart', 'philadelphia', 'female', 'cashier', 'pastry', 'show', 'display', 'case', 'evening', 'sesame', 'ball', 'paste', 'rice', 'ball', 'bai', 'tang', 'gao', 'area''nice', 'little', 'bakery', 'chinatown', 'flirtatious', 'adorn', 'fill', 'bean', 'glutinous', 'similar', 'place', 'worth'  \n",
              "1                                                                                                                                                                   'bakery', 'variety', 'bun', 'pastry', 'bun', 'mung', 'coconut', 'stuff', 'egg', 'tart', 'dozen', 'price', 'standard', 'thing', 'service', 'serve', 'coffee', 'tea', 'couple', 'group', 'guy', 'chillin', 'corner', 'debate', 'something', 'place', 'stock', 'bun', 'town''chinatown', 'decent', 'beanfilled', 'bun', 'free', 'good', 'table', 'old', 'table', 'great'  \n",
              "2                                                                                                                                                                                                                                                                                                                                                                              'kind', 'service', 'everyone', 'treat', 'treat', 'judgement', 'theyre', 'favorite''delightful', 'chinatown', 'clean', 'happy', 'delicious', 'ton', 'sweet'  \n",
              "3                                                                                                                                                                                                                                                                                                                                                                                                                                             'order', 'graduation', 'event', 'staff', 'nice''niece', 'perfect', 'come', 'future', 'good'  \n",
              "4  'milk', 'saint', 'honore', 'pastry', 'business', 'boyfriend', 'time', 'cross', 'mind', 'try', 'think', 'year', 'try', 'hkstyle', 'milk', 'tea', 'hook', 'think', 'day', 'week', 'milk', 'tea', 'sugar', 'i', 'zhong', 'gang', 'milk', 'day', 'ice', 'ice', 'etc', 'note', 'try', 'crispy', 'roast', 'pork', 'bun', 'name', 'pork', 'bun', 'crispy', 'roast', 'pork', 'bun''hkstyle', 'sure', 'memorable', 'decide', 'watch', 'good', 'good', 'hkstyle', 'certain', 'lady', 'enough', 'much', 'side', 'wrong', 'roast', 'decent', 'try'  \n",
              "\n",
              "[5 rows x 49 columns]"
            ],
            "text/html": [
              "\n",
              "  <div id=\"df-85059cee-f847-4bc9-8558-f33cde0e6a7a\">\n",
              "    <div class=\"colab-df-container\">\n",
              "      <div>\n",
              "<style scoped>\n",
              "    .dataframe tbody tr th:only-of-type {\n",
              "        vertical-align: middle;\n",
              "    }\n",
              "\n",
              "    .dataframe tbody tr th {\n",
              "        vertical-align: top;\n",
              "    }\n",
              "\n",
              "    .dataframe thead th {\n",
              "        text-align: right;\n",
              "    }\n",
              "</style>\n",
              "<table border=\"1\" class=\"dataframe\">\n",
              "  <thead>\n",
              "    <tr style=\"text-align: right;\">\n",
              "      <th></th>\n",
              "      <th>business_id</th>\n",
              "      <th>stars_x</th>\n",
              "      <th>review_count</th>\n",
              "      <th>ByAppointmentOnly</th>\n",
              "      <th>BusinessAcceptsCreditCards</th>\n",
              "      <th>CoatCheck</th>\n",
              "      <th>RestaurantsTakeOut</th>\n",
              "      <th>RestaurantsDelivery</th>\n",
              "      <th>Caters</th>\n",
              "      <th>WiFi</th>\n",
              "      <th>...</th>\n",
              "      <th>stars_y</th>\n",
              "      <th>text</th>\n",
              "      <th>total_hours</th>\n",
              "      <th>weekend_hours</th>\n",
              "      <th>distance_to_lowest_star</th>\n",
              "      <th>text_refurbished</th>\n",
              "      <th>entities</th>\n",
              "      <th>extract_nouns</th>\n",
              "      <th>extract_adjectives</th>\n",
              "      <th>nouns_adjec</th>\n",
              "    </tr>\n",
              "  </thead>\n",
              "  <tbody>\n",
              "    <tr>\n",
              "      <th>0</th>\n",
              "      <td>MTSW4McQd7CbVtyjqoe9mw</td>\n",
              "      <td>4.0</td>\n",
              "      <td>80</td>\n",
              "      <td>False</td>\n",
              "      <td>False</td>\n",
              "      <td>unknown</td>\n",
              "      <td>True</td>\n",
              "      <td>False</td>\n",
              "      <td>True</td>\n",
              "      <td>u'free'</td>\n",
              "      <td>...</td>\n",
              "      <td>4</td>\n",
              "      <td>This is nice little Chinese bakery in the heart of Philadelphia's Chinatown! The female cashier was very friendly (flirtatious!) and the pastries shown in nicely adorned display cases. I stopped by early one evening had a sesame ball, which was filled with bean paste. The glutinous rice of the ball was nicely flavored, similar to Bai Tang Gao. Definitely as place worth stopping at if you are in the area.</td>\n",
              "      <td>94.0</td>\n",
              "      <td>42.0</td>\n",
              "      <td>987.992116</td>\n",
              "      <td>nice little bakery heart philadelphia chinatown female cashier friendly flirtatious pastry show nicely adorn display case stop early one evening sesame ball fill bean paste glutinous rice ball nicely flavor similar bai tang gao definitely place worth stop area</td>\n",
              "      <td>(S\\n  nice/JJ\\n  little/JJ\\n  bakery/JJ\\n  heart/NN\\n  philadelphia/NN\\n  chinatown/JJ\\n  female/NN\\n  cashier/NN\\n  friendly/RB\\n  flirtatious/JJ\\n  pastry/NN\\n  show/NN\\n  nicely/RB\\n  adorn/JJ\\n  display/NN\\n  case/NN\\n  stop/VBD\\n  early/RB\\n  one/CD\\n  evening/NN\\n  sesame/NN\\n  ball/NN\\n  fill/JJ\\n  bean/JJ\\n  paste/NN\\n  glutinous/JJ\\n  rice/NN\\n  ball/NN\\n  nicely/RB\\n  flavor/VBD\\n  similar/JJ\\n  bai/NN\\n  tang/NN\\n  gao/NN\\n  definitely/RB\\n  place/JJ\\n  worth/JJ\\n  stop/VB\\n  area/NN)</td>\n",
              "      <td>'heart', 'philadelphia', 'female', 'cashier', 'pastry', 'show', 'display', 'case', 'evening', 'sesame', 'ball', 'paste', 'rice', 'ball', 'bai', 'tang', 'gao', 'area'</td>\n",
              "      <td>'nice', 'little', 'bakery', 'chinatown', 'flirtatious', 'adorn', 'fill', 'bean', 'glutinous', 'similar', 'place', 'worth'</td>\n",
              "      <td>'heart', 'philadelphia', 'female', 'cashier', 'pastry', 'show', 'display', 'case', 'evening', 'sesame', 'ball', 'paste', 'rice', 'ball', 'bai', 'tang', 'gao', 'area''nice', 'little', 'bakery', 'chinatown', 'flirtatious', 'adorn', 'fill', 'bean', 'glutinous', 'similar', 'place', 'worth'</td>\n",
              "    </tr>\n",
              "    <tr>\n",
              "      <th>1</th>\n",
              "      <td>MTSW4McQd7CbVtyjqoe9mw</td>\n",
              "      <td>4.0</td>\n",
              "      <td>80</td>\n",
              "      <td>False</td>\n",
              "      <td>False</td>\n",
              "      <td>unknown</td>\n",
              "      <td>True</td>\n",
              "      <td>False</td>\n",
              "      <td>True</td>\n",
              "      <td>u'free'</td>\n",
              "      <td>...</td>\n",
              "      <td>4</td>\n",
              "      <td>This is the bakery I usually go to in Chinatown.  They have a decent variety of buns and pastries.  Red bean-filled buns, mung bean-filled buns, coconut stuff, egg tarts etc.  If you buy a dozen, they will give you two more for free.  The prices are standard for a Chinese bakery, with most things at approximately $1.  The service has always been good.  They do serve coffee and tea.  There are a couple of tables inside, with usually the expected group of older Chinese guys chillin' in the corner table debating about something.  Great place to stock up on the buns, which I usually do before leaving town.</td>\n",
              "      <td>94.0</td>\n",
              "      <td>42.0</td>\n",
              "      <td>987.992116</td>\n",
              "      <td>bakery usually go chinatown decent variety bun pastry red beanfilled bun mung beanfilled bun coconut stuff egg tart etc buy dozen give two free price standard bakery thing approximately service good serve coffee tea couple table inside usually expect group old guy chillin corner table debate something great place stock bun usually leave town</td>\n",
              "      <td>(S\\n  bakery/NN\\n  usually/RB\\n  go/VBP\\n  chinatown/JJ\\n  decent/JJ\\n  variety/NN\\n  bun/NN\\n  pastry/NN\\n  red/VBD\\n  beanfilled/JJ\\n  bun/NN\\n  mung/NN\\n  beanfilled/VBD\\n  bun/JJ\\n  coconut/NN\\n  stuff/NN\\n  egg/NN\\n  tart/NN\\n  etc/FW\\n  buy/VB\\n  dozen/NN\\n  give/VBP\\n  two/CD\\n  free/JJ\\n  price/NN\\n  standard/NN\\n  bakery/IN\\n  thing/NN\\n  approximately/RB\\n  service/NN\\n  good/JJ\\n  serve/NN\\n  coffee/NN\\n  tea/NN\\n  couple/NN\\n  table/JJ\\n  inside/RB\\n  usually/RB\\n  expect/VBP\\n  group/NN\\n  old/JJ\\n  guy/NN\\n  chillin/NN\\n  corner/NN\\n  table/JJ\\n  debate/NN\\n  something/NN\\n  great/JJ\\n  place/NN\\n  stock/NN\\n  bun/NN\\n  usually/RB\\n  leave/VBP\\n  town/NN)</td>\n",
              "      <td>'bakery', 'variety', 'bun', 'pastry', 'bun', 'mung', 'coconut', 'stuff', 'egg', 'tart', 'dozen', 'price', 'standard', 'thing', 'service', 'serve', 'coffee', 'tea', 'couple', 'group', 'guy', 'chillin', 'corner', 'debate', 'something', 'place', 'stock', 'bun', 'town'</td>\n",
              "      <td>'chinatown', 'decent', 'beanfilled', 'bun', 'free', 'good', 'table', 'old', 'table', 'great'</td>\n",
              "      <td>'bakery', 'variety', 'bun', 'pastry', 'bun', 'mung', 'coconut', 'stuff', 'egg', 'tart', 'dozen', 'price', 'standard', 'thing', 'service', 'serve', 'coffee', 'tea', 'couple', 'group', 'guy', 'chillin', 'corner', 'debate', 'something', 'place', 'stock', 'bun', 'town''chinatown', 'decent', 'beanfilled', 'bun', 'free', 'good', 'table', 'old', 'table', 'great'</td>\n",
              "    </tr>\n",
              "    <tr>\n",
              "      <th>2</th>\n",
              "      <td>MTSW4McQd7CbVtyjqoe9mw</td>\n",
              "      <td>4.0</td>\n",
              "      <td>80</td>\n",
              "      <td>False</td>\n",
              "      <td>False</td>\n",
              "      <td>unknown</td>\n",
              "      <td>True</td>\n",
              "      <td>False</td>\n",
              "      <td>True</td>\n",
              "      <td>u'free'</td>\n",
              "      <td>...</td>\n",
              "      <td>5</td>\n",
              "      <td>A delightful find in Chinatown! Very clean, and very kind service. Everyone always seems happy in here, and their treats are absolutely delicious. You can also get a ton of sweet treats without any judgement! They're my favorite.</td>\n",
              "      <td>94.0</td>\n",
              "      <td>42.0</td>\n",
              "      <td>987.992116</td>\n",
              "      <td>delightful find chinatown clean kind service everyone seem happy treat absolutely delicious also get ton sweet treat without judgement theyre favorite</td>\n",
              "      <td>(S\\n  delightful/JJ\\n  find/VBP\\n  chinatown/JJ\\n  clean/JJ\\n  kind/NN\\n  service/NN\\n  everyone/NN\\n  seem/VBP\\n  happy/JJ\\n  treat/NN\\n  absolutely/RB\\n  delicious/JJ\\n  also/RB\\n  get/VBP\\n  ton/JJ\\n  sweet/JJ\\n  treat/NN\\n  without/IN\\n  judgement/NN\\n  theyre/NN\\n  favorite/NN)</td>\n",
              "      <td>'kind', 'service', 'everyone', 'treat', 'treat', 'judgement', 'theyre', 'favorite'</td>\n",
              "      <td>'delightful', 'chinatown', 'clean', 'happy', 'delicious', 'ton', 'sweet'</td>\n",
              "      <td>'kind', 'service', 'everyone', 'treat', 'treat', 'judgement', 'theyre', 'favorite''delightful', 'chinatown', 'clean', 'happy', 'delicious', 'ton', 'sweet'</td>\n",
              "    </tr>\n",
              "    <tr>\n",
              "      <th>3</th>\n",
              "      <td>MTSW4McQd7CbVtyjqoe9mw</td>\n",
              "      <td>4.0</td>\n",
              "      <td>80</td>\n",
              "      <td>False</td>\n",
              "      <td>False</td>\n",
              "      <td>unknown</td>\n",
              "      <td>True</td>\n",
              "      <td>False</td>\n",
              "      <td>True</td>\n",
              "      <td>u'free'</td>\n",
              "      <td>...</td>\n",
              "      <td>5</td>\n",
              "      <td>I ordered a graduation cake for my niece and it came out absolutely perfect. Will come again for future events! Staff was nice also and the cake was really good.</td>\n",
              "      <td>94.0</td>\n",
              "      <td>42.0</td>\n",
              "      <td>987.992116</td>\n",
              "      <td>order graduation cake niece come absolutely perfect come future event staff nice also cake really good</td>\n",
              "      <td>(S\\n  order/NN\\n  graduation/NN\\n  cake/VB\\n  niece/JJ\\n  come/VB\\n  absolutely/RB\\n  perfect/JJ\\n  come/JJ\\n  future/JJ\\n  event/NN\\n  staff/NN\\n  nice/NN\\n  also/RB\\n  cake/VBP\\n  really/RB\\n  good/JJ)</td>\n",
              "      <td>'order', 'graduation', 'event', 'staff', 'nice'</td>\n",
              "      <td>'niece', 'perfect', 'come', 'future', 'good'</td>\n",
              "      <td>'order', 'graduation', 'event', 'staff', 'nice''niece', 'perfect', 'come', 'future', 'good'</td>\n",
              "    </tr>\n",
              "    <tr>\n",
              "      <th>4</th>\n",
              "      <td>MTSW4McQd7CbVtyjqoe9mw</td>\n",
              "      <td>4.0</td>\n",
              "      <td>80</td>\n",
              "      <td>False</td>\n",
              "      <td>False</td>\n",
              "      <td>unknown</td>\n",
              "      <td>True</td>\n",
              "      <td>False</td>\n",
              "      <td>True</td>\n",
              "      <td>u'free'</td>\n",
              "      <td>...</td>\n",
              "      <td>4</td>\n",
              "      <td>HK-STYLE MILK TEA:  FOUR STARS\\n\\nNot quite sure why there are two Saint Honore Pastries business listings on Yelp, but I have been checking in to this one.\\n\\nBoyfriend and I go by it all the time while in Chinatown, but it never crossed our mind to try it.  I think we might have tried it once a year or two ago, but it wasn't memorable.  I decided to try the HK-style milk tea not too long ago and was hooked.  I think I went here almost every day one week to get the milk tea, only to realize that I should REALLY watch my sugar intake...it's sooo good!  \\n\\nI personally don't think it's better than Zhong Gang's HK-style milk tea because they have their off days when a certain lady makes them (not enough ice, too much ice, etc.).\\n\\nOn a side note:  I wanted to try the crispy roast pork bun, but accidentally said the wrong name in Chinese and got the roast pork bun.  It was decent enough, although I will get to trying the crispy roast pork bun soon!  \\n\\nI will be back~</td>\n",
              "      <td>94.0</td>\n",
              "      <td>42.0</td>\n",
              "      <td>987.992116</td>\n",
              "      <td>hkstyle milk tea four stars\\n\\nnot quite sure two saint honore pastry business listing yelp check one\\n\\nboyfriend go time chinatown never cross mind try think might try year two ago wasnt memorable decide try hkstyle milk tea long ago hook think go almost every day one week get milk tea realize really watch sugar intakeits sooo good \\n\\ni personally think good zhong gang hkstyle milk tea day certain lady make enough ice much ice etc\\n\\non side note want try crispy roast pork bun accidentally say wrong name get roast pork bun decent enough although get try crispy roast pork bun soon \\n\\ni back</td>\n",
              "      <td>(S\\n  hkstyle/JJ\\n  milk/NN\\n  tea/IN\\n  four/CD\\n  stars/NNS\\n  not/RB\\n  quite/RB\\n  sure/JJ\\n  two/CD\\n  saint/NN\\n  honore/NN\\n  pastry/NN\\n  business/NN\\n  listing/VBG\\n  yelp/JJR\\n  check/VB\\n  one/CD\\n  boyfriend/NN\\n  go/VB\\n  time/NN\\n  chinatown/VBN\\n  never/RB\\n  cross/NN\\n  mind/NN\\n  try/NN\\n  think/NN\\n  might/MD\\n  try/VB\\n  year/NN\\n  two/CD\\n  ago/IN\\n  wasnt/NNS\\n  memorable/JJ\\n  decide/JJ\\n  try/NN\\n  hkstyle/NN\\n  milk/NN\\n  tea/NN\\n  long/RB\\n  ago/RB\\n  hook/NN\\n  think/NN\\n  go/VBP\\n  almost/RB\\n  every/DT\\n  day/NN\\n  one/CD\\n  week/NN\\n  get/VB\\n  milk/NN\\n  tea/NN\\n  realize/VBP\\n  really/RB\\n  watch/JJ\\n  sugar/NN\\n  intakeits/NNS\\n  sooo/VBP\\n  good/JJ\\n  i/NN\\n  personally/RB\\n  think/VBP\\n  good/JJ\\n  zhong/NN\\n  gang/NN\\n  hkstyle/JJ\\n  milk/NN\\n  tea/VBN\\n  day/NN\\n  certain/JJ\\n  lady/JJ\\n  make/VB\\n  enough/JJ\\n  ice/NN\\n  much/JJ\\n  ice/NN\\n  etc/NN\\n  on/IN\\n  side/JJ\\n  note/NN\\n  want/VBP\\n  try/NN\\n  crispy/NN\\n  roast/NN\\n  pork/NN\\n  bun/NN\\n  accidentally/RB\\n  say/VBP\\n  wrong/JJ\\n  name/NN\\n  get/VB\\n  roast/JJ\\n  pork/NN\\n  bun/NN\\n  decent/JJ\\n  enough/RB\\n  although/IN\\n  get/VB\\n  try/JJ\\n  crispy/NN\\n  roast/NN\\n  pork/NN\\n  bun/NN\\n  soon/RB\\n  i/VBZ\\n  back/RP)</td>\n",
              "      <td>'milk', 'saint', 'honore', 'pastry', 'business', 'boyfriend', 'time', 'cross', 'mind', 'try', 'think', 'year', 'try', 'hkstyle', 'milk', 'tea', 'hook', 'think', 'day', 'week', 'milk', 'tea', 'sugar', 'i', 'zhong', 'gang', 'milk', 'day', 'ice', 'ice', 'etc', 'note', 'try', 'crispy', 'roast', 'pork', 'bun', 'name', 'pork', 'bun', 'crispy', 'roast', 'pork', 'bun'</td>\n",
              "      <td>'hkstyle', 'sure', 'memorable', 'decide', 'watch', 'good', 'good', 'hkstyle', 'certain', 'lady', 'enough', 'much', 'side', 'wrong', 'roast', 'decent', 'try'</td>\n",
              "      <td>'milk', 'saint', 'honore', 'pastry', 'business', 'boyfriend', 'time', 'cross', 'mind', 'try', 'think', 'year', 'try', 'hkstyle', 'milk', 'tea', 'hook', 'think', 'day', 'week', 'milk', 'tea', 'sugar', 'i', 'zhong', 'gang', 'milk', 'day', 'ice', 'ice', 'etc', 'note', 'try', 'crispy', 'roast', 'pork', 'bun', 'name', 'pork', 'bun', 'crispy', 'roast', 'pork', 'bun''hkstyle', 'sure', 'memorable', 'decide', 'watch', 'good', 'good', 'hkstyle', 'certain', 'lady', 'enough', 'much', 'side', 'wrong', 'roast', 'decent', 'try'</td>\n",
              "    </tr>\n",
              "  </tbody>\n",
              "</table>\n",
              "<p>5 rows × 49 columns</p>\n",
              "</div>\n",
              "      <button class=\"colab-df-convert\" onclick=\"convertToInteractive('df-85059cee-f847-4bc9-8558-f33cde0e6a7a')\"\n",
              "              title=\"Convert this dataframe to an interactive table.\"\n",
              "              style=\"display:none;\">\n",
              "        \n",
              "  <svg xmlns=\"http://www.w3.org/2000/svg\" height=\"24px\"viewBox=\"0 0 24 24\"\n",
              "       width=\"24px\">\n",
              "    <path d=\"M0 0h24v24H0V0z\" fill=\"none\"/>\n",
              "    <path d=\"M18.56 5.44l.94 2.06.94-2.06 2.06-.94-2.06-.94-.94-2.06-.94 2.06-2.06.94zm-11 1L8.5 8.5l.94-2.06 2.06-.94-2.06-.94L8.5 2.5l-.94 2.06-2.06.94zm10 10l.94 2.06.94-2.06 2.06-.94-2.06-.94-.94-2.06-.94 2.06-2.06.94z\"/><path d=\"M17.41 7.96l-1.37-1.37c-.4-.4-.92-.59-1.43-.59-.52 0-1.04.2-1.43.59L10.3 9.45l-7.72 7.72c-.78.78-.78 2.05 0 2.83L4 21.41c.39.39.9.59 1.41.59.51 0 1.02-.2 1.41-.59l7.78-7.78 2.81-2.81c.8-.78.8-2.07 0-2.86zM5.41 20L4 18.59l7.72-7.72 1.47 1.35L5.41 20z\"/>\n",
              "  </svg>\n",
              "      </button>\n",
              "      \n",
              "  <style>\n",
              "    .colab-df-container {\n",
              "      display:flex;\n",
              "      flex-wrap:wrap;\n",
              "      gap: 12px;\n",
              "    }\n",
              "\n",
              "    .colab-df-convert {\n",
              "      background-color: #E8F0FE;\n",
              "      border: none;\n",
              "      border-radius: 50%;\n",
              "      cursor: pointer;\n",
              "      display: none;\n",
              "      fill: #1967D2;\n",
              "      height: 32px;\n",
              "      padding: 0 0 0 0;\n",
              "      width: 32px;\n",
              "    }\n",
              "\n",
              "    .colab-df-convert:hover {\n",
              "      background-color: #E2EBFA;\n",
              "      box-shadow: 0px 1px 2px rgba(60, 64, 67, 0.3), 0px 1px 3px 1px rgba(60, 64, 67, 0.15);\n",
              "      fill: #174EA6;\n",
              "    }\n",
              "\n",
              "    [theme=dark] .colab-df-convert {\n",
              "      background-color: #3B4455;\n",
              "      fill: #D2E3FC;\n",
              "    }\n",
              "\n",
              "    [theme=dark] .colab-df-convert:hover {\n",
              "      background-color: #434B5C;\n",
              "      box-shadow: 0px 1px 3px 1px rgba(0, 0, 0, 0.15);\n",
              "      filter: drop-shadow(0px 1px 2px rgba(0, 0, 0, 0.3));\n",
              "      fill: #FFFFFF;\n",
              "    }\n",
              "  </style>\n",
              "\n",
              "      <script>\n",
              "        const buttonEl =\n",
              "          document.querySelector('#df-85059cee-f847-4bc9-8558-f33cde0e6a7a button.colab-df-convert');\n",
              "        buttonEl.style.display =\n",
              "          google.colab.kernel.accessAllowed ? 'block' : 'none';\n",
              "\n",
              "        async function convertToInteractive(key) {\n",
              "          const element = document.querySelector('#df-85059cee-f847-4bc9-8558-f33cde0e6a7a');\n",
              "          const dataTable =\n",
              "            await google.colab.kernel.invokeFunction('convertToInteractive',\n",
              "                                                     [key], {});\n",
              "          if (!dataTable) return;\n",
              "\n",
              "          const docLinkHtml = 'Like what you see? Visit the ' +\n",
              "            '<a target=\"_blank\" href=https://colab.research.google.com/notebooks/data_table.ipynb>data table notebook</a>'\n",
              "            + ' to learn more about interactive tables.';\n",
              "          element.innerHTML = '';\n",
              "          dataTable['output_type'] = 'display_data';\n",
              "          await google.colab.output.renderOutput(dataTable, element);\n",
              "          const docLink = document.createElement('div');\n",
              "          docLink.innerHTML = docLinkHtml;\n",
              "          element.appendChild(docLink);\n",
              "        }\n",
              "      </script>\n",
              "    </div>\n",
              "  </div>\n",
              "  "
            ]
          },
          "metadata": {},
          "execution_count": 23
        }
      ]
    },
    {
      "cell_type": "code",
      "source": [
        "practice_set= practice_set[['nouns_adjec', 'stars_y']]"
      ],
      "metadata": {
        "id": "b1VqNTPNCE9l"
      },
      "execution_count": 24,
      "outputs": []
    },
    {
      "cell_type": "code",
      "source": [
        "\n",
        "practice_set = practice_set.reset_index()"
      ],
      "metadata": {
        "id": "FgoAECoyCbJ8"
      },
      "execution_count": 7,
      "outputs": []
    },
    {
      "cell_type": "code",
      "source": [
        "practice_set"
      ],
      "metadata": {
        "colab": {
          "base_uri": "https://localhost:8080/",
          "height": 520
        },
        "id": "iON7iAtH_g5-",
        "outputId": "febb15e0-9f32-4cdc-bc66-ec4836d40afa"
      },
      "execution_count": 25,
      "outputs": [
        {
          "output_type": "execute_result",
          "data": {
            "text/plain": [
              "                                                                                                                                                                                                                                                                                                                                                                                                                                                                                                                                  nouns_adjec  \\\n",
              "0                                                                                                                                                                                                                                              'heart', 'philadelphia', 'female', 'cashier', 'pastry', 'show', 'display', 'case', 'evening', 'sesame', 'ball', 'paste', 'rice', 'ball', 'bai', 'tang', 'gao', 'area''nice', 'little', 'bakery', 'chinatown', 'flirtatious', 'adorn', 'fill', 'bean', 'glutinous', 'similar', 'place', 'worth'   \n",
              "1                                                                                                                                                                       'bakery', 'variety', 'bun', 'pastry', 'bun', 'mung', 'coconut', 'stuff', 'egg', 'tart', 'dozen', 'price', 'standard', 'thing', 'service', 'serve', 'coffee', 'tea', 'couple', 'group', 'guy', 'chillin', 'corner', 'debate', 'something', 'place', 'stock', 'bun', 'town''chinatown', 'decent', 'beanfilled', 'bun', 'free', 'good', 'table', 'old', 'table', 'great'   \n",
              "2                                                                                                                                                                                                                                                                                                                                                                                  'kind', 'service', 'everyone', 'treat', 'treat', 'judgement', 'theyre', 'favorite''delightful', 'chinatown', 'clean', 'happy', 'delicious', 'ton', 'sweet'   \n",
              "3                                                                                                                                                                                                                                                                                                                                                                                                                                                 'order', 'graduation', 'event', 'staff', 'nice''niece', 'perfect', 'come', 'future', 'good'   \n",
              "4      'milk', 'saint', 'honore', 'pastry', 'business', 'boyfriend', 'time', 'cross', 'mind', 'try', 'think', 'year', 'try', 'hkstyle', 'milk', 'tea', 'hook', 'think', 'day', 'week', 'milk', 'tea', 'sugar', 'i', 'zhong', 'gang', 'milk', 'day', 'ice', 'ice', 'etc', 'note', 'try', 'crispy', 'roast', 'pork', 'bun', 'name', 'pork', 'bun', 'crispy', 'roast', 'pork', 'bun''hkstyle', 'sure', 'memorable', 'decide', 'watch', 'good', 'good', 'hkstyle', 'certain', 'lady', 'enough', 'much', 'side', 'wrong', 'roast', 'decent', 'try'   \n",
              "...                                                                                                                                                                                                                                                                                                                                                                                                                                                                                                                                       ...   \n",
              "67359                                                                                                                                                                                                                                                                                                                                                                                 'coffee', 'shop', 'work', 'price', 'variety', 'beverage', 'cold', 'choose', 'selection', 'something', 'eat''cute', 'low', 'nice', 'hot', 'seem', 'nice'   \n",
              "67360                                                                                                                                                                                                                                                                                                                                                                                                  'cash', 'coffee', 'spot', 'cozy', 'spot', 'coffee', 'medium', 'latte', 'get', 'time', 'part''nice', 'invite', 'pick', 'ordered', 'bad'   \n",
              "67361                                                                                                                                                                                                                                                                                                                                                                                       'hand', 'ice', 'coffee', 'terrific', 'guy', 'counter', 'try', 'apartment', 'bella', 'vista', 'place', 'vote', 'apartment', 'good''freak', 'close'   \n",
              "67362                                                                                                                                              'place', 'chill', 'corner', 'coffee', 'shop', 'baristaowner', 'neighborhood', 'order', 'tea', 'afternoon', 'jerk', 'get', 'anyway', 'say', 'day', 'judgment', 'pushiness', 'pastry', 'nothing', 'complain', 'chair''great', 'super', 'nonpretentious', 'friendly', 'iced', 'free', 'wifi', 'im', 'know', 'im', 'cheap', 'comfortable', 'awesome', 'great', 'little', 'comfortable', 'much'   \n",
              "67363                                                                                                                                                                                                                                                                                                                                                                                                                   'neighborhood', 'gem', 'owner', 'guy', 'place', 'spot', 'hang', 'work', 'coffee''super', 'nice', 'great', 'delicious'   \n",
              "\n",
              "       stars_y  \n",
              "0            4  \n",
              "1            4  \n",
              "2            5  \n",
              "3            5  \n",
              "4            4  \n",
              "...        ...  \n",
              "67359        5  \n",
              "67360        3  \n",
              "67361        5  \n",
              "67362        5  \n",
              "67363        4  \n",
              "\n",
              "[65698 rows x 2 columns]"
            ],
            "text/html": [
              "\n",
              "  <div id=\"df-347595ae-bbc2-4af5-bb67-b852c3c03e77\">\n",
              "    <div class=\"colab-df-container\">\n",
              "      <div>\n",
              "<style scoped>\n",
              "    .dataframe tbody tr th:only-of-type {\n",
              "        vertical-align: middle;\n",
              "    }\n",
              "\n",
              "    .dataframe tbody tr th {\n",
              "        vertical-align: top;\n",
              "    }\n",
              "\n",
              "    .dataframe thead th {\n",
              "        text-align: right;\n",
              "    }\n",
              "</style>\n",
              "<table border=\"1\" class=\"dataframe\">\n",
              "  <thead>\n",
              "    <tr style=\"text-align: right;\">\n",
              "      <th></th>\n",
              "      <th>nouns_adjec</th>\n",
              "      <th>stars_y</th>\n",
              "    </tr>\n",
              "  </thead>\n",
              "  <tbody>\n",
              "    <tr>\n",
              "      <th>0</th>\n",
              "      <td>'heart', 'philadelphia', 'female', 'cashier', 'pastry', 'show', 'display', 'case', 'evening', 'sesame', 'ball', 'paste', 'rice', 'ball', 'bai', 'tang', 'gao', 'area''nice', 'little', 'bakery', 'chinatown', 'flirtatious', 'adorn', 'fill', 'bean', 'glutinous', 'similar', 'place', 'worth'</td>\n",
              "      <td>4</td>\n",
              "    </tr>\n",
              "    <tr>\n",
              "      <th>1</th>\n",
              "      <td>'bakery', 'variety', 'bun', 'pastry', 'bun', 'mung', 'coconut', 'stuff', 'egg', 'tart', 'dozen', 'price', 'standard', 'thing', 'service', 'serve', 'coffee', 'tea', 'couple', 'group', 'guy', 'chillin', 'corner', 'debate', 'something', 'place', 'stock', 'bun', 'town''chinatown', 'decent', 'beanfilled', 'bun', 'free', 'good', 'table', 'old', 'table', 'great'</td>\n",
              "      <td>4</td>\n",
              "    </tr>\n",
              "    <tr>\n",
              "      <th>2</th>\n",
              "      <td>'kind', 'service', 'everyone', 'treat', 'treat', 'judgement', 'theyre', 'favorite''delightful', 'chinatown', 'clean', 'happy', 'delicious', 'ton', 'sweet'</td>\n",
              "      <td>5</td>\n",
              "    </tr>\n",
              "    <tr>\n",
              "      <th>3</th>\n",
              "      <td>'order', 'graduation', 'event', 'staff', 'nice''niece', 'perfect', 'come', 'future', 'good'</td>\n",
              "      <td>5</td>\n",
              "    </tr>\n",
              "    <tr>\n",
              "      <th>4</th>\n",
              "      <td>'milk', 'saint', 'honore', 'pastry', 'business', 'boyfriend', 'time', 'cross', 'mind', 'try', 'think', 'year', 'try', 'hkstyle', 'milk', 'tea', 'hook', 'think', 'day', 'week', 'milk', 'tea', 'sugar', 'i', 'zhong', 'gang', 'milk', 'day', 'ice', 'ice', 'etc', 'note', 'try', 'crispy', 'roast', 'pork', 'bun', 'name', 'pork', 'bun', 'crispy', 'roast', 'pork', 'bun''hkstyle', 'sure', 'memorable', 'decide', 'watch', 'good', 'good', 'hkstyle', 'certain', 'lady', 'enough', 'much', 'side', 'wrong', 'roast', 'decent', 'try'</td>\n",
              "      <td>4</td>\n",
              "    </tr>\n",
              "    <tr>\n",
              "      <th>...</th>\n",
              "      <td>...</td>\n",
              "      <td>...</td>\n",
              "    </tr>\n",
              "    <tr>\n",
              "      <th>67359</th>\n",
              "      <td>'coffee', 'shop', 'work', 'price', 'variety', 'beverage', 'cold', 'choose', 'selection', 'something', 'eat''cute', 'low', 'nice', 'hot', 'seem', 'nice'</td>\n",
              "      <td>5</td>\n",
              "    </tr>\n",
              "    <tr>\n",
              "      <th>67360</th>\n",
              "      <td>'cash', 'coffee', 'spot', 'cozy', 'spot', 'coffee', 'medium', 'latte', 'get', 'time', 'part''nice', 'invite', 'pick', 'ordered', 'bad'</td>\n",
              "      <td>3</td>\n",
              "    </tr>\n",
              "    <tr>\n",
              "      <th>67361</th>\n",
              "      <td>'hand', 'ice', 'coffee', 'terrific', 'guy', 'counter', 'try', 'apartment', 'bella', 'vista', 'place', 'vote', 'apartment', 'good''freak', 'close'</td>\n",
              "      <td>5</td>\n",
              "    </tr>\n",
              "    <tr>\n",
              "      <th>67362</th>\n",
              "      <td>'place', 'chill', 'corner', 'coffee', 'shop', 'baristaowner', 'neighborhood', 'order', 'tea', 'afternoon', 'jerk', 'get', 'anyway', 'say', 'day', 'judgment', 'pushiness', 'pastry', 'nothing', 'complain', 'chair''great', 'super', 'nonpretentious', 'friendly', 'iced', 'free', 'wifi', 'im', 'know', 'im', 'cheap', 'comfortable', 'awesome', 'great', 'little', 'comfortable', 'much'</td>\n",
              "      <td>5</td>\n",
              "    </tr>\n",
              "    <tr>\n",
              "      <th>67363</th>\n",
              "      <td>'neighborhood', 'gem', 'owner', 'guy', 'place', 'spot', 'hang', 'work', 'coffee''super', 'nice', 'great', 'delicious'</td>\n",
              "      <td>4</td>\n",
              "    </tr>\n",
              "  </tbody>\n",
              "</table>\n",
              "<p>65698 rows × 2 columns</p>\n",
              "</div>\n",
              "      <button class=\"colab-df-convert\" onclick=\"convertToInteractive('df-347595ae-bbc2-4af5-bb67-b852c3c03e77')\"\n",
              "              title=\"Convert this dataframe to an interactive table.\"\n",
              "              style=\"display:none;\">\n",
              "        \n",
              "  <svg xmlns=\"http://www.w3.org/2000/svg\" height=\"24px\"viewBox=\"0 0 24 24\"\n",
              "       width=\"24px\">\n",
              "    <path d=\"M0 0h24v24H0V0z\" fill=\"none\"/>\n",
              "    <path d=\"M18.56 5.44l.94 2.06.94-2.06 2.06-.94-2.06-.94-.94-2.06-.94 2.06-2.06.94zm-11 1L8.5 8.5l.94-2.06 2.06-.94-2.06-.94L8.5 2.5l-.94 2.06-2.06.94zm10 10l.94 2.06.94-2.06 2.06-.94-2.06-.94-.94-2.06-.94 2.06-2.06.94z\"/><path d=\"M17.41 7.96l-1.37-1.37c-.4-.4-.92-.59-1.43-.59-.52 0-1.04.2-1.43.59L10.3 9.45l-7.72 7.72c-.78.78-.78 2.05 0 2.83L4 21.41c.39.39.9.59 1.41.59.51 0 1.02-.2 1.41-.59l7.78-7.78 2.81-2.81c.8-.78.8-2.07 0-2.86zM5.41 20L4 18.59l7.72-7.72 1.47 1.35L5.41 20z\"/>\n",
              "  </svg>\n",
              "      </button>\n",
              "      \n",
              "  <style>\n",
              "    .colab-df-container {\n",
              "      display:flex;\n",
              "      flex-wrap:wrap;\n",
              "      gap: 12px;\n",
              "    }\n",
              "\n",
              "    .colab-df-convert {\n",
              "      background-color: #E8F0FE;\n",
              "      border: none;\n",
              "      border-radius: 50%;\n",
              "      cursor: pointer;\n",
              "      display: none;\n",
              "      fill: #1967D2;\n",
              "      height: 32px;\n",
              "      padding: 0 0 0 0;\n",
              "      width: 32px;\n",
              "    }\n",
              "\n",
              "    .colab-df-convert:hover {\n",
              "      background-color: #E2EBFA;\n",
              "      box-shadow: 0px 1px 2px rgba(60, 64, 67, 0.3), 0px 1px 3px 1px rgba(60, 64, 67, 0.15);\n",
              "      fill: #174EA6;\n",
              "    }\n",
              "\n",
              "    [theme=dark] .colab-df-convert {\n",
              "      background-color: #3B4455;\n",
              "      fill: #D2E3FC;\n",
              "    }\n",
              "\n",
              "    [theme=dark] .colab-df-convert:hover {\n",
              "      background-color: #434B5C;\n",
              "      box-shadow: 0px 1px 3px 1px rgba(0, 0, 0, 0.15);\n",
              "      filter: drop-shadow(0px 1px 2px rgba(0, 0, 0, 0.3));\n",
              "      fill: #FFFFFF;\n",
              "    }\n",
              "  </style>\n",
              "\n",
              "      <script>\n",
              "        const buttonEl =\n",
              "          document.querySelector('#df-347595ae-bbc2-4af5-bb67-b852c3c03e77 button.colab-df-convert');\n",
              "        buttonEl.style.display =\n",
              "          google.colab.kernel.accessAllowed ? 'block' : 'none';\n",
              "\n",
              "        async function convertToInteractive(key) {\n",
              "          const element = document.querySelector('#df-347595ae-bbc2-4af5-bb67-b852c3c03e77');\n",
              "          const dataTable =\n",
              "            await google.colab.kernel.invokeFunction('convertToInteractive',\n",
              "                                                     [key], {});\n",
              "          if (!dataTable) return;\n",
              "\n",
              "          const docLinkHtml = 'Like what you see? Visit the ' +\n",
              "            '<a target=\"_blank\" href=https://colab.research.google.com/notebooks/data_table.ipynb>data table notebook</a>'\n",
              "            + ' to learn more about interactive tables.';\n",
              "          element.innerHTML = '';\n",
              "          dataTable['output_type'] = 'display_data';\n",
              "          await google.colab.output.renderOutput(dataTable, element);\n",
              "          const docLink = document.createElement('div');\n",
              "          docLink.innerHTML = docLinkHtml;\n",
              "          element.appendChild(docLink);\n",
              "        }\n",
              "      </script>\n",
              "    </div>\n",
              "  </div>\n",
              "  "
            ]
          },
          "metadata": {},
          "execution_count": 25
        }
      ]
    },
    {
      "cell_type": "code",
      "source": [
        "#idea from https://www.youtube.com/watch?v=Fuw0wv3X-0o\n",
        "import numpy as np\n",
        "from tensorflow.keras.preprocessing.text import one_hot\n",
        "from tensorflow.keras.preprocessing.sequence import pad_sequences\n",
        "from tensorflow.keras.models import Sequential\n",
        "from tensorflow.keras.layers import Dense\n",
        "from tensorflow.keras.layers import Flatten\n",
        "from tensorflow.keras.layers import Embedding"
      ],
      "metadata": {
        "id": "DsOv6K47DJLe"
      },
      "execution_count": 26,
      "outputs": []
    },
    {
      "cell_type": "code",
      "source": [
        "#convert\n",
        "practice_set['nouns_adjec']= practice_set['nouns_adjec'].astype(str)"
      ],
      "metadata": {
        "id": "JeRgBLT9Dwo2",
        "colab": {
          "base_uri": "https://localhost:8080/"
        },
        "outputId": "956cd7ba-e4d6-45a3-c55c-dff8cf601ef7"
      },
      "execution_count": 27,
      "outputs": [
        {
          "output_type": "stream",
          "name": "stderr",
          "text": [
            "<ipython-input-27-5f837cc53c80>:2: SettingWithCopyWarning: \n",
            "A value is trying to be set on a copy of a slice from a DataFrame.\n",
            "Try using .loc[row_indexer,col_indexer] = value instead\n",
            "\n",
            "See the caveats in the documentation: https://pandas.pydata.org/pandas-docs/stable/user_guide/indexing.html#returning-a-view-versus-a-copy\n",
            "  practice_set['nouns_adjec']= practice_set['nouns_adjec'].astype(str)\n"
          ]
        }
      ]
    },
    {
      "cell_type": "code",
      "source": [
        "pd.set_option(\"max_colwidth\", None)"
      ],
      "metadata": {
        "id": "kfCvwsaa0H8P"
      },
      "execution_count": 28,
      "outputs": []
    },
    {
      "cell_type": "code",
      "source": [
        "practice_set.info()"
      ],
      "metadata": {
        "id": "1dF2LqSzEgH3",
        "colab": {
          "base_uri": "https://localhost:8080/"
        },
        "outputId": "09ddc104-9b5d-4ced-bdeb-ea71f18d7c23"
      },
      "execution_count": 29,
      "outputs": [
        {
          "output_type": "stream",
          "name": "stdout",
          "text": [
            "<class 'pandas.core.frame.DataFrame'>\n",
            "Int64Index: 65698 entries, 0 to 67363\n",
            "Data columns (total 2 columns):\n",
            " #   Column       Non-Null Count  Dtype \n",
            "---  ------       --------------  ----- \n",
            " 0   nouns_adjec  65698 non-null  object\n",
            " 1   stars_y      65698 non-null  int64 \n",
            "dtypes: int64(1), object(1)\n",
            "memory usage: 1.5+ MB\n"
          ]
        }
      ]
    },
    {
      "cell_type": "code",
      "source": [
        "practice_set['nouns_adjec']"
      ],
      "metadata": {
        "colab": {
          "base_uri": "https://localhost:8080/"
        },
        "id": "YfTfo-6R0vRx",
        "outputId": "4e1dcf73-b2ab-41c4-813b-3d569ad58d83"
      },
      "execution_count": 30,
      "outputs": [
        {
          "output_type": "execute_result",
          "data": {
            "text/plain": [
              "0                                                                                                                                                                                                                                                'heart', 'philadelphia', 'female', 'cashier', 'pastry', 'show', 'display', 'case', 'evening', 'sesame', 'ball', 'paste', 'rice', 'ball', 'bai', 'tang', 'gao', 'area''nice', 'little', 'bakery', 'chinatown', 'flirtatious', 'adorn', 'fill', 'bean', 'glutinous', 'similar', 'place', 'worth'\n",
              "1                                                                                                                                                                         'bakery', 'variety', 'bun', 'pastry', 'bun', 'mung', 'coconut', 'stuff', 'egg', 'tart', 'dozen', 'price', 'standard', 'thing', 'service', 'serve', 'coffee', 'tea', 'couple', 'group', 'guy', 'chillin', 'corner', 'debate', 'something', 'place', 'stock', 'bun', 'town''chinatown', 'decent', 'beanfilled', 'bun', 'free', 'good', 'table', 'old', 'table', 'great'\n",
              "2                                                                                                                                                                                                                                                                                                                                                                                    'kind', 'service', 'everyone', 'treat', 'treat', 'judgement', 'theyre', 'favorite''delightful', 'chinatown', 'clean', 'happy', 'delicious', 'ton', 'sweet'\n",
              "3                                                                                                                                                                                                                                                                                                                                                                                                                                                   'order', 'graduation', 'event', 'staff', 'nice''niece', 'perfect', 'come', 'future', 'good'\n",
              "4        'milk', 'saint', 'honore', 'pastry', 'business', 'boyfriend', 'time', 'cross', 'mind', 'try', 'think', 'year', 'try', 'hkstyle', 'milk', 'tea', 'hook', 'think', 'day', 'week', 'milk', 'tea', 'sugar', 'i', 'zhong', 'gang', 'milk', 'day', 'ice', 'ice', 'etc', 'note', 'try', 'crispy', 'roast', 'pork', 'bun', 'name', 'pork', 'bun', 'crispy', 'roast', 'pork', 'bun''hkstyle', 'sure', 'memorable', 'decide', 'watch', 'good', 'good', 'hkstyle', 'certain', 'lady', 'enough', 'much', 'side', 'wrong', 'roast', 'decent', 'try'\n",
              "                                                                                                                                                                                                                                                                          ...                                                                                                                                                                                                                                                                  \n",
              "67359                                                                                                                                                                                                                                                                                                                                                                                   'coffee', 'shop', 'work', 'price', 'variety', 'beverage', 'cold', 'choose', 'selection', 'something', 'eat''cute', 'low', 'nice', 'hot', 'seem', 'nice'\n",
              "67360                                                                                                                                                                                                                                                                                                                                                                                                    'cash', 'coffee', 'spot', 'cozy', 'spot', 'coffee', 'medium', 'latte', 'get', 'time', 'part''nice', 'invite', 'pick', 'ordered', 'bad'\n",
              "67361                                                                                                                                                                                                                                                                                                                                                                                         'hand', 'ice', 'coffee', 'terrific', 'guy', 'counter', 'try', 'apartment', 'bella', 'vista', 'place', 'vote', 'apartment', 'good''freak', 'close'\n",
              "67362                                                                                                                                                'place', 'chill', 'corner', 'coffee', 'shop', 'baristaowner', 'neighborhood', 'order', 'tea', 'afternoon', 'jerk', 'get', 'anyway', 'say', 'day', 'judgment', 'pushiness', 'pastry', 'nothing', 'complain', 'chair''great', 'super', 'nonpretentious', 'friendly', 'iced', 'free', 'wifi', 'im', 'know', 'im', 'cheap', 'comfortable', 'awesome', 'great', 'little', 'comfortable', 'much'\n",
              "67363                                                                                                                                                                                                                                                                                                                                                                                                                     'neighborhood', 'gem', 'owner', 'guy', 'place', 'spot', 'hang', 'work', 'coffee''super', 'nice', 'great', 'delicious'\n",
              "Name: nouns_adjec, Length: 65698, dtype: object"
            ]
          },
          "metadata": {},
          "execution_count": 30
        }
      ]
    },
    {
      "cell_type": "code",
      "source": [
        "practice_set['nouns_adjec'] = practice_set['nouns_adjec'].astype(str).apply(lambda x: x.replace('\"', ''))"
      ],
      "metadata": {
        "id": "dppodKn6FV02",
        "colab": {
          "base_uri": "https://localhost:8080/"
        },
        "outputId": "b73dd2ee-1345-407a-9708-96529c1d74c6"
      },
      "execution_count": 31,
      "outputs": [
        {
          "output_type": "stream",
          "name": "stderr",
          "text": [
            "<ipython-input-31-4933b39ab411>:1: SettingWithCopyWarning: \n",
            "A value is trying to be set on a copy of a slice from a DataFrame.\n",
            "Try using .loc[row_indexer,col_indexer] = value instead\n",
            "\n",
            "See the caveats in the documentation: https://pandas.pydata.org/pandas-docs/stable/user_guide/indexing.html#returning-a-view-versus-a-copy\n",
            "  practice_set['nouns_adjec'] = practice_set['nouns_adjec'].astype(str).apply(lambda x: x.replace('\"', ''))\n"
          ]
        }
      ]
    },
    {
      "cell_type": "code",
      "source": [
        "practice_set['nouns_adjec'] = practice_set['nouns_adjec'].apply(lambda x: x.replace('[', ''))\n",
        "practice_set['nouns_adjec'] = practice_set['nouns_adjec'].apply(lambda x: x.replace(']', ''))\n",
        "practice_set['nouns_adjec'] = practice_set['nouns_adjec'].apply(lambda x: x.replace(',', ''))\n",
        "practice_set['nouns_adjec'] =practice_set['nouns_adjec'].apply(lambda x: x.replace(\", '\", \"'\"))\n",
        "practice_set['nouns_adjec'] =practice_set['nouns_adjec'].apply(lambda x: x.replace(\"'\", \"\"))"
      ],
      "metadata": {
        "id": "uWpmuHM9kFBz",
        "colab": {
          "base_uri": "https://localhost:8080/"
        },
        "outputId": "81544dea-e586-488e-c2f7-1c38d0a8b0a2"
      },
      "execution_count": 32,
      "outputs": [
        {
          "output_type": "stream",
          "name": "stderr",
          "text": [
            "<ipython-input-32-63d9651a53b3>:1: SettingWithCopyWarning: \n",
            "A value is trying to be set on a copy of a slice from a DataFrame.\n",
            "Try using .loc[row_indexer,col_indexer] = value instead\n",
            "\n",
            "See the caveats in the documentation: https://pandas.pydata.org/pandas-docs/stable/user_guide/indexing.html#returning-a-view-versus-a-copy\n",
            "  practice_set['nouns_adjec'] = practice_set['nouns_adjec'].apply(lambda x: x.replace('[', ''))\n",
            "<ipython-input-32-63d9651a53b3>:2: SettingWithCopyWarning: \n",
            "A value is trying to be set on a copy of a slice from a DataFrame.\n",
            "Try using .loc[row_indexer,col_indexer] = value instead\n",
            "\n",
            "See the caveats in the documentation: https://pandas.pydata.org/pandas-docs/stable/user_guide/indexing.html#returning-a-view-versus-a-copy\n",
            "  practice_set['nouns_adjec'] = practice_set['nouns_adjec'].apply(lambda x: x.replace(']', ''))\n",
            "<ipython-input-32-63d9651a53b3>:3: SettingWithCopyWarning: \n",
            "A value is trying to be set on a copy of a slice from a DataFrame.\n",
            "Try using .loc[row_indexer,col_indexer] = value instead\n",
            "\n",
            "See the caveats in the documentation: https://pandas.pydata.org/pandas-docs/stable/user_guide/indexing.html#returning-a-view-versus-a-copy\n",
            "  practice_set['nouns_adjec'] = practice_set['nouns_adjec'].apply(lambda x: x.replace(',', ''))\n",
            "<ipython-input-32-63d9651a53b3>:4: SettingWithCopyWarning: \n",
            "A value is trying to be set on a copy of a slice from a DataFrame.\n",
            "Try using .loc[row_indexer,col_indexer] = value instead\n",
            "\n",
            "See the caveats in the documentation: https://pandas.pydata.org/pandas-docs/stable/user_guide/indexing.html#returning-a-view-versus-a-copy\n",
            "  practice_set['nouns_adjec'] =practice_set['nouns_adjec'].apply(lambda x: x.replace(\", '\", \"'\"))\n",
            "<ipython-input-32-63d9651a53b3>:5: SettingWithCopyWarning: \n",
            "A value is trying to be set on a copy of a slice from a DataFrame.\n",
            "Try using .loc[row_indexer,col_indexer] = value instead\n",
            "\n",
            "See the caveats in the documentation: https://pandas.pydata.org/pandas-docs/stable/user_guide/indexing.html#returning-a-view-versus-a-copy\n",
            "  practice_set['nouns_adjec'] =practice_set['nouns_adjec'].apply(lambda x: x.replace(\"'\", \"\"))\n"
          ]
        }
      ]
    },
    {
      "cell_type": "code",
      "source": [
        "practice_set"
      ],
      "metadata": {
        "colab": {
          "base_uri": "https://localhost:8080/",
          "height": 502
        },
        "id": "StbXtLLgHAI1",
        "outputId": "dbbc989a-6cc3-4c8c-8f73-6ca5595e3c74"
      },
      "execution_count": 33,
      "outputs": [
        {
          "output_type": "execute_result",
          "data": {
            "text/plain": [
              "                                                                                                                                                                                                                                                                                                                                             nouns_adjec  \\\n",
              "0                                                                                                                                                 heart philadelphia female cashier pastry show display case evening sesame ball paste rice ball bai tang gao areanice little bakery chinatown flirtatious adorn fill bean glutinous similar place worth   \n",
              "1                                                                                                     bakery variety bun pastry bun mung coconut stuff egg tart dozen price standard thing service serve coffee tea couple group guy chillin corner debate something place stock bun townchinatown decent beanfilled bun free good table old table great   \n",
              "2                                                                                                                                                                                                                                        kind service everyone treat treat judgement theyre favoritedelightful chinatown clean happy delicious ton sweet   \n",
              "3                                                                                                                                                                                                                                                                                        order graduation event staff niceniece perfect come future good   \n",
              "4      milk saint honore pastry business boyfriend time cross mind try think year try hkstyle milk tea hook think day week milk tea sugar i zhong gang milk day ice ice etc note try crispy roast pork bun name pork bun crispy roast pork bunhkstyle sure memorable decide watch good good hkstyle certain lady enough much side wrong roast decent try   \n",
              "...                                                                                                                                                                                                                                                                                                                                                  ...   \n",
              "67359                                                                                                                                                                                                                                             coffee shop work price variety beverage cold choose selection something eatcute low nice hot seem nice   \n",
              "67360                                                                                                                                                                                                                                                           cash coffee spot cozy spot coffee medium latte get time partnice invite pick ordered bad   \n",
              "67361                                                                                                                                                                                                                                                hand ice coffee terrific guy counter try apartment bella vista place vote apartment goodfreak close   \n",
              "67362                                                                         place chill corner coffee shop baristaowner neighborhood order tea afternoon jerk get anyway say day judgment pushiness pastry nothing complain chairgreat super nonpretentious friendly iced free wifi im know im cheap comfortable awesome great little comfortable much   \n",
              "67363                                                                                                                                                                                                                                                                   neighborhood gem owner guy place spot hang work coffeesuper nice great delicious   \n",
              "\n",
              "       stars_y  \n",
              "0            4  \n",
              "1            4  \n",
              "2            5  \n",
              "3            5  \n",
              "4            4  \n",
              "...        ...  \n",
              "67359        5  \n",
              "67360        3  \n",
              "67361        5  \n",
              "67362        5  \n",
              "67363        4  \n",
              "\n",
              "[65698 rows x 2 columns]"
            ],
            "text/html": [
              "\n",
              "  <div id=\"df-9942498c-edc7-4712-86b8-36068e4eaa83\">\n",
              "    <div class=\"colab-df-container\">\n",
              "      <div>\n",
              "<style scoped>\n",
              "    .dataframe tbody tr th:only-of-type {\n",
              "        vertical-align: middle;\n",
              "    }\n",
              "\n",
              "    .dataframe tbody tr th {\n",
              "        vertical-align: top;\n",
              "    }\n",
              "\n",
              "    .dataframe thead th {\n",
              "        text-align: right;\n",
              "    }\n",
              "</style>\n",
              "<table border=\"1\" class=\"dataframe\">\n",
              "  <thead>\n",
              "    <tr style=\"text-align: right;\">\n",
              "      <th></th>\n",
              "      <th>nouns_adjec</th>\n",
              "      <th>stars_y</th>\n",
              "    </tr>\n",
              "  </thead>\n",
              "  <tbody>\n",
              "    <tr>\n",
              "      <th>0</th>\n",
              "      <td>heart philadelphia female cashier pastry show display case evening sesame ball paste rice ball bai tang gao areanice little bakery chinatown flirtatious adorn fill bean glutinous similar place worth</td>\n",
              "      <td>4</td>\n",
              "    </tr>\n",
              "    <tr>\n",
              "      <th>1</th>\n",
              "      <td>bakery variety bun pastry bun mung coconut stuff egg tart dozen price standard thing service serve coffee tea couple group guy chillin corner debate something place stock bun townchinatown decent beanfilled bun free good table old table great</td>\n",
              "      <td>4</td>\n",
              "    </tr>\n",
              "    <tr>\n",
              "      <th>2</th>\n",
              "      <td>kind service everyone treat treat judgement theyre favoritedelightful chinatown clean happy delicious ton sweet</td>\n",
              "      <td>5</td>\n",
              "    </tr>\n",
              "    <tr>\n",
              "      <th>3</th>\n",
              "      <td>order graduation event staff niceniece perfect come future good</td>\n",
              "      <td>5</td>\n",
              "    </tr>\n",
              "    <tr>\n",
              "      <th>4</th>\n",
              "      <td>milk saint honore pastry business boyfriend time cross mind try think year try hkstyle milk tea hook think day week milk tea sugar i zhong gang milk day ice ice etc note try crispy roast pork bun name pork bun crispy roast pork bunhkstyle sure memorable decide watch good good hkstyle certain lady enough much side wrong roast decent try</td>\n",
              "      <td>4</td>\n",
              "    </tr>\n",
              "    <tr>\n",
              "      <th>...</th>\n",
              "      <td>...</td>\n",
              "      <td>...</td>\n",
              "    </tr>\n",
              "    <tr>\n",
              "      <th>67359</th>\n",
              "      <td>coffee shop work price variety beverage cold choose selection something eatcute low nice hot seem nice</td>\n",
              "      <td>5</td>\n",
              "    </tr>\n",
              "    <tr>\n",
              "      <th>67360</th>\n",
              "      <td>cash coffee spot cozy spot coffee medium latte get time partnice invite pick ordered bad</td>\n",
              "      <td>3</td>\n",
              "    </tr>\n",
              "    <tr>\n",
              "      <th>67361</th>\n",
              "      <td>hand ice coffee terrific guy counter try apartment bella vista place vote apartment goodfreak close</td>\n",
              "      <td>5</td>\n",
              "    </tr>\n",
              "    <tr>\n",
              "      <th>67362</th>\n",
              "      <td>place chill corner coffee shop baristaowner neighborhood order tea afternoon jerk get anyway say day judgment pushiness pastry nothing complain chairgreat super nonpretentious friendly iced free wifi im know im cheap comfortable awesome great little comfortable much</td>\n",
              "      <td>5</td>\n",
              "    </tr>\n",
              "    <tr>\n",
              "      <th>67363</th>\n",
              "      <td>neighborhood gem owner guy place spot hang work coffeesuper nice great delicious</td>\n",
              "      <td>4</td>\n",
              "    </tr>\n",
              "  </tbody>\n",
              "</table>\n",
              "<p>65698 rows × 2 columns</p>\n",
              "</div>\n",
              "      <button class=\"colab-df-convert\" onclick=\"convertToInteractive('df-9942498c-edc7-4712-86b8-36068e4eaa83')\"\n",
              "              title=\"Convert this dataframe to an interactive table.\"\n",
              "              style=\"display:none;\">\n",
              "        \n",
              "  <svg xmlns=\"http://www.w3.org/2000/svg\" height=\"24px\"viewBox=\"0 0 24 24\"\n",
              "       width=\"24px\">\n",
              "    <path d=\"M0 0h24v24H0V0z\" fill=\"none\"/>\n",
              "    <path d=\"M18.56 5.44l.94 2.06.94-2.06 2.06-.94-2.06-.94-.94-2.06-.94 2.06-2.06.94zm-11 1L8.5 8.5l.94-2.06 2.06-.94-2.06-.94L8.5 2.5l-.94 2.06-2.06.94zm10 10l.94 2.06.94-2.06 2.06-.94-2.06-.94-.94-2.06-.94 2.06-2.06.94z\"/><path d=\"M17.41 7.96l-1.37-1.37c-.4-.4-.92-.59-1.43-.59-.52 0-1.04.2-1.43.59L10.3 9.45l-7.72 7.72c-.78.78-.78 2.05 0 2.83L4 21.41c.39.39.9.59 1.41.59.51 0 1.02-.2 1.41-.59l7.78-7.78 2.81-2.81c.8-.78.8-2.07 0-2.86zM5.41 20L4 18.59l7.72-7.72 1.47 1.35L5.41 20z\"/>\n",
              "  </svg>\n",
              "      </button>\n",
              "      \n",
              "  <style>\n",
              "    .colab-df-container {\n",
              "      display:flex;\n",
              "      flex-wrap:wrap;\n",
              "      gap: 12px;\n",
              "    }\n",
              "\n",
              "    .colab-df-convert {\n",
              "      background-color: #E8F0FE;\n",
              "      border: none;\n",
              "      border-radius: 50%;\n",
              "      cursor: pointer;\n",
              "      display: none;\n",
              "      fill: #1967D2;\n",
              "      height: 32px;\n",
              "      padding: 0 0 0 0;\n",
              "      width: 32px;\n",
              "    }\n",
              "\n",
              "    .colab-df-convert:hover {\n",
              "      background-color: #E2EBFA;\n",
              "      box-shadow: 0px 1px 2px rgba(60, 64, 67, 0.3), 0px 1px 3px 1px rgba(60, 64, 67, 0.15);\n",
              "      fill: #174EA6;\n",
              "    }\n",
              "\n",
              "    [theme=dark] .colab-df-convert {\n",
              "      background-color: #3B4455;\n",
              "      fill: #D2E3FC;\n",
              "    }\n",
              "\n",
              "    [theme=dark] .colab-df-convert:hover {\n",
              "      background-color: #434B5C;\n",
              "      box-shadow: 0px 1px 3px 1px rgba(0, 0, 0, 0.15);\n",
              "      filter: drop-shadow(0px 1px 2px rgba(0, 0, 0, 0.3));\n",
              "      fill: #FFFFFF;\n",
              "    }\n",
              "  </style>\n",
              "\n",
              "      <script>\n",
              "        const buttonEl =\n",
              "          document.querySelector('#df-9942498c-edc7-4712-86b8-36068e4eaa83 button.colab-df-convert');\n",
              "        buttonEl.style.display =\n",
              "          google.colab.kernel.accessAllowed ? 'block' : 'none';\n",
              "\n",
              "        async function convertToInteractive(key) {\n",
              "          const element = document.querySelector('#df-9942498c-edc7-4712-86b8-36068e4eaa83');\n",
              "          const dataTable =\n",
              "            await google.colab.kernel.invokeFunction('convertToInteractive',\n",
              "                                                     [key], {});\n",
              "          if (!dataTable) return;\n",
              "\n",
              "          const docLinkHtml = 'Like what you see? Visit the ' +\n",
              "            '<a target=\"_blank\" href=https://colab.research.google.com/notebooks/data_table.ipynb>data table notebook</a>'\n",
              "            + ' to learn more about interactive tables.';\n",
              "          element.innerHTML = '';\n",
              "          dataTable['output_type'] = 'display_data';\n",
              "          await google.colab.output.renderOutput(dataTable, element);\n",
              "          const docLink = document.createElement('div');\n",
              "          docLink.innerHTML = docLinkHtml;\n",
              "          element.appendChild(docLink);\n",
              "        }\n",
              "      </script>\n",
              "    </div>\n",
              "  </div>\n",
              "  "
            ]
          },
          "metadata": {},
          "execution_count": 33
        }
      ]
    },
    {
      "cell_type": "code",
      "source": [
        "import nltk\n",
        "from gensim.models import Word2Vec, KeyedVectors\n"
      ],
      "metadata": {
        "id": "NllTx_scMjnC"
      },
      "execution_count": 34,
      "outputs": []
    },
    {
      "cell_type": "code",
      "source": [
        "nltk.download('punkt')"
      ],
      "metadata": {
        "id": "kZth_U5mM3-c",
        "colab": {
          "base_uri": "https://localhost:8080/"
        },
        "outputId": "a503d810-7baa-462c-89b7-bc4fe6710171"
      },
      "execution_count": 35,
      "outputs": [
        {
          "output_type": "stream",
          "name": "stderr",
          "text": [
            "[nltk_data] Downloading package punkt to /root/nltk_data...\n",
            "[nltk_data]   Package punkt is already up-to-date!\n"
          ]
        },
        {
          "output_type": "execute_result",
          "data": {
            "text/plain": [
              "True"
            ]
          },
          "metadata": {},
          "execution_count": 35
        }
      ]
    },
    {
      "cell_type": "code",
      "source": [
        "practice_set['nouns_adjec']"
      ],
      "metadata": {
        "colab": {
          "base_uri": "https://localhost:8080/"
        },
        "id": "NVWWxb7Mfmc9",
        "outputId": "9c56f5c1-adea-45d8-ff6e-63717a32882c"
      },
      "execution_count": 36,
      "outputs": [
        {
          "output_type": "execute_result",
          "data": {
            "text/plain": [
              "0                                                                                                                                                   heart philadelphia female cashier pastry show display case evening sesame ball paste rice ball bai tang gao areanice little bakery chinatown flirtatious adorn fill bean glutinous similar place worth\n",
              "1                                                                                                       bakery variety bun pastry bun mung coconut stuff egg tart dozen price standard thing service serve coffee tea couple group guy chillin corner debate something place stock bun townchinatown decent beanfilled bun free good table old table great\n",
              "2                                                                                                                                                                                                                                          kind service everyone treat treat judgement theyre favoritedelightful chinatown clean happy delicious ton sweet\n",
              "3                                                                                                                                                                                                                                                                                          order graduation event staff niceniece perfect come future good\n",
              "4        milk saint honore pastry business boyfriend time cross mind try think year try hkstyle milk tea hook think day week milk tea sugar i zhong gang milk day ice ice etc note try crispy roast pork bun name pork bun crispy roast pork bunhkstyle sure memorable decide watch good good hkstyle certain lady enough much side wrong roast decent try\n",
              "                                                                                                                                                                               ...                                                                                                                                                                        \n",
              "67359                                                                                                                                                                                                                                               coffee shop work price variety beverage cold choose selection something eatcute low nice hot seem nice\n",
              "67360                                                                                                                                                                                                                                                             cash coffee spot cozy spot coffee medium latte get time partnice invite pick ordered bad\n",
              "67361                                                                                                                                                                                                                                                  hand ice coffee terrific guy counter try apartment bella vista place vote apartment goodfreak close\n",
              "67362                                                                           place chill corner coffee shop baristaowner neighborhood order tea afternoon jerk get anyway say day judgment pushiness pastry nothing complain chairgreat super nonpretentious friendly iced free wifi im know im cheap comfortable awesome great little comfortable much\n",
              "67363                                                                                                                                                                                                                                                                     neighborhood gem owner guy place spot hang work coffeesuper nice great delicious\n",
              "Name: nouns_adjec, Length: 65698, dtype: object"
            ]
          },
          "metadata": {},
          "execution_count": 36
        }
      ]
    },
    {
      "cell_type": "code",
      "source": [
        "from nltk import word_tokenize\n",
        "nltk.download('punkt') "
      ],
      "metadata": {
        "id": "3r_ZhU_9sWMX",
        "colab": {
          "base_uri": "https://localhost:8080/"
        },
        "outputId": "83244c48-8ccd-4d62-a973-50eb421d6dd7"
      },
      "execution_count": 37,
      "outputs": [
        {
          "output_type": "stream",
          "name": "stderr",
          "text": [
            "[nltk_data] Downloading package punkt to /root/nltk_data...\n",
            "[nltk_data]   Package punkt is already up-to-date!\n"
          ]
        },
        {
          "output_type": "execute_result",
          "data": {
            "text/plain": [
              "True"
            ]
          },
          "metadata": {},
          "execution_count": 37
        }
      ]
    },
    {
      "cell_type": "code",
      "source": [
        "practice_set['nouns_adjec']= practice_set['nouns_adjec'].astype(str)"
      ],
      "metadata": {
        "colab": {
          "base_uri": "https://localhost:8080/"
        },
        "id": "17Vs6HunhHOJ",
        "outputId": "58a00d45-e86a-4d0b-f897-c8eaf9cd03c7"
      },
      "execution_count": 38,
      "outputs": [
        {
          "output_type": "stream",
          "name": "stderr",
          "text": [
            "<ipython-input-38-7285264f639a>:1: SettingWithCopyWarning: \n",
            "A value is trying to be set on a copy of a slice from a DataFrame.\n",
            "Try using .loc[row_indexer,col_indexer] = value instead\n",
            "\n",
            "See the caveats in the documentation: https://pandas.pydata.org/pandas-docs/stable/user_guide/indexing.html#returning-a-view-versus-a-copy\n",
            "  practice_set['nouns_adjec']= practice_set['nouns_adjec'].astype(str)\n"
          ]
        }
      ]
    },
    {
      "cell_type": "code",
      "source": [
        "corpus =  practice_set['nouns_adjec'].map(word_tokenize)\n"
      ],
      "metadata": {
        "id": "m4DUxWvvPJhC"
      },
      "execution_count": 39,
      "outputs": []
    },
    {
      "cell_type": "code",
      "source": [
        "corpus"
      ],
      "metadata": {
        "id": "nYIEeJJJw7C4",
        "outputId": "1cc3e85c-c341-4b0b-9802-ea659bf9aaa3",
        "colab": {
          "base_uri": "https://localhost:8080/"
        }
      },
      "execution_count": 41,
      "outputs": [
        {
          "output_type": "execute_result",
          "data": {
            "text/plain": [
              "0                                                                                                                                                                                  [heart, philadelphia, female, cashier, pastry, show, display, case, evening, sesame, ball, paste, rice, ball, bai, tang, gao, areanice, little, bakery, chinatown, flirtatious, adorn, fill, bean, glutinous, similar, place, worth]\n",
              "1                                                                                                                             [bakery, variety, bun, pastry, bun, mung, coconut, stuff, egg, tart, dozen, price, standard, thing, service, serve, coffee, tea, couple, group, guy, chillin, corner, debate, something, place, stock, bun, townchinatown, decent, beanfilled, bun, free, good, table, old, table, great]\n",
              "2                                                                                                                                                                                                                                                                                        [kind, service, everyone, treat, treat, judgement, theyre, favoritedelightful, chinatown, clean, happy, delicious, ton, sweet]\n",
              "3                                                                                                                                                                                                                                                                                                                                             [order, graduation, event, staff, niceniece, perfect, come, future, good]\n",
              "4        [milk, saint, honore, pastry, business, boyfriend, time, cross, mind, try, think, year, try, hkstyle, milk, tea, hook, think, day, week, milk, tea, sugar, i, zhong, gang, milk, day, ice, ice, etc, note, try, crispy, roast, pork, bun, name, pork, bun, crispy, roast, pork, bunhkstyle, sure, memorable, decide, watch, good, good, hkstyle, certain, lady, enough, much, side, wrong, roast, decent, try]\n",
              "                                                                                                                                                                                                              ...                                                                                                                                                                                                      \n",
              "67359                                                                                                                                                                                                                                                                                           [coffee, shop, work, price, variety, beverage, cold, choose, selection, something, eatcute, low, nice, hot, seem, nice]\n",
              "67360                                                                                                                                                                                                                                                                                                          [cash, coffee, spot, cozy, spot, coffee, medium, latte, get, time, partnice, invite, pick, ordered, bad]\n",
              "67361                                                                                                                                                                                                                                                                                               [hand, ice, coffee, terrific, guy, counter, try, apartment, bella, vista, place, vote, apartment, goodfreak, close]\n",
              "67362                                                                                                  [place, chill, corner, coffee, shop, baristaowner, neighborhood, order, tea, afternoon, jerk, get, anyway, say, day, judgment, pushiness, pastry, nothing, complain, chairgreat, super, nonpretentious, friendly, iced, free, wifi, im, know, im, cheap, comfortable, awesome, great, little, comfortable, much]\n",
              "67363                                                                                                                                                                                                                                                                                                                     [neighborhood, gem, owner, guy, place, spot, hang, work, coffeesuper, nice, great, delicious]\n",
              "Name: nouns_adjec, Length: 65698, dtype: object"
            ]
          },
          "metadata": {},
          "execution_count": 41
        }
      ]
    },
    {
      "cell_type": "code",
      "source": [
        "#min count = 1 for freq \n",
        "#vectorsize = 100 \n",
        "#windows = amount it will go left and right \n",
        "model = Word2Vec(corpus, size=300, min_count = 1, window = 10)"
      ],
      "metadata": {
        "id": "D_0Uvq4_PlQh"
      },
      "execution_count": 42,
      "outputs": []
    },
    {
      "cell_type": "code",
      "source": [
        "vocabulary = model.wv.vocab"
      ],
      "metadata": {
        "id": "kQnxQGGjRsKQ"
      },
      "execution_count": 43,
      "outputs": []
    },
    {
      "cell_type": "code",
      "source": [
        "vocabulary\n"
      ],
      "metadata": {
        "id": "VA0OXYPISSqM",
        "colab": {
          "base_uri": "https://localhost:8080/"
        },
        "outputId": "d9573416-d21d-4eec-d32f-7c1032a82f1d"
      },
      "execution_count": 44,
      "outputs": [
        {
          "output_type": "execute_result",
          "data": {
            "text/plain": [
              "{'heart': <gensim.models.keyedvectors.Vocab at 0x7f6b596d15e0>,\n",
              " 'philadelphia': <gensim.models.keyedvectors.Vocab at 0x7f6b596d16a0>,\n",
              " 'female': <gensim.models.keyedvectors.Vocab at 0x7f6b596d1700>,\n",
              " 'cashier': <gensim.models.keyedvectors.Vocab at 0x7f6b596d1610>,\n",
              " 'pastry': <gensim.models.keyedvectors.Vocab at 0x7f6b596d1550>,\n",
              " 'show': <gensim.models.keyedvectors.Vocab at 0x7f6b596d1640>,\n",
              " 'display': <gensim.models.keyedvectors.Vocab at 0x7f6b596d1820>,\n",
              " 'case': <gensim.models.keyedvectors.Vocab at 0x7f6b596d10d0>,\n",
              " 'evening': <gensim.models.keyedvectors.Vocab at 0x7f6b596d18b0>,\n",
              " 'sesame': <gensim.models.keyedvectors.Vocab at 0x7f6b596d1910>,\n",
              " 'ball': <gensim.models.keyedvectors.Vocab at 0x7f6b596d1970>,\n",
              " 'paste': <gensim.models.keyedvectors.Vocab at 0x7f6b596d19d0>,\n",
              " 'rice': <gensim.models.keyedvectors.Vocab at 0x7f6b596d1a00>,\n",
              " 'bai': <gensim.models.keyedvectors.Vocab at 0x7f6b596d1a90>,\n",
              " 'tang': <gensim.models.keyedvectors.Vocab at 0x7f6b596d1af0>,\n",
              " 'gao': <gensim.models.keyedvectors.Vocab at 0x7f6b596d1b50>,\n",
              " 'areanice': <gensim.models.keyedvectors.Vocab at 0x7f6b596d1be0>,\n",
              " 'little': <gensim.models.keyedvectors.Vocab at 0x7f6b596d1c40>,\n",
              " 'bakery': <gensim.models.keyedvectors.Vocab at 0x7f6b596d1ca0>,\n",
              " 'chinatown': <gensim.models.keyedvectors.Vocab at 0x7f6b596d1d30>,\n",
              " 'flirtatious': <gensim.models.keyedvectors.Vocab at 0x7f6b596d1d60>,\n",
              " 'adorn': <gensim.models.keyedvectors.Vocab at 0x7f6b596d1dc0>,\n",
              " 'fill': <gensim.models.keyedvectors.Vocab at 0x7f6b596d1e20>,\n",
              " 'bean': <gensim.models.keyedvectors.Vocab at 0x7f6b596d1e50>,\n",
              " 'glutinous': <gensim.models.keyedvectors.Vocab at 0x7f6b596d1eb0>,\n",
              " 'similar': <gensim.models.keyedvectors.Vocab at 0x7f6b596d1f10>,\n",
              " 'place': <gensim.models.keyedvectors.Vocab at 0x7f6b596d1f70>,\n",
              " 'worth': <gensim.models.keyedvectors.Vocab at 0x7f6b596d1fa0>,\n",
              " 'variety': <gensim.models.keyedvectors.Vocab at 0x7f6b5a3aa280>,\n",
              " 'bun': <gensim.models.keyedvectors.Vocab at 0x7f6b5a3aa4f0>,\n",
              " 'mung': <gensim.models.keyedvectors.Vocab at 0x7f6b5a3aa490>,\n",
              " 'coconut': <gensim.models.keyedvectors.Vocab at 0x7f6b5a3aa2e0>,\n",
              " 'stuff': <gensim.models.keyedvectors.Vocab at 0x7f6b5a3aa1c0>,\n",
              " 'egg': <gensim.models.keyedvectors.Vocab at 0x7f6b5a439df0>,\n",
              " 'tart': <gensim.models.keyedvectors.Vocab at 0x7f6b5a439e80>,\n",
              " 'dozen': <gensim.models.keyedvectors.Vocab at 0x7f6b5a3aebe0>,\n",
              " 'price': <gensim.models.keyedvectors.Vocab at 0x7f6b5a3aed30>,\n",
              " 'standard': <gensim.models.keyedvectors.Vocab at 0x7f6b5a3aee50>,\n",
              " 'thing': <gensim.models.keyedvectors.Vocab at 0x7f6b5a3aec40>,\n",
              " 'service': <gensim.models.keyedvectors.Vocab at 0x7f6b5a3aec70>,\n",
              " 'serve': <gensim.models.keyedvectors.Vocab at 0x7f6b5a3aeee0>,\n",
              " 'coffee': <gensim.models.keyedvectors.Vocab at 0x7f6b59677040>,\n",
              " 'tea': <gensim.models.keyedvectors.Vocab at 0x7f6b596770a0>,\n",
              " 'couple': <gensim.models.keyedvectors.Vocab at 0x7f6b59677100>,\n",
              " 'group': <gensim.models.keyedvectors.Vocab at 0x7f6b59677160>,\n",
              " 'guy': <gensim.models.keyedvectors.Vocab at 0x7f6b596771c0>,\n",
              " 'chillin': <gensim.models.keyedvectors.Vocab at 0x7f6b59677220>,\n",
              " 'corner': <gensim.models.keyedvectors.Vocab at 0x7f6b59677280>,\n",
              " 'debate': <gensim.models.keyedvectors.Vocab at 0x7f6b596772e0>,\n",
              " 'something': <gensim.models.keyedvectors.Vocab at 0x7f6b59677340>,\n",
              " 'stock': <gensim.models.keyedvectors.Vocab at 0x7f6b596773a0>,\n",
              " 'townchinatown': <gensim.models.keyedvectors.Vocab at 0x7f6b59677400>,\n",
              " 'decent': <gensim.models.keyedvectors.Vocab at 0x7f6b59677460>,\n",
              " 'beanfilled': <gensim.models.keyedvectors.Vocab at 0x7f6b596774c0>,\n",
              " 'free': <gensim.models.keyedvectors.Vocab at 0x7f6b59677520>,\n",
              " 'good': <gensim.models.keyedvectors.Vocab at 0x7f6b59677580>,\n",
              " 'table': <gensim.models.keyedvectors.Vocab at 0x7f6b596775e0>,\n",
              " 'old': <gensim.models.keyedvectors.Vocab at 0x7f6b59677640>,\n",
              " 'great': <gensim.models.keyedvectors.Vocab at 0x7f6b596776a0>,\n",
              " 'kind': <gensim.models.keyedvectors.Vocab at 0x7f6b59677700>,\n",
              " 'everyone': <gensim.models.keyedvectors.Vocab at 0x7f6b59677760>,\n",
              " 'treat': <gensim.models.keyedvectors.Vocab at 0x7f6b596777c0>,\n",
              " 'judgement': <gensim.models.keyedvectors.Vocab at 0x7f6b59677820>,\n",
              " 'theyre': <gensim.models.keyedvectors.Vocab at 0x7f6b59677880>,\n",
              " 'favoritedelightful': <gensim.models.keyedvectors.Vocab at 0x7f6b596778e0>,\n",
              " 'clean': <gensim.models.keyedvectors.Vocab at 0x7f6b59677940>,\n",
              " 'happy': <gensim.models.keyedvectors.Vocab at 0x7f6b596779a0>,\n",
              " 'delicious': <gensim.models.keyedvectors.Vocab at 0x7f6b59677a00>,\n",
              " 'ton': <gensim.models.keyedvectors.Vocab at 0x7f6b59677a60>,\n",
              " 'sweet': <gensim.models.keyedvectors.Vocab at 0x7f6b59677ac0>,\n",
              " 'order': <gensim.models.keyedvectors.Vocab at 0x7f6b59677b20>,\n",
              " 'graduation': <gensim.models.keyedvectors.Vocab at 0x7f6b59677b80>,\n",
              " 'event': <gensim.models.keyedvectors.Vocab at 0x7f6b59677be0>,\n",
              " 'staff': <gensim.models.keyedvectors.Vocab at 0x7f6b59677c40>,\n",
              " 'niceniece': <gensim.models.keyedvectors.Vocab at 0x7f6b59677ca0>,\n",
              " 'perfect': <gensim.models.keyedvectors.Vocab at 0x7f6b59677d00>,\n",
              " 'come': <gensim.models.keyedvectors.Vocab at 0x7f6b59677d60>,\n",
              " 'future': <gensim.models.keyedvectors.Vocab at 0x7f6b59677dc0>,\n",
              " 'milk': <gensim.models.keyedvectors.Vocab at 0x7f6b59677e20>,\n",
              " 'saint': <gensim.models.keyedvectors.Vocab at 0x7f6b59677e80>,\n",
              " 'honore': <gensim.models.keyedvectors.Vocab at 0x7f6b59677ee0>,\n",
              " 'business': <gensim.models.keyedvectors.Vocab at 0x7f6b59677f40>,\n",
              " 'boyfriend': <gensim.models.keyedvectors.Vocab at 0x7f6b59677fa0>,\n",
              " 'time': <gensim.models.keyedvectors.Vocab at 0x7f6b59675040>,\n",
              " 'cross': <gensim.models.keyedvectors.Vocab at 0x7f6b596750a0>,\n",
              " 'mind': <gensim.models.keyedvectors.Vocab at 0x7f6b59675100>,\n",
              " 'try': <gensim.models.keyedvectors.Vocab at 0x7f6b59675160>,\n",
              " 'think': <gensim.models.keyedvectors.Vocab at 0x7f6b596751c0>,\n",
              " 'year': <gensim.models.keyedvectors.Vocab at 0x7f6b59675220>,\n",
              " 'hkstyle': <gensim.models.keyedvectors.Vocab at 0x7f6b59675280>,\n",
              " 'hook': <gensim.models.keyedvectors.Vocab at 0x7f6b596752e0>,\n",
              " 'day': <gensim.models.keyedvectors.Vocab at 0x7f6b59675340>,\n",
              " 'week': <gensim.models.keyedvectors.Vocab at 0x7f6b596753a0>,\n",
              " 'sugar': <gensim.models.keyedvectors.Vocab at 0x7f6b59675400>,\n",
              " 'i': <gensim.models.keyedvectors.Vocab at 0x7f6b59675460>,\n",
              " 'zhong': <gensim.models.keyedvectors.Vocab at 0x7f6b596754c0>,\n",
              " 'gang': <gensim.models.keyedvectors.Vocab at 0x7f6b59675520>,\n",
              " 'ice': <gensim.models.keyedvectors.Vocab at 0x7f6b59675580>,\n",
              " 'etc': <gensim.models.keyedvectors.Vocab at 0x7f6b596755e0>,\n",
              " 'note': <gensim.models.keyedvectors.Vocab at 0x7f6b59675640>,\n",
              " 'crispy': <gensim.models.keyedvectors.Vocab at 0x7f6b596756a0>,\n",
              " 'roast': <gensim.models.keyedvectors.Vocab at 0x7f6b59675700>,\n",
              " 'pork': <gensim.models.keyedvectors.Vocab at 0x7f6b59675760>,\n",
              " 'name': <gensim.models.keyedvectors.Vocab at 0x7f6b596757c0>,\n",
              " 'bunhkstyle': <gensim.models.keyedvectors.Vocab at 0x7f6b59675820>,\n",
              " 'sure': <gensim.models.keyedvectors.Vocab at 0x7f6b59675880>,\n",
              " 'memorable': <gensim.models.keyedvectors.Vocab at 0x7f6b596758e0>,\n",
              " 'decide': <gensim.models.keyedvectors.Vocab at 0x7f6b59675940>,\n",
              " 'watch': <gensim.models.keyedvectors.Vocab at 0x7f6b596759a0>,\n",
              " 'certain': <gensim.models.keyedvectors.Vocab at 0x7f6b59675a00>,\n",
              " 'lady': <gensim.models.keyedvectors.Vocab at 0x7f6b59675a60>,\n",
              " 'enough': <gensim.models.keyedvectors.Vocab at 0x7f6b59675ac0>,\n",
              " 'much': <gensim.models.keyedvectors.Vocab at 0x7f6b59675b20>,\n",
              " 'side': <gensim.models.keyedvectors.Vocab at 0x7f6b59675b80>,\n",
              " 'wrong': <gensim.models.keyedvectors.Vocab at 0x7f6b59675be0>,\n",
              " 'bao': <gensim.models.keyedvectors.Vocab at 0x7f6b59675c40>,\n",
              " 'isnt': <gensim.models.keyedvectors.Vocab at 0x7f6b59675ca0>,\n",
              " 'seat': <gensim.models.keyedvectors.Vocab at 0x7f6b59675d00>,\n",
              " 'chinatownfavorite': <gensim.models.keyedvectors.Vocab at 0x7f6b59675d60>,\n",
              " 'pineapple': <gensim.models.keyedvectors.Vocab at 0x7f6b59675dc0>,\n",
              " 'red': <gensim.models.keyedvectors.Vocab at 0x7f6b59675e20>,\n",
              " 'bags': <gensim.models.keyedvectors.Vocab at 0x7f6b59675e80>,\n",
              " 'multiple': <gensim.models.keyedvectors.Vocab at 0x7f6b59675ee0>,\n",
              " 'custard': <gensim.models.keyedvectors.Vocab at 0x7f6b59675f40>,\n",
              " 'english': <gensim.models.keyedvectors.Vocab at 0x7f6b59675fa0>,\n",
              " 'ordinary': <gensim.models.keyedvectors.Vocab at 0x7f6b5967a040>,\n",
              " 'drop': <gensim.models.keyedvectors.Vocab at 0x7f6b5967a0a0>,\n",
              " 'store': <gensim.models.keyedvectors.Vocab at 0x7f6b5967a100>,\n",
              " 'company': <gensim.models.keyedvectors.Vocab at 0x7f6b5967a160>,\n",
              " 'kong': <gensim.models.keyedvectors.Vocab at 0x7f6b5967a1c0>,\n",
              " 'werent': <gensim.models.keyedvectors.Vocab at 0x7f6b5967a220>,\n",
              " 'didnt': <gensim.models.keyedvectors.Vocab at 0x7f6b5967a280>,\n",
              " 'way': <gensim.models.keyedvectors.Vocab at 0x7f6b5967a2e0>,\n",
              " 'hong': <gensim.models.keyedvectors.Vocab at 0x7f6b5967a340>,\n",
              " 'kongthey': <gensim.models.keyedvectors.Vocab at 0x7f6b5967a3a0>,\n",
              " 'credit': <gensim.models.keyedvectors.Vocab at 0x7f6b5967a400>,\n",
              " 'card': <gensim.models.keyedvectors.Vocab at 0x7f6b5967a460>,\n",
              " 'lot': <gensim.models.keyedvectors.Vocab at 0x7f6b5967a4c0>,\n",
              " 'constructionhong': <gensim.models.keyedvectors.Vocab at 0x7f6b5967a520>,\n",
              " 'find': <gensim.models.keyedvectors.Vocab at 0x7f6b5967a580>,\n",
              " 'fresh': <gensim.models.keyedvectors.Vocab at 0x7f6b5967a5e0>,\n",
              " 'alley': <gensim.models.keyedvectors.Vocab at 0x7f6b5967a640>,\n",
              " 'impression': <gensim.models.keyedvectors.Vocab at 0x7f6b5967a6a0>,\n",
              " 'kok': <gensim.models.keyedvectors.Vocab at 0x7f6b5967a700>,\n",
              " 'sell': <gensim.models.keyedvectors.Vocab at 0x7f6b5967a760>,\n",
              " 'roll': <gensim.models.keyedvectors.Vocab at 0x7f6b5967a7c0>,\n",
              " 'cake': <gensim.models.keyedvectors.Vocab at 0x7f6b5967a820>,\n",
              " 'taro': <gensim.models.keyedvectors.Vocab at 0x7f6b5967a880>,\n",
              " 'meat': <gensim.models.keyedvectors.Vocab at 0x7f6b5967a8e0>,\n",
              " 'ham': <gensim.models.keyedvectors.Vocab at 0x7f6b5967a940>,\n",
              " 'fare': <gensim.models.keyedvectors.Vocab at 0x7f6b5967a9a0>,\n",
              " 'bc': <gensim.models.keyedvectors.Vocab at 0x7f6b5967aa00>,\n",
              " 'rest': <gensim.models.keyedvectors.Vocab at 0x7f6b5967aa60>,\n",
              " 'look': <gensim.models.keyedvectors.Vocab at 0x7f6b5967aac0>,\n",
              " 'street': <gensim.models.keyedvectors.Vocab at 0x7f6b5967ab20>,\n",
              " 'chicken': <gensim.models.keyedvectors.Vocab at 0x7f6b5967ab80>,\n",
              " 'king': <gensim.models.keyedvectors.Vocab at 0x7f6b5967abe0>,\n",
              " 'bbq': <gensim.models.keyedvectors.Vocab at 0x7f6b5967ac40>,\n",
              " 'restaurant': <gensim.models.keyedvectors.Vocab at 0x7f6b5967aca0>,\n",
              " 'fancy': <gensim.models.keyedvectors.Vocab at 0x7f6b5967ad00>,\n",
              " 'quality': <gensim.models.keyedvectors.Vocab at 0x7f6b5967ad60>,\n",
              " 'bland': <gensim.models.keyedvectors.Vocab at 0x7f6b5967adc0>,\n",
              " 'youre': <gensim.models.keyedvectors.Vocab at 0x7f6b5967ae20>,\n",
              " 'dessert': <gensim.models.keyedvectors.Vocab at 0x7f6b5967ae80>,\n",
              " 'feel': <gensim.models.keyedvectors.Vocab at 0x7f6b5967aee0>,\n",
              " 'load': <gensim.models.keyedvectors.Vocab at 0x7f6b5967af40>,\n",
              " 'stash': <gensim.models.keyedvectors.Vocab at 0x7f6b5967afa0>,\n",
              " 'goody': <gensim.models.keyedvectors.Vocab at 0x7f6b5967b040>,\n",
              " 'take': <gensim.models.keyedvectors.Vocab at 0x7f6b5967b0a0>,\n",
              " 'home': <gensim.models.keyedvectors.Vocab at 0x7f6b5967b100>,\n",
              " 'eat': <gensim.models.keyedvectors.Vocab at 0x7f6b5967b160>,\n",
              " 'taste': <gensim.models.keyedvectors.Vocab at 0x7f6b5967b1c0>,\n",
              " 'stick': <gensim.models.keyedvectors.Vocab at 0x7f6b5967b220>,\n",
              " 'min': <gensim.models.keyedvectors.Vocab at 0x7f6b5967b280>,\n",
              " 'pair': <gensim.models.keyedvectors.Vocab at 0x7f6b5967b2e0>,\n",
              " 'afternoon': <gensim.models.keyedvectors.Vocab at 0x7f6b5967b340>,\n",
              " 'teagood': <gensim.models.keyedvectors.Vocab at 0x7f6b5967b3a0>,\n",
              " 'asian': <gensim.models.keyedvectors.Vocab at 0x7f6b5967b400>,\n",
              " 'mong': <gensim.models.keyedvectors.Vocab at 0x7f6b5967b460>,\n",
              " 'cheese': <gensim.models.keyedvectors.Vocab at 0x7f6b5967b4c0>,\n",
              " 'bread': <gensim.models.keyedvectors.Vocab at 0x7f6b5967b520>,\n",
              " 'typical': <gensim.models.keyedvectors.Vocab at 0x7f6b5967b580>,\n",
              " 'south': <gensim.models.keyedvectors.Vocab at 0x7f6b5967b5e0>,\n",
              " 'east': <gensim.models.keyedvectors.Vocab at 0x7f6b5967b640>,\n",
              " 'bad': <gensim.models.keyedvectors.Vocab at 0x7f6b5967b6a0>,\n",
              " 'new': <gensim.models.keyedvectors.Vocab at 0x7f6b5967b700>,\n",
              " 'taiwanese': <gensim.models.keyedvectors.Vocab at 0x7f6b5967b760>,\n",
              " 'wong': <gensim.models.keyedvectors.Vocab at 0x7f6b5967b7c0>,\n",
              " 'solid': <gensim.models.keyedvectors.Vocab at 0x7f6b5967b820>,\n",
              " 'poor': <gensim.models.keyedvectors.Vocab at 0x7f6b5967b880>,\n",
              " 'special': <gensim.models.keyedvectors.Vocab at 0x7f6b5967b8e0>,\n",
              " 'cheap': <gensim.models.keyedvectors.Vocab at 0x7f6b5967b940>,\n",
              " 'large': <gensim.models.keyedvectors.Vocab at 0x7f6b5967b9a0>,\n",
              " 'green': <gensim.models.keyedvectors.Vocab at 0x7f6b5967ba00>,\n",
              " 'next': <gensim.models.keyedvectors.Vocab at 0x7f6b5967ba60>,\n",
              " 'second': <gensim.models.keyedvectors.Vocab at 0x7f6b5967bac0>,\n",
              " 'nice': <gensim.models.keyedvectors.Vocab at 0x7f6b5967bb20>,\n",
              " 'get': <gensim.models.keyedvectors.Vocab at 0x7f6b5967bb80>,\n",
              " 'goodness': <gensim.models.keyedvectors.Vocab at 0x7f6b5967bbe0>,\n",
              " 'piece': <gensim.models.keyedvectors.Vocab at 0x7f6b5967bc40>,\n",
              " 'heaven': <gensim.models.keyedvectors.Vocab at 0x7f6b5967bca0>,\n",
              " 'amount': <gensim.models.keyedvectors.Vocab at 0x7f6b5967bd00>,\n",
              " 'filling': <gensim.models.keyedvectors.Vocab at 0x7f6b5967bd60>,\n",
              " 'term': <gensim.models.keyedvectors.Vocab at 0x7f6b5967bdc0>,\n",
              " 'par': <gensim.models.keyedvectors.Vocab at 0x7f6b5967be20>,\n",
              " 'pricefresh': <gensim.models.keyedvectors.Vocab at 0x7f6b5967be80>,\n",
              " 'oh': <gensim.models.keyedvectors.Vocab at 0x7f6b5967bee0>,\n",
              " 'right': <gensim.models.keyedvectors.Vocab at 0x7f6b5967bf40>,\n",
              " 'flakiness': <gensim.models.keyedvectors.Vocab at 0x7f6b5967bfa0>,\n",
              " 'creamy': <gensim.models.keyedvectors.Vocab at 0x7f6b5967c040>,\n",
              " 'ive': <gensim.models.keyedvectors.Vocab at 0x7f6b5967c0a0>,\n",
              " 'significant': <gensim.models.keyedvectors.Vocab at 0x7f6b5967c100>,\n",
              " 'differential': <gensim.models.keyedvectors.Vocab at 0x7f6b5967c160>,\n",
              " 'happiness': <gensim.models.keyedvectors.Vocab at 0x7f6b5967c1c0>,\n",
              " 'cute': <gensim.models.keyedvectors.Vocab at 0x7f6b5967c220>,\n",
              " 'bunny': <gensim.models.keyedvectors.Vocab at 0x7f6b5967c280>,\n",
              " 'fruit': <gensim.models.keyedvectors.Vocab at 0x7f6b5967c2e0>,\n",
              " 'cent': <gensim.models.keyedvectors.Vocab at 0x7f6b5967c340>,\n",
              " 'wonder': <gensim.models.keyedvectors.Vocab at 0x7f6b5967c3a0>,\n",
              " 'everything': <gensim.models.keyedvectors.Vocab at 0x7f6b5967c400>,\n",
              " 'version': <gensim.models.keyedvectors.Vocab at 0x7f6b5967c460>,\n",
              " 'vanilla': <gensim.models.keyedvectors.Vocab at 0x7f6b5967c4c0>,\n",
              " 'cherry': <gensim.models.keyedvectors.Vocab at 0x7f6b5967c520>,\n",
              " 'moist': <gensim.models.keyedvectors.Vocab at 0x7f6b5967c580>,\n",
              " 'simple': <gensim.models.keyedvectors.Vocab at 0x7f6b5967c5e0>,\n",
              " 'difference': <gensim.models.keyedvectors.Vocab at 0x7f6b5967c640>,\n",
              " 'decoration': <gensim.models.keyedvectors.Vocab at 0x7f6b5967c6a0>,\n",
              " 'im': <gensim.models.keyedvectors.Vocab at 0x7f6b5967c700>,\n",
              " 'child': <gensim.models.keyedvectors.Vocab at 0x7f6b5967c760>,\n",
              " 'idea': <gensim.models.keyedvectors.Vocab at 0x7f6b5967c7c0>,\n",
              " 'animal': <gensim.models.keyedvectors.Vocab at 0x7f6b5967c820>,\n",
              " 'mango': <gensim.models.keyedvectors.Vocab at 0x7f6b5967c880>,\n",
              " 'thai': <gensim.models.keyedvectors.Vocab at 0x7f6b5967c8e0>,\n",
              " 'havent': <gensim.models.keyedvectors.Vocab at 0x7f6b5967c940>,\n",
              " 'dinner': <gensim.models.keyedvectors.Vocab at 0x7f6b5967c9a0>,\n",
              " 'doesnt': <gensim.models.keyedvectors.Vocab at 0x7f6b5967ca00>,\n",
              " 'matter': <gensim.models.keyedvectors.Vocab at 0x7f6b5967ca60>,\n",
              " 'meal': <gensim.models.keyedvectors.Vocab at 0x7f6b5967cac0>,\n",
              " 'daylittle': <gensim.models.keyedvectors.Vocab at 0x7f6b5967cb20>,\n",
              " 'square': <gensim.models.keyedvectors.Vocab at 0x7f6b5967cb80>,\n",
              " 'cant': <gensim.models.keyedvectors.Vocab at 0x7f6b5967cbe0>,\n",
              " 'first': <gensim.models.keyedvectors.Vocab at 0x7f6b5967cc40>,\n",
              " 'chocolate': <gensim.models.keyedvectors.Vocab at 0x7f6b5967cca0>,\n",
              " 'different': <gensim.models.keyedvectors.Vocab at 0x7f6b5967cd00>,\n",
              " 'fluffy': <gensim.models.keyedvectors.Vocab at 0x7f6b5967cd60>,\n",
              " 'main': <gensim.models.keyedvectors.Vocab at 0x7f6b5967cdc0>,\n",
              " 'excite': <gensim.models.keyedvectors.Vocab at 0x7f6b5967ce20>,\n",
              " 'bubble': <gensim.models.keyedvectors.Vocab at 0x7f6b5967ce80>,\n",
              " 'smoothy': <gensim.models.keyedvectors.Vocab at 0x7f6b5967cee0>,\n",
              " 'distract': <gensim.models.keyedvectors.Vocab at 0x7f6b5967cf40>,\n",
              " 'full': <gensim.models.keyedvectors.Vocab at 0x7f6b5967cfa0>,\n",
              " 'asia': <gensim.models.keyedvectors.Vocab at 0x7f6b5967d040>,\n",
              " 'walk': <gensim.models.keyedvectors.Vocab at 0x7f6b5967d0a0>,\n",
              " 'lol': <gensim.models.keyedvectors.Vocab at 0x7f6b5967d100>,\n",
              " 'chewy': <gensim.models.keyedvectors.Vocab at 0x7f6b5967d160>,\n",
              " 'fan': <gensim.models.keyedvectors.Vocab at 0x7f6b5967d1c0>,\n",
              " 'almond': <gensim.models.keyedvectors.Vocab at 0x7f6b5967d220>,\n",
              " 'cooky': <gensim.models.keyedvectors.Vocab at 0x7f6b5967d280>,\n",
              " 'alot': <gensim.models.keyedvectors.Vocab at 0x7f6b5967d2e0>,\n",
              " 'favorite': <gensim.models.keyedvectors.Vocab at 0x7f6b5967d340>,\n",
              " 'review': <gensim.models.keyedvectors.Vocab at 0x7f6b5967d3a0>,\n",
              " 'eatingsecond': <gensim.models.keyedvectors.Vocab at 0x7f6b5967d400>,\n",
              " 'lazy': <gensim.models.keyedvectors.Vocab at 0x7f6b5967d460>,\n",
              " 'soft': <gensim.models.keyedvectors.Vocab at 0x7f6b5967d4c0>,\n",
              " 'big': <gensim.models.keyedvectors.Vocab at 0x7f6b5967d520>,\n",
              " 'dry': <gensim.models.keyedvectors.Vocab at 0x7f6b5967d580>,\n",
              " 'ill': <gensim.models.keyedvectors.Vocab at 0x7f6b5967d5e0>,\n",
              " 'bfs': <gensim.models.keyedvectors.Vocab at 0x7f6b5967d640>,\n",
              " 'goto': <gensim.models.keyedvectors.Vocab at 0x7f6b5967d6a0>,\n",
              " 'hk': <gensim.models.keyedvectors.Vocab at 0x7f6b5967d700>,\n",
              " 'month': <gensim.models.keyedvectors.Vocab at 0x7f6b5967d760>,\n",
              " 'dog': <gensim.models.keyedvectors.Vocab at 0x7f6b5967d7c0>,\n",
              " 'cash': <gensim.models.keyedvectors.Vocab at 0x7f6b5967d820>,\n",
              " 'nicer': <gensim.models.keyedvectors.Vocab at 0x7f6b5967d880>,\n",
              " 'language': <gensim.models.keyedvectors.Vocab at 0x7f6b5967d8e0>,\n",
              " 'chill': <gensim.models.keyedvectors.Vocab at 0x7f6b5967d940>,\n",
              " 'spot': <gensim.models.keyedvectors.Vocab at 0x7f6b5967d9a0>,\n",
              " 'break': <gensim.models.keyedvectors.Vocab at 0x7f6b5967da00>,\n",
              " 'let': <gensim.models.keyedvectors.Vocab at 0x7f6b5967da60>,\n",
              " 'drink': <gensim.models.keyedvectors.Vocab at 0x7f6b5967dac0>,\n",
              " 'anything': <gensim.models.keyedvectors.Vocab at 0x7f6b5967db20>,\n",
              " 'foam': <gensim.models.keyedvectors.Vocab at 0x7f6b5967db80>,\n",
              " 'part': <gensim.models.keyedvectors.Vocab at 0x7f6b5967dbe0>,\n",
              " 'em': <gensim.models.keyedvectors.Vocab at 0x7f6b5967dc40>,\n",
              " 'bunlast': <gensim.models.keyedvectors.Vocab at 0x7f6b5967dca0>,\n",
              " 'hot': <gensim.models.keyedvectors.Vocab at 0x7f6b5967dd00>,\n",
              " 'speak': <gensim.models.keyedvectors.Vocab at 0x7f6b5967dd60>,\n",
              " 'overall': <gensim.models.keyedvectors.Vocab at 0x7f6b5967ddc0>,\n",
              " 'phillychinatown': <gensim.models.keyedvectors.Vocab at 0x7f6b5967de20>,\n",
              " 'short': <gensim.models.keyedvectors.Vocab at 0x7f6b5967de80>,\n",
              " 'minute': <gensim.models.keyedvectors.Vocab at 0x7f6b5967dee0>,\n",
              " 'silky': <gensim.models.keyedvectors.Vocab at 0x7f6b5967df40>,\n",
              " 'authentic': <gensim.models.keyedvectors.Vocab at 0x7f6b5967dfa0>,\n",
              " 'wish': <gensim.models.keyedvectors.Vocab at 0x7f6b5967e040>,\n",
              " 'dimsumexcellent': <gensim.models.keyedvectors.Vocab at 0x7f6b5967e0a0>,\n",
              " 'early': <gensim.models.keyedvectors.Vocab at 0x7f6b5967e100>,\n",
              " 'shop': <gensim.models.keyedvectors.Vocab at 0x7f6b5967e160>,\n",
              " 'flavor': <gensim.models.keyedvectors.Vocab at 0x7f6b5967e1c0>,\n",
              " 'kid': <gensim.models.keyedvectors.Vocab at 0x7f6b5967e220>,\n",
              " 'level': <gensim.models.keyedvectors.Vocab at 0x7f6b5967e280>,\n",
              " 'sweetness': <gensim.models.keyedvectors.Vocab at 0x7f6b5967e2e0>,\n",
              " 'boba': <gensim.models.keyedvectors.Vocab at 0x7f6b5967e340>,\n",
              " 'cup': <gensim.models.keyedvectors.Vocab at 0x7f6b5967e3a0>,\n",
              " 'none': <gensim.models.keyedvectors.Vocab at 0x7f6b5967e400>,\n",
              " 'cost': <gensim.models.keyedvectors.Vocab at 0x7f6b5967e460>,\n",
              " 'range': <gensim.models.keyedvectors.Vocab at 0x7f6b5967e4c0>,\n",
              " 'dealsimilar': <gensim.models.keyedvectors.Vocab at 0x7f6b5967e520>,\n",
              " 'abps': <gensim.models.keyedvectors.Vocab at 0x7f6b5967e580>,\n",
              " 'sale': <gensim.models.keyedvectors.Vocab at 0x7f6b5967e5e0>,\n",
              " 'pick': <gensim.models.keyedvectors.Vocab at 0x7f6b5967e640>,\n",
              " 'savory': <gensim.models.keyedvectors.Vocab at 0x7f6b5967e6a0>,\n",
              " 'fillnice': <gensim.models.keyedvectors.Vocab at 0x7f6b5967e700>,\n",
              " 'left': <gensim.models.keyedvectors.Vocab at 0x7f6b5967e760>,\n",
              " 'bag': <gensim.models.keyedvectors.Vocab at 0x7f6b5967e7c0>,\n",
              " 'sugary': <gensim.models.keyedvectors.Vocab at 0x7f6b5967e820>,\n",
              " 'small': <gensim.models.keyedvectors.Vocab at 0x7f6b5967e880>,\n",
              " 'monday': <gensim.models.keyedvectors.Vocab at 0x7f6b5967e8e0>,\n",
              " 'bit': <gensim.models.keyedvectors.Vocab at 0x7f6b5967e940>,\n",
              " 'onion': <gensim.models.keyedvectors.Vocab at 0x7f6b5967e9a0>,\n",
              " 'box': <gensim.models.keyedvectors.Vocab at 0x7f6b5967ea00>,\n",
              " 'consistent': <gensim.models.keyedvectors.Vocab at 0x7f6b5967ea60>,\n",
              " 'layer': <gensim.models.keyedvectors.Vocab at 0x7f6b5967eac0>,\n",
              " 'flaky': <gensim.models.keyedvectors.Vocab at 0x7f6b5967eb20>,\n",
              " 'shell': <gensim.models.keyedvectors.Vocab at 0x7f6b5967eb80>,\n",
              " 'breakfast': <gensim.models.keyedvectors.Vocab at 0x7f6b5967ebe0>,\n",
              " 'excellentsunday': <gensim.models.keyedvectors.Vocab at 0x7f6b5967ec40>,\n",
              " 'greenleafs': <gensim.models.keyedvectors.Vocab at 0x7f6b5967eca0>,\n",
              " 'race': <gensim.models.keyedvectors.Vocab at 0x7f6b5967ed00>,\n",
              " 'ask': <gensim.models.keyedvectors.Vocab at 0x7f6b5967ed60>,\n",
              " 'woman': <gensim.models.keyedvectors.Vocab at 0x7f6b5967edc0>,\n",
              " 'polite': <gensim.models.keyedvectors.Vocab at 0x7f6b5967ee20>,\n",
              " 'smile': <gensim.models.keyedvectors.Vocab at 0x7f6b5967ee80>,\n",
              " 'answer': <gensim.models.keyedvectors.Vocab at 0x7f6b5967eee0>,\n",
              " 'communication': <gensim.models.keyedvectors.Vocab at 0x7f6b5967ef40>,\n",
              " 'gap': <gensim.models.keyedvectors.Vocab at 0x7f6b5967efa0>,\n",
              " 'couldnt': <gensim.models.keyedvectors.Vocab at 0x7f6b59680040>,\n",
              " 'clueless': <gensim.models.keyedvectors.Vocab at 0x7f6b596800a0>,\n",
              " 'date': <gensim.models.keyedvectors.Vocab at 0x7f6b59680100>,\n",
              " 'bake': <gensim.models.keyedvectors.Vocab at 0x7f6b59680160>,\n",
              " 'end': <gensim.models.keyedvectors.Vocab at 0x7f6b596801c0>,\n",
              " 'consistency': <gensim.models.keyedvectors.Vocab at 0x7f6b59680220>,\n",
              " 'bakeive': <gensim.models.keyedvectors.Vocab at 0x7f6b59680280>,\n",
              " 'many': <gensim.models.keyedvectors.Vocab at 0x7f6b596802e0>,\n",
              " 'st': <gensim.models.keyedvectors.Vocab at 0x7f6b59680340>,\n",
              " 'give': <gensim.models.keyedvectors.Vocab at 0x7f6b596803a0>,\n",
              " 'unobservant': <gensim.models.keyedvectors.Vocab at 0x7f6b59680400>,\n",
              " 'surprised': <gensim.models.keyedvectors.Vocab at 0x7f6b59680460>,\n",
              " 'crust': <gensim.models.keyedvectors.Vocab at 0x7f6b596804c0>,\n",
              " 'light': <gensim.models.keyedvectors.Vocab at 0x7f6b59680520>,\n",
              " 'star': <gensim.models.keyedvectors.Vocab at 0x7f6b59680580>,\n",
              " 'cupcake': <gensim.models.keyedvectors.Vocab at 0x7f6b596805e0>,\n",
              " 'love': <gensim.models.keyedvectors.Vocab at 0x7f6b59680640>,\n",
              " 'cheesecake': <gensim.models.keyedvectors.Vocab at 0x7f6b596806a0>,\n",
              " 'dessertdidnt': <gensim.models.keyedvectors.Vocab at 0x7f6b59680700>,\n",
              " 'sponge': <gensim.models.keyedvectors.Vocab at 0x7f6b59680760>,\n",
              " 'buttery': <gensim.models.keyedvectors.Vocab at 0x7f6b596807c0>,\n",
              " 'tripive': <gensim.models.keyedvectors.Vocab at 0x7f6b59680820>,\n",
              " 'kc': <gensim.models.keyedvectors.Vocab at 0x7f6b59680880>,\n",
              " 'gem': <gensim.models.keyedvectors.Vocab at 0x7f6b596808e0>,\n",
              " 'pho': <gensim.models.keyedvectors.Vocab at 0x7f6b59680940>,\n",
              " 'friend': <gensim.models.keyedvectors.Vocab at 0x7f6b596809a0>,\n",
              " 'worki': <gensim.models.keyedvectors.Vocab at 0x7f6b59680a00>,\n",
              " 'slice': <gensim.models.keyedvectors.Vocab at 0x7f6b59680a60>,\n",
              " 'world': <gensim.models.keyedvectors.Vocab at 0x7f6b59680ac0>,\n",
              " 'froststumble': <gensim.models.keyedvectors.Vocab at 0x7f6b59680b20>,\n",
              " 'upon': <gensim.models.keyedvectors.Vocab at 0x7f6b59680b80>,\n",
              " 'super': <gensim.models.keyedvectors.Vocab at 0x7f6b59680be0>,\n",
              " 'mei': <gensim.models.keyedvectors.Vocab at 0x7f6b59680c40>,\n",
              " 'foo': <gensim.models.keyedvectors.Vocab at 0x7f6b59680ca0>,\n",
              " 'logo': <gensim.models.keyedvectors.Vocab at 0x7f6b59680d00>,\n",
              " 'wrap': <gensim.models.keyedvectors.Vocab at 0x7f6b59680d60>,\n",
              " 'yep': <gensim.models.keyedvectors.Vocab at 0x7f6b59680dc0>,\n",
              " 'cream': <gensim.models.keyedvectors.Vocab at 0x7f6b59680e20>,\n",
              " 'starbux': <gensim.models.keyedvectors.Vocab at 0x7f6b59680e80>,\n",
              " 'decaf': <gensim.models.keyedvectors.Vocab at 0x7f6b59680ee0>,\n",
              " 'bed': <gensim.models.keyedvectors.Vocab at 0x7f6b59680f40>,\n",
              " 'pleasurepartial': <gensim.models.keyedvectors.Vocab at 0x7f6b59680fa0>,\n",
              " 'addict': <gensim.models.keyedvectors.Vocab at 0x7f6b59681040>,\n",
              " 'same': <gensim.models.keyedvectors.Vocab at 0x7f6b596810a0>,\n",
              " 'warm': <gensim.models.keyedvectors.Vocab at 0x7f6b59681100>,\n",
              " 'steam': <gensim.models.keyedvectors.Vocab at 0x7f6b59681160>,\n",
              " 'gemive': <gensim.models.keyedvectors.Vocab at 0x7f6b596811c0>,\n",
              " 'tried': <gensim.models.keyedvectors.Vocab at 0x7f6b59681220>,\n",
              " 'several': <gensim.models.keyedvectors.Vocab at 0x7f6b59681280>,\n",
              " 'close': <gensim.models.keyedvectors.Vocab at 0x7f6b596812e0>,\n",
              " 'serf': <gensim.models.keyedvectors.Vocab at 0x7f6b59681340>,\n",
              " 'portion': <gensim.models.keyedvectors.Vocab at 0x7f6b596813a0>,\n",
              " 'non': <gensim.models.keyedvectors.Vocab at 0x7f6b59681400>,\n",
              " 'afraid': <gensim.models.keyedvectors.Vocab at 0x7f6b59681460>,\n",
              " 'whoameat': <gensim.models.keyedvectors.Vocab at 0x7f6b596814c0>,\n",
              " 'bite': <gensim.models.keyedvectors.Vocab at 0x7f6b59681520>,\n",
              " 'purchase': <gensim.models.keyedvectors.Vocab at 0x7f6b59681580>,\n",
              " 'awesome': <gensim.models.keyedvectors.Vocab at 0x7f6b596815e0>,\n",
              " 'hate': <gensim.models.keyedvectors.Vocab at 0x7f6b59681640>,\n",
              " 'use': <gensim.models.keyedvectors.Vocab at 0x7f6b596816a0>,\n",
              " 'powder': <gensim.models.keyedvectors.Vocab at 0x7f6b59681700>,\n",
              " 'shake': <gensim.models.keyedvectors.Vocab at 0x7f6b59681760>,\n",
              " 'make': <gensim.models.keyedvectors.Vocab at 0x7f6b596817c0>,\n",
              " 'request': <gensim.models.keyedvectors.Vocab at 0x7f6b59681820>,\n",
              " 'fact': <gensim.models.keyedvectors.Vocab at 0x7f6b59681880>,\n",
              " 'dirty': <gensim.models.keyedvectors.Vocab at 0x7f6b596818e0>,\n",
              " 'correct': <gensim.models.keyedvectors.Vocab at 0x7f6b59681940>,\n",
              " 'pastryive': <gensim.models.keyedvectors.Vocab at 0x7f6b596819a0>,\n",
              " 'generous': <gensim.models.keyedvectors.Vocab at 0x7f6b59681a00>,\n",
              " 'strawberry': <gensim.models.keyedvectors.Vocab at 0x7f6b59681a60>,\n",
              " 'real': <gensim.models.keyedvectors.Vocab at 0x7f6b59681ac0>,\n",
              " 'spectacular': <gensim.models.keyedvectors.Vocab at 0x7f6b59681b20>,\n",
              " 'lotus': <gensim.models.keyedvectors.Vocab at 0x7f6b59681b80>,\n",
              " 'stop': <gensim.models.keyedvectors.Vocab at 0x7f6b59681be0>,\n",
              " 'sometimegood': <gensim.models.keyedvectors.Vocab at 0x7f6b59681c40>,\n",
              " 'birthday': <gensim.models.keyedvectors.Vocab at 0x7f6b59681ca0>,\n",
              " 'candle': <gensim.models.keyedvectors.Vocab at 0x7f6b59681d00>,\n",
              " 'nicenice': <gensim.models.keyedvectors.Vocab at 0x7f6b59681d60>,\n",
              " 'expensive': <gensim.models.keyedvectors.Vocab at 0x7f6b59681dc0>,\n",
              " 'decision': <gensim.models.keyedvectors.Vocab at 0x7f6b59681e20>,\n",
              " 'base': <gensim.models.keyedvectors.Vocab at 0x7f6b59681e80>,\n",
              " 'owner': <gensim.models.keyedvectors.Vocab at 0x7f6b59681ee0>,\n",
              " 'offer': <gensim.models.keyedvectors.Vocab at 0x7f6b59681f40>,\n",
              " 'suggestion': <gensim.models.keyedvectors.Vocab at 0x7f6b59681fa0>,\n",
              " 'homemade': <gensim.models.keyedvectors.Vocab at 0x7f6b59682040>,\n",
              " 'wedding': <gensim.models.keyedvectors.Vocab at 0x7f6b596820a0>,\n",
              " 'leftover': <gensim.models.keyedvectors.Vocab at 0x7f6b59682100>,\n",
              " 'hecka': <gensim.models.keyedvectors.Vocab at 0x7f6b59682160>,\n",
              " 'cause': <gensim.models.keyedvectors.Vocab at 0x7f6b596821c0>,\n",
              " 'deal': <gensim.models.keyedvectors.Vocab at 0x7f6b59682220>,\n",
              " 'server': <gensim.models.keyedvectors.Vocab at 0x7f6b59682280>,\n",
              " 'mini': <gensim.models.keyedvectors.Vocab at 0x7f6b596822e0>,\n",
              " 'hour': <gensim.models.keyedvectors.Vocab at 0x7f6b59682340>,\n",
              " 'hitreasonable': <gensim.models.keyedvectors.Vocab at 0x7f6b596823a0>,\n",
              " 'fondant': <gensim.models.keyedvectors.Vocab at 0x7f6b59682400>,\n",
              " 'top': <gensim.models.keyedvectors.Vocab at 0x7f6b59682460>,\n",
              " 'normal': <gensim.models.keyedvectors.Vocab at 0x7f6b596824c0>,\n",
              " 'whole': <gensim.models.keyedvectors.Vocab at 0x7f6b59682520>,\n",
              " 'huge': <gensim.models.keyedvectors.Vocab at 0x7f6b59682580>,\n",
              " 'u': <gensim.models.keyedvectors.Vocab at 0x7f6b596825e0>,\n",
              " 'scratch': <gensim.models.keyedvectors.Vocab at 0x7f6b59682640>,\n",
              " 'catch': <gensim.models.keyedvectors.Vocab at 0x7f6b596826a0>,\n",
              " 'bring': <gensim.models.keyedvectors.Vocab at 0x7f6b59682700>,\n",
              " 'batch': <gensim.models.keyedvectors.Vocab at 0x7f6b59682760>,\n",
              " 'favor': <gensim.models.keyedvectors.Vocab at 0x7f6b596827c0>,\n",
              " 'butter': <gensim.models.keyedvectors.Vocab at 0x7f6b59682820>,\n",
              " 'act': <gensim.models.keyedvectors.Vocab at 0x7f6b59682880>,\n",
              " 'nothing': <gensim.models.keyedvectors.Vocab at 0x7f6b596828e0>,\n",
              " 'sit': <gensim.models.keyedvectors.Vocab at 0x7f6b59682940>,\n",
              " 'refrigerator': <gensim.models.keyedvectors.Vocab at 0x7f6b596829a0>,\n",
              " 'soda': <gensim.models.keyedvectors.Vocab at 0x7f6b59682a00>,\n",
              " 'door': <gensim.models.keyedvectors.Vocab at 0x7f6b59682a60>,\n",
              " 'finger': <gensim.models.keyedvectors.Vocab at 0x7f6b59682ac0>,\n",
              " 'discount': <gensim.models.keyedvectors.Vocab at 0x7f6b59682b20>,\n",
              " 'pay': <gensim.models.keyedvectors.Vocab at 0x7f6b59682b80>,\n",
              " 'wasnt': <gensim.models.keyedvectors.Vocab at 0x7f6b59682be0>,\n",
              " 'age': <gensim.models.keyedvectors.Vocab at 0x7f6b59682c40>,\n",
              " 'counter': <gensim.models.keyedvectors.Vocab at 0x7f6b59682ca0>,\n",
              " 'job': <gensim.models.keyedvectors.Vocab at 0x7f6b59682d00>,\n",
              " 'newspaper': <gensim.models.keyedvectors.Vocab at 0x7f6b59682d60>,\n",
              " 'regretgood': <gensim.models.keyedvectors.Vocab at 0x7f6b59682dc0>,\n",
              " 'last': <gensim.models.keyedvectors.Vocab at 0x7f6b59682e20>,\n",
              " 'darn': <gensim.models.keyedvectors.Vocab at 0x7f6b59682e80>,\n",
              " 'lemon': <gensim.models.keyedvectors.Vocab at 0x7f6b59682ee0>,\n",
              " 'stray': <gensim.models.keyedvectors.Vocab at 0x7f6b59682f40>,\n",
              " 'young': <gensim.models.keyedvectors.Vocab at 0x7f6b59682fa0>,\n",
              " 'middle': <gensim.models.keyedvectors.Vocab at 0x7f6b59684040>,\n",
              " 'agedold': <gensim.models.keyedvectors.Vocab at 0x7f6b596840a0>,\n",
              " 'read': <gensim.models.keyedvectors.Vocab at 0x7f6b59684100>,\n",
              " 'cafe': <gensim.models.keyedvectors.Vocab at 0x7f6b59684160>,\n",
              " 'cafes': <gensim.models.keyedvectors.Vocab at 0x7f6b596841c0>,\n",
              " 'visit': <gensim.models.keyedvectors.Vocab at 0x7f6b59684220>,\n",
              " 'selection': <gensim.models.keyedvectors.Vocab at 0x7f6b59684280>,\n",
              " 'size': <gensim.models.keyedvectors.Vocab at 0x7f6b596842e0>,\n",
              " 'flower': <gensim.models.keyedvectors.Vocab at 0x7f6b59684340>,\n",
              " 'pot': <gensim.models.keyedvectors.Vocab at 0x7f6b596843a0>,\n",
              " 'texture': <gensim.models.keyedvectors.Vocab at 0x7f6b59684400>,\n",
              " 'mention': <gensim.models.keyedvectors.Vocab at 0x7f6b59684460>,\n",
              " 'pretty': <gensim.models.keyedvectors.Vocab at 0x7f6b596844c0>,\n",
              " 'getwide': <gensim.models.keyedvectors.Vocab at 0x7f6b59684520>,\n",
              " 'individual': <gensim.models.keyedvectors.Vocab at 0x7f6b59684580>,\n",
              " 'personal': <gensim.models.keyedvectors.Vocab at 0x7f6b596845e0>,\n",
              " 'baked': <gensim.models.keyedvectors.Vocab at 0x7f6b59684640>,\n",
              " 'eggy': <gensim.models.keyedvectors.Vocab at 0x7f6b596846a0>,\n",
              " 'snowman': <gensim.models.keyedvectors.Vocab at 0x7f6b59684700>,\n",
              " 'kathy': <gensim.models.keyedvectors.Vocab at 0x7f6b59684760>,\n",
              " 'menu': <gensim.models.keyedvectors.Vocab at 0x7f6b596847c0>,\n",
              " 'durian': <gensim.models.keyedvectors.Vocab at 0x7f6b59684820>,\n",
              " 'reserve': <gensim.models.keyedvectors.Vocab at 0x7f6b59684880>,\n",
              " 'doorcold': <gensim.models.keyedvectors.Vocab at 0x7f6b596848e0>,\n",
              " 'welcome': <gensim.models.keyedvectors.Vocab at 0x7f6b59684940>,\n",
              " 'important': <gensim.models.keyedvectors.Vocab at 0x7f6b596849a0>,\n",
              " 'raisin': <gensim.models.keyedvectors.Vocab at 0x7f6b59684a00>,\n",
              " 'doughy': <gensim.models.keyedvectors.Vocab at 0x7f6b59684a60>,\n",
              " 'tendency': <gensim.models.keyedvectors.Vocab at 0x7f6b59684ac0>,\n",
              " 'roof': <gensim.models.keyedvectors.Vocab at 0x7f6b59684b20>,\n",
              " 'mouth': <gensim.models.keyedvectors.Vocab at 0x7f6b59684b80>,\n",
              " 'toast': <gensim.models.keyedvectors.Vocab at 0x7f6b59684be0>,\n",
              " 'crisp': <gensim.models.keyedvectors.Vocab at 0x7f6b59684c40>,\n",
              " 'cover': <gensim.models.keyedvectors.Vocab at 0x7f6b59684ca0>,\n",
              " 'seed': <gensim.models.keyedvectors.Vocab at 0x7f6b59684d00>,\n",
              " 'romas': <gensim.models.keyedvectors.Vocab at 0x7f6b59684d60>,\n",
              " 'isgros': <gensim.models.keyedvectors.Vocab at 0x7f6b59684dc0>,\n",
              " 'twist': <gensim.models.keyedvectors.Vocab at 0x7f6b59684e20>,\n",
              " 'compliment': <gensim.models.keyedvectors.Vocab at 0x7f6b59684e80>,\n",
              " 'puff': <gensim.models.keyedvectors.Vocab at 0x7f6b59684ee0>,\n",
              " 'honey': <gensim.models.keyedvectors.Vocab at 0x7f6b59684f40>,\n",
              " 'breadscant': <gensim.models.keyedvectors.Vocab at 0x7f6b59684fa0>,\n",
              " 'flushing': <gensim.models.keyedvectors.Vocab at 0x7f6b59685040>,\n",
              " 'fantastic': <gensim.models.keyedvectors.Vocab at 0x7f6b596850a0>,\n",
              " 'delish': <gensim.models.keyedvectors.Vocab at 0x7f6b59685100>,\n",
              " 'plenty': <gensim.models.keyedvectors.Vocab at 0x7f6b59685160>,\n",
              " 'drizzle': <gensim.models.keyedvectors.Vocab at 0x7f6b596851c0>,\n",
              " 'flakey': <gensim.models.keyedvectors.Vocab at 0x7f6b59685220>,\n",
              " 'cookie': <gensim.models.keyedvectors.Vocab at 0x7f6b59685280>,\n",
              " 'hydrogenate': <gensim.models.keyedvectors.Vocab at 0x7f6b596852e0>,\n",
              " 'life': <gensim.models.keyedvectors.Vocab at 0x7f6b59685340>,\n",
              " 'multilayer': <gensim.models.keyedvectors.Vocab at 0x7f6b596853a0>,\n",
              " 'cocktail': <gensim.models.keyedvectors.Vocab at 0x7f6b59685400>,\n",
              " 'savoury': <gensim.models.keyedvectors.Vocab at 0x7f6b59685460>,\n",
              " 'beef': <gensim.models.keyedvectors.Vocab at 0x7f6b596854c0>,\n",
              " 'run': <gensim.models.keyedvectors.Vocab at 0x7f6b59685520>,\n",
              " 'post': <gensim.models.keyedvectors.Vocab at 0x7f6b59685580>,\n",
              " 'wall': <gensim.models.keyedvectors.Vocab at 0x7f6b596855e0>,\n",
              " 'munch': <gensim.models.keyedvectors.Vocab at 0x7f6b59685640>,\n",
              " 'park': <gensim.models.keyedvectors.Vocab at 0x7f6b596856a0>,\n",
              " 'pastrynice': <gensim.models.keyedvectors.Vocab at 0x7f6b59685700>,\n",
              " 'shortbread': <gensim.models.keyedvectors.Vocab at 0x7f6b59685760>,\n",
              " 'crimped': <gensim.models.keyedvectors.Vocab at 0x7f6b596857c0>,\n",
              " 'fat': <gensim.models.keyedvectors.Vocab at 0x7f6b59685820>,\n",
              " 'peach': <gensim.models.keyedvectors.Vocab at 0x7f6b59685880>,\n",
              " 'like': <gensim.models.keyedvectors.Vocab at 0x7f6b596858e0>,\n",
              " 'usual': <gensim.models.keyedvectors.Vocab at 0x7f6b59685940>,\n",
              " 'extensive': <gensim.models.keyedvectors.Vocab at 0x7f6b596859a0>,\n",
              " 'perfection': <gensim.models.keyedvectors.Vocab at 0x7f6b59685a00>,\n",
              " 'morning': <gensim.models.keyedvectors.Vocab at 0x7f6b59685a60>,\n",
              " 'deliver': <gensim.models.keyedvectors.Vocab at 0x7f6b59685ac0>,\n",
              " 'premise': <gensim.models.keyedvectors.Vocab at 0x7f6b59685b20>,\n",
              " 'pastrysoft': <gensim.models.keyedvectors.Vocab at 0x7f6b59685b80>,\n",
              " 'notice': <gensim.models.keyedvectors.Vocab at 0x7f6b59685be0>,\n",
              " 'till': <gensim.models.keyedvectors.Vocab at 0x7f6b59685c40>,\n",
              " 'arent': <gensim.models.keyedvectors.Vocab at 0x7f6b59685ca0>,\n",
              " 'custom': <gensim.models.keyedvectors.Vocab at 0x7f6b59685d00>,\n",
              " 'birthdaydouble': <gensim.models.keyedvectors.Vocab at 0x7f6b59685d60>,\n",
              " 'update': <gensim.models.keyedvectors.Vocab at 0x7f6b59685dc0>,\n",
              " 'gong': <gensim.models.keyedvectors.Vocab at 0x7f6b59685e20>,\n",
              " 'youll': <gensim.models.keyedvectors.Vocab at 0x7f6b59685e80>,\n",
              " 'whip': <gensim.models.keyedvectors.Vocab at 0x7f6b59685ee0>,\n",
              " 'youd': <gensim.models.keyedvectors.Vocab at 0x7f6b59685f40>,\n",
              " 'pleasure': <gensim.models.keyedvectors.Vocab at 0x7f6b59685fa0>,\n",
              " 'work': <gensim.models.keyedvectors.Vocab at 0x7f6b59686040>,\n",
              " 'croissant': <gensim.models.keyedvectors.Vocab at 0x7f6b596860a0>,\n",
              " 'melt': <gensim.models.keyedvectors.Vocab at 0x7f6b59686100>,\n",
              " 'surround': <gensim.models.keyedvectors.Vocab at 0x7f6b59686160>,\n",
              " 'excellentguilty': <gensim.models.keyedvectors.Vocab at 0x7f6b596861c0>,\n",
              " 'low': <gensim.models.keyedvectors.Vocab at 0x7f6b59686220>,\n",
              " 'smoking': <gensim.models.keyedvectors.Vocab at 0x7f6b59686280>,\n",
              " 'ban': <gensim.models.keyedvectors.Vocab at 0x7f6b596862e0>,\n",
              " 'phila': <gensim.models.keyedvectors.Vocab at 0x7f6b59686340>,\n",
              " 'reason': <gensim.models.keyedvectors.Vocab at 0x7f6b596863a0>,\n",
              " 'scorephew': <gensim.models.keyedvectors.Vocab at 0x7f6b59686400>,\n",
              " 'foul': <gensim.models.keyedvectors.Vocab at 0x7f6b59686460>,\n",
              " 'smell': <gensim.models.keyedvectors.Vocab at 0x7f6b596864c0>,\n",
              " 'money': <gensim.models.keyedvectors.Vocab at 0x7f6b59686520>,\n",
              " 'magnificent': <gensim.models.keyedvectors.Vocab at 0x7f6b59686580>,\n",
              " 'decorate': <gensim.models.keyedvectors.Vocab at 0x7f6b596865e0>,\n",
              " 'pastrycrazy': <gensim.models.keyedvectors.Vocab at 0x7f6b59686640>,\n",
              " 'delishmy': <gensim.models.keyedvectors.Vocab at 0x7f6b596866a0>,\n",
              " 'bunit': <gensim.models.keyedvectors.Vocab at 0x7f6b59686700>,\n",
              " 'share': <gensim.models.keyedvectors.Vocab at 0x7f6b59686760>,\n",
              " 'coffeebuy': <gensim.models.keyedvectors.Vocab at 0x7f6b596867c0>,\n",
              " 'refrigerate': <gensim.models.keyedvectors.Vocab at 0x7f6b59686820>,\n",
              " 'impress': <gensim.models.keyedvectors.Vocab at 0x7f6b59686880>,\n",
              " 'party': <gensim.models.keyedvectors.Vocab at 0x7f6b596868e0>,\n",
              " 'yummynice': <gensim.models.keyedvectors.Vocab at 0x7f6b59686940>,\n",
              " 'goglad': <gensim.models.keyedvectors.Vocab at 0x7f6b596869a0>,\n",
              " 'beautiful': <gensim.models.keyedvectors.Vocab at 0x7f6b59686a00>,\n",
              " 'french': <gensim.models.keyedvectors.Vocab at 0x7f6b59686a60>,\n",
              " 'rich': <gensim.models.keyedvectors.Vocab at 0x7f6b59686ac0>,\n",
              " 'bridal': <gensim.models.keyedvectors.Vocab at 0x7f6b59686b20>,\n",
              " 'mine': <gensim.models.keyedvectors.Vocab at 0x7f6b59686b80>,\n",
              " 'college': <gensim.models.keyedvectors.Vocab at 0x7f6b59686be0>,\n",
              " 'go': <gensim.models.keyedvectors.Vocab at 0x7f6b59686c40>,\n",
              " 'nyc': <gensim.models.keyedvectors.Vocab at 0x7f6b59686ca0>,\n",
              " 'earth': <gensim.models.keyedvectors.Vocab at 0x7f6b59686d00>,\n",
              " 'shatterfavorite': <gensim.models.keyedvectors.Vocab at 0x7f6b59686d60>,\n",
              " 'traditional': <gensim.models.keyedvectors.Vocab at 0x7f6b59686dc0>,\n",
              " 'visited': <gensim.models.keyedvectors.Vocab at 0x7f6b59686e20>,\n",
              " 'mean': <gensim.models.keyedvectors.Vocab at 0x7f6b59686e80>,\n",
              " 'bolo': <gensim.models.keyedvectors.Vocab at 0x7f6b59686ee0>,\n",
              " 'brew': <gensim.models.keyedvectors.Vocab at 0x7f6b59686f40>,\n",
              " 'yum': <gensim.models.keyedvectors.Vocab at 0x7f6b59686fa0>,\n",
              " 'downside': <gensim.models.keyedvectors.Vocab at 0x7f6b59688040>,\n",
              " 'packaging': <gensim.models.keyedvectors.Vocab at 0x7f6b596880a0>,\n",
              " 'town': <gensim.models.keyedvectors.Vocab at 0x7f6b59688100>,\n",
              " 'paper': <gensim.models.keyedvectors.Vocab at 0x7f6b59688160>,\n",
              " 'travel': <gensim.models.keyedvectors.Vocab at 0x7f6b596881c0>,\n",
              " 'freshlike': <gensim.models.keyedvectors.Vocab at 0x7f6b59688220>,\n",
              " 'strong': <gensim.models.keyedvectors.Vocab at 0x7f6b59688280>,\n",
              " 'affordable': <gensim.models.keyedvectors.Vocab at 0x7f6b596882e0>,\n",
              " 'open': <gensim.models.keyedvectors.Vocab at 0x7f6b59688340>,\n",
              " 'wax': <gensim.models.keyedvectors.Vocab at 0x7f6b596883a0>,\n",
              " 'hard': <gensim.models.keyedvectors.Vocab at 0x7f6b59688400>,\n",
              " 'keep': <gensim.models.keyedvectors.Vocab at 0x7f6b59688460>,\n",
              " 'scold': <gensim.models.keyedvectors.Vocab at 0x7f6b596884c0>,\n",
              " 'meyou': <gensim.models.keyedvectors.Vocab at 0x7f6b59688520>,\n",
              " 'advance': <gensim.models.keyedvectors.Vocab at 0x7f6b59688580>,\n",
              " 'proceed': <gensim.models.keyedvectors.Vocab at 0x7f6b596885e0>,\n",
              " 'response': <gensim.models.keyedvectors.Vocab at 0x7f6b59688640>,\n",
              " 'guess': <gensim.models.keyedvectors.Vocab at 0x7f6b596886a0>,\n",
              " 'adult': <gensim.models.keyedvectors.Vocab at 0x7f6b59688700>,\n",
              " 'earnhorrible': <gensim.models.keyedvectors.Vocab at 0x7f6b59688760>,\n",
              " 'necessary': <gensim.models.keyedvectors.Vocab at 0x7f6b596887c0>,\n",
              " 'faint': <gensim.models.keyedvectors.Vocab at 0x7f6b59688820>,\n",
              " 'unfathomable': <gensim.models.keyedvectors.Vocab at 0x7f6b59688880>,\n",
              " 'rocky': <gensim.models.keyedvectors.Vocab at 0x7f6b596888e0>,\n",
              " 'yuck': <gensim.models.keyedvectors.Vocab at 0x7f6b59688940>,\n",
              " 'experience': <gensim.models.keyedvectors.Vocab at 0x7f6b596889a0>,\n",
              " 'desirenice': <gensim.models.keyedvectors.Vocab at 0x7f6b59688a00>,\n",
              " 'blend': <gensim.models.keyedvectors.Vocab at 0x7f6b59688a60>,\n",
              " 'smooth': <gensim.models.keyedvectors.Vocab at 0x7f6b59688ac0>,\n",
              " 'gritty': <gensim.models.keyedvectors.Vocab at 0x7f6b59688b20>,\n",
              " 'white': <gensim.models.keyedvectors.Vocab at 0x7f6b59688b80>,\n",
              " 'random': <gensim.models.keyedvectors.Vocab at 0x7f6b59688be0>,\n",
              " 'family': <gensim.models.keyedvectors.Vocab at 0x7f6b59688c40>,\n",
              " 'member': <gensim.models.keyedvectors.Vocab at 0x7f6b59688ca0>,\n",
              " 'fruity': <gensim.models.keyedvectors.Vocab at 0x7f6b59688d00>,\n",
              " 'partywalked': <gensim.models.keyedvectors.Vocab at 0x7f6b59688d60>,\n",
              " 'willing': <gensim.models.keyedvectors.Vocab at 0x7f6b59688dc0>,\n",
              " 'yesterday': <gensim.models.keyedvectors.Vocab at 0x7f6b59688e20>,\n",
              " 'hunt': <gensim.models.keyedvectors.Vocab at 0x7f6b59688e80>,\n",
              " 'grab': <gensim.models.keyedvectors.Vocab at 0x7f6b59688ee0>,\n",
              " 'curry': <gensim.models.keyedvectors.Vocab at 0x7f6b59688f40>,\n",
              " 'ate': <gensim.models.keyedvectors.Vocab at 0x7f6b59688fa0>,\n",
              " 'wait': <gensim.models.keyedvectors.Vocab at 0x7f6b59689040>,\n",
              " 'briefly': <gensim.models.keyedvectors.Vocab at 0x7f6b596890a0>,\n",
              " 'sort': <gensim.models.keyedvectors.Vocab at 0x7f6b59689100>,\n",
              " 'porkunsuccessful': <gensim.models.keyedvectors.Vocab at 0x7f6b59689160>,\n",
              " 'inoffensive': <gensim.models.keyedvectors.Vocab at 0x7f6b596891c0>,\n",
              " 'desert': <gensim.models.keyedvectors.Vocab at 0x7f6b59689220>,\n",
              " 'bakerymany': <gensim.models.keyedvectors.Vocab at 0x7f6b59689280>,\n",
              " 'beleive': <gensim.models.keyedvectors.Vocab at 0x7f6b596892e0>,\n",
              " 'superior': <gensim.models.keyedvectors.Vocab at 0x7f6b59689340>,\n",
              " 'attractive': <gensim.models.keyedvectors.Vocab at 0x7f6b596893a0>,\n",
              " 'escape': <gensim.models.keyedvectors.Vocab at 0x7f6b59689400>,\n",
              " 'freshness': <gensim.models.keyedvectors.Vocab at 0x7f6b59689460>,\n",
              " 'amazebubble': <gensim.models.keyedvectors.Vocab at 0x7f6b596894c0>,\n",
              " 'deliciousness': <gensim.models.keyedvectors.Vocab at 0x7f6b59689520>,\n",
              " 'sf': <gensim.models.keyedvectors.Vocab at 0x7f6b59689580>,\n",
              " 'suck': <gensim.models.keyedvectors.Vocab at 0x7f6b596895e0>,\n",
              " 'waitress': <gensim.models.keyedvectors.Vocab at 0x7f6b59689640>,\n",
              " 'fakebun': <gensim.models.keyedvectors.Vocab at 0x7f6b596896a0>,\n",
              " 'comment': <gensim.models.keyedvectors.Vocab at 0x7f6b59689700>,\n",
              " 'pricey': <gensim.models.keyedvectors.Vocab at 0x7f6b59689760>,\n",
              " 'appreciate': <gensim.models.keyedvectors.Vocab at 0x7f6b596897c0>,\n",
              " 'terrific': <gensim.models.keyedvectors.Vocab at 0x7f6b59689820>,\n",
              " 'write': <gensim.models.keyedvectors.Vocab at 0x7f6b59689880>,\n",
              " 'mother': <gensim.models.keyedvectors.Vocab at 0x7f6b596898e0>,\n",
              " 'buck': <gensim.models.keyedvectors.Vocab at 0x7f6b59689940>,\n",
              " 'trycake': <gensim.models.keyedvectors.Vocab at 0x7f6b596899a0>,\n",
              " 'skeptical': <gensim.models.keyedvectors.Vocab at 0x7f6b59689a00>,\n",
              " 'capital': <gensim.models.keyedvectors.Vocab at 0x7f6b59689a60>,\n",
              " 'c': <gensim.models.keyedvectors.Vocab at 0x7f6b59689ac0>,\n",
              " 'chat': <gensim.models.keyedvectors.Vocab at 0x7f6b59689b20>,\n",
              " 'help': <gensim.models.keyedvectors.Vocab at 0x7f6b59689b80>,\n",
              " 'prepare': <gensim.models.keyedvectors.Vocab at 0x7f6b59689be0>,\n",
              " 'stuffed': <gensim.models.keyedvectors.Vocab at 0x7f6b59689c40>,\n",
              " 'tartcheap': <gensim.models.keyedvectors.Vocab at 0x7f6b59689ca0>,\n",
              " 'sweeter': <gensim.models.keyedvectors.Vocab at 0x7f6b59689d00>,\n",
              " 'tempt': <gensim.models.keyedvectors.Vocab at 0x7f6b59689d60>,\n",
              " 'popcute': <gensim.models.keyedvectors.Vocab at 0x7f6b59689dc0>,\n",
              " 'mom': <gensim.models.keyedvectors.Vocab at 0x7f6b59689e20>,\n",
              " 'disappoint': <gensim.models.keyedvectors.Vocab at 0x7f6b59689e80>,\n",
              " 'see': <gensim.models.keyedvectors.Vocab at 0x7f6b59689ee0>,\n",
              " 'frost': <gensim.models.keyedvectors.Vocab at 0x7f6b59689f40>,\n",
              " 'argue': <gensim.models.keyedvectors.Vocab at 0x7f6b59689fa0>,\n",
              " 'phone': <gensim.models.keyedvectors.Vocab at 0x7f6b5968a040>,\n",
              " 'confirm': <gensim.models.keyedvectors.Vocab at 0x7f6b5968a0a0>,\n",
              " 'timefirst': <gensim.models.keyedvectors.Vocab at 0x7f6b5968a100>,\n",
              " 'fine': <gensim.models.keyedvectors.Vocab at 0x7f6b5968a160>,\n",
              " 'forth': <gensim.models.keyedvectors.Vocab at 0x7f6b5968a1c0>,\n",
              " 'careful': <gensim.models.keyedvectors.Vocab at 0x7f6b5968a220>,\n",
              " 'bakerydelish': <gensim.models.keyedvectors.Vocab at 0x7f6b5968a280>,\n",
              " 'excellent': <gensim.models.keyedvectors.Vocab at 0x7f6b5968a2e0>,\n",
              " 'vietnamese': <gensim.models.keyedvectors.Vocab at 0x7f6b5968a340>,\n",
              " 'cakecheap': <gensim.models.keyedvectors.Vocab at 0x7f6b5968a3a0>,\n",
              " 'mandarin': <gensim.models.keyedvectors.Vocab at 0x7f6b5968a400>,\n",
              " 'consistentgood': <gensim.models.keyedvectors.Vocab at 0x7f6b5968a460>,\n",
              " 'cantonese': <gensim.models.keyedvectors.Vocab at 0x7f6b5968a4c0>,\n",
              " 'intake': <gensim.models.keyedvectors.Vocab at 0x7f6b5968a520>,\n",
              " 'venture': <gensim.models.keyedvectors.Vocab at 0x7f6b5968a580>,\n",
              " 'lunch': <gensim.models.keyedvectors.Vocab at 0x7f6b5968a5e0>,\n",
              " 'childhood': <gensim.models.keyedvectors.Vocab at 0x7f6b5968a640>,\n",
              " 'machine': <gensim.models.keyedvectors.Vocab at 0x7f6b5968a6a0>,\n",
              " 'womp': <gensim.models.keyedvectors.Vocab at 0x7f6b5968a700>,\n",
              " 'leave': <gensim.models.keyedvectors.Vocab at 0x7f6b5968a760>,\n",
              " 'buy': <gensim.models.keyedvectors.Vocab at 0x7f6b5968a7c0>,\n",
              " 'glad': <gensim.models.keyedvectors.Vocab at 0x7f6b5968a820>,\n",
              " 'opinion': <gensim.models.keyedvectors.Vocab at 0x7f6b5968a880>,\n",
              " 'realize': <gensim.models.keyedvectors.Vocab at 0x7f6b5968a8e0>,\n",
              " 'wantfreak': <gensim.models.keyedvectors.Vocab at 0x7f6b5968a940>,\n",
              " 'linda': <gensim.models.keyedvectors.Vocab at 0x7f6b5968a9a0>,\n",
              " 'n': <gensim.models.keyedvectors.Vocab at 0x7f6b5968aa00>,\n",
              " 'sign': <gensim.models.keyedvectors.Vocab at 0x7f6b5968aa60>,\n",
              " 'frozen': <gensim.models.keyedvectors.Vocab at 0x7f6b5968aac0>,\n",
              " 'weird': <gensim.models.keyedvectors.Vocab at 0x7f6b5968ab20>,\n",
              " 'beat': <gensim.models.keyedvectors.Vocab at 0x7f6b5968ab80>,\n",
              " 'communicate': <gensim.models.keyedvectors.Vocab at 0x7f6b5968abe0>,\n",
              " 'reasonablemany': <gensim.models.keyedvectors.Vocab at 0x7f6b5968ac40>,\n",
              " 'familys': <gensim.models.keyedvectors.Vocab at 0x7f6b5968aca0>,\n",
              " 'easy': <gensim.models.keyedvectors.Vocab at 0x7f6b5968ad00>,\n",
              " 'cuz': <gensim.models.keyedvectors.Vocab at 0x7f6b5968ad60>,\n",
              " 'pro': <gensim.models.keyedvectors.Vocab at 0x7f6b5968adc0>,\n",
              " 'creamdurian': <gensim.models.keyedvectors.Vocab at 0x7f6b5968ae20>,\n",
              " 'angel': <gensim.models.keyedvectors.Vocab at 0x7f6b5968ae80>,\n",
              " 'chestnut': <gensim.models.keyedvectors.Vocab at 0x7f6b5968aee0>,\n",
              " 'goodand': <gensim.models.keyedvectors.Vocab at 0x7f6b5968af40>,\n",
              " 'item': <gensim.models.keyedvectors.Vocab at 0x7f6b5968afa0>,\n",
              " 'cakeand': <gensim.models.keyedvectors.Vocab at 0x7f6b5968c040>,\n",
              " 'premadesee': <gensim.models.keyedvectors.Vocab at 0x7f6b5968c0a0>,\n",
              " 'style': <gensim.models.keyedvectors.Vocab at 0x7f6b5968c100>,\n",
              " 'pastryaffordable': <gensim.models.keyedvectors.Vocab at 0x7f6b5968c160>,\n",
              " 'fruitcaketiramisu': <gensim.models.keyedvectors.Vocab at 0x7f6b5968c1c0>,\n",
              " 'moresome': <gensim.models.keyedvectors.Vocab at 0x7f6b5968c220>,\n",
              " 'hongkong': <gensim.models.keyedvectors.Vocab at 0x7f6b5968c280>,\n",
              " 'establishment': <gensim.models.keyedvectors.Vocab at 0x7f6b5968c2e0>,\n",
              " 'mood': <gensim.models.keyedvectors.Vocab at 0x7f6b5968c340>,\n",
              " 'room': <gensim.models.keyedvectors.Vocab at 0x7f6b5968c3a0>,\n",
              " 'bathroom': <gensim.models.keyedvectors.Vocab at 0x7f6b5968c400>,\n",
              " 'lock': <gensim.models.keyedvectors.Vocab at 0x7f6b5968c460>,\n",
              " 'explanation': <gensim.models.keyedvectors.Vocab at 0x7f6b5968c4c0>,\n",
              " 'person': <gensim.models.keyedvectors.Vocab at 0x7f6b5968c520>,\n",
              " 'confuse': <gensim.models.keyedvectors.Vocab at 0x7f6b5968c580>,\n",
              " 'want': <gensim.models.keyedvectors.Vocab at 0x7f6b5968c5e0>,\n",
              " 'restroom': <gensim.models.keyedvectors.Vocab at 0x7f6b5968c640>,\n",
              " 'barrierthey': <gensim.models.keyedvectors.Vocab at 0x7f6b5968c6a0>,\n",
              " 'check': <gensim.models.keyedvectors.Vocab at 0x7f6b5968c700>,\n",
              " 'spell': <gensim.models.keyedvectors.Vocab at 0x7f6b5968c760>,\n",
              " 'change': <gensim.models.keyedvectors.Vocab at 0x7f6b5968c7c0>,\n",
              " 'attitude': <gensim.models.keyedvectors.Vocab at 0x7f6b5968c820>,\n",
              " 'talk': <gensim.models.keyedvectors.Vocab at 0x7f6b5968c880>,\n",
              " 'admit': <gensim.models.keyedvectors.Vocab at 0x7f6b5968c8e0>,\n",
              " 'employee': <gensim.models.keyedvectors.Vocab at 0x7f6b5968c940>,\n",
              " 'wontterrible': <gensim.models.keyedvectors.Vocab at 0x7f6b5968c9a0>,\n",
              " 'terrible': <gensim.models.keyedvectors.Vocab at 0x7f6b5968ca00>,\n",
              " 'disrespected': <gensim.models.keyedvectors.Vocab at 0x7f6b5968ca60>,\n",
              " 'friday': <gensim.models.keyedvectors.Vocab at 0x7f6b5968cac0>,\n",
              " 'preordered': <gensim.models.keyedvectors.Vocab at 0x7f6b5968cb20>,\n",
              " 'key': <gensim.models.keyedvectors.Vocab at 0x7f6b5968cb80>,\n",
              " 'mumble': <gensim.models.keyedvectors.Vocab at 0x7f6b5968cbe0>,\n",
              " 'understood': <gensim.models.keyedvectors.Vocab at 0x7f6b5968cc40>,\n",
              " 'shock': <gensim.models.keyedvectors.Vocab at 0x7f6b5968cca0>,\n",
              " 'tasty': <gensim.models.keyedvectors.Vocab at 0x7f6b5968cd00>,\n",
              " 'edge': <gensim.models.keyedvectors.Vocab at 0x7f6b5968cd60>,\n",
              " 'crustegg': <gensim.models.keyedvectors.Vocab at 0x7f6b5968cdc0>,\n",
              " 'thick': <gensim.models.keyedvectors.Vocab at 0x7f6b5968ce20>,\n",
              " 'stale': <gensim.models.keyedvectors.Vocab at 0x7f6b5968ce80>,\n",
              " 'wont': <gensim.models.keyedvectors.Vocab at 0x7f6b5968cee0>,\n",
              " 'search': <gensim.models.keyedvectors.Vocab at 0x7f6b5968cf40>,\n",
              " 'today': <gensim.models.keyedvectors.Vocab at 0x7f6b5968cfa0>,\n",
              " 'teaclose': <gensim.models.keyedvectors.Vocab at 0x7f6b5968d040>,\n",
              " 'york': <gensim.models.keyedvectors.Vocab at 0x7f6b5968d0a0>,\n",
              " 'trial': <gensim.models.keyedvectors.Vocab at 0x7f6b5968d100>,\n",
              " 'error': <gensim.models.keyedvectors.Vocab at 0x7f6b5968d160>,\n",
              " 'hi': <gensim.models.keyedvectors.Vocab at 0x7f6b5968d1c0>,\n",
              " 'point': <gensim.models.keyedvectors.Vocab at 0x7f6b5968d220>,\n",
              " 'assortment': <gensim.models.keyedvectors.Vocab at 0x7f6b5968d280>,\n",
              " 'someone': <gensim.models.keyedvectors.Vocab at 0x7f6b5968d2e0>,\n",
              " 'balance': <gensim.models.keyedvectors.Vocab at 0x7f6b5968d340>,\n",
              " 'salty': <gensim.models.keyedvectors.Vocab at 0x7f6b5968d3a0>,\n",
              " 'decadence': <gensim.models.keyedvectors.Vocab at 0x7f6b5968d400>,\n",
              " 'notch': <gensim.models.keyedvectors.Vocab at 0x7f6b5968d460>,\n",
              " 'mustgo': <gensim.models.keyedvectors.Vocab at 0x7f6b5968d4c0>,\n",
              " 'wander': <gensim.models.keyedvectors.Vocab at 0x7f6b5968d520>,\n",
              " 'banknew': <gensim.models.keyedvectors.Vocab at 0x7f6b5968d580>,\n",
              " 'helpful': <gensim.models.keyedvectors.Vocab at 0x7f6b5968d5e0>,\n",
              " 'proper': <gensim.models.keyedvectors.Vocab at 0x7f6b5968d640>,\n",
              " 'accent': <gensim.models.keyedvectors.Vocab at 0x7f6b5968d6a0>,\n",
              " 'friendly': <gensim.models.keyedvectors.Vocab at 0x7f6b5968d700>,\n",
              " 'regular': <gensim.models.keyedvectors.Vocab at 0x7f6b5968d760>,\n",
              " 'available': <gensim.models.keyedvectors.Vocab at 0x7f6b5968d7c0>,\n",
              " 'wide': <gensim.models.keyedvectors.Vocab at 0x7f6b5968d820>,\n",
              " 'ready': <gensim.models.keyedvectors.Vocab at 0x7f6b5968d880>,\n",
              " 'obsessed': <gensim.models.keyedvectors.Vocab at 0x7f6b5968d8e0>,\n",
              " 'lucky': <gensim.models.keyedvectors.Vocab at 0x7f6b5968d940>,\n",
              " 'straight': <gensim.models.keyedvectors.Vocab at 0x7f6b5968d9a0>,\n",
              " 'cold': <gensim.models.keyedvectors.Vocab at 0x7f6b5968da00>,\n",
              " 'exceptional': <gensim.models.keyedvectors.Vocab at 0x7f6b5968da60>,\n",
              " 'fry': <gensim.models.keyedvectors.Vocab at 0x7f6b5968dac0>,\n",
              " 'news': <gensim.models.keyedvectors.Vocab at 0x7f6b5968db20>,\n",
              " 'practice': <gensim.models.keyedvectors.Vocab at 0x7f6b5968db80>,\n",
              " 'move': <gensim.models.keyedvectors.Vocab at 0x7f6b5968dbe0>,\n",
              " 'workfavorite': <gensim.models.keyedvectors.Vocab at 0x7f6b5968dc40>,\n",
              " 'late': <gensim.models.keyedvectors.Vocab at 0x7f6b5968dca0>,\n",
              " 'drive': <gensim.models.keyedvectors.Vocab at 0x7f6b5968dd00>,\n",
              " 'steak': <gensim.models.keyedvectors.Vocab at 0x7f6b5968dd60>,\n",
              " 'precaution': <gensim.models.keyedvectors.Vocab at 0x7f6b5968ddc0>,\n",
              " 'hand': <gensim.models.keyedvectors.Vocab at 0x7f6b5968de20>,\n",
              " 'glove': <gensim.models.keyedvectors.Vocab at 0x7f6b5968de80>,\n",
              " 'flush': <gensim.models.keyedvectors.Vocab at 0x7f6b5968dee0>,\n",
              " 'norm': <gensim.models.keyedvectors.Vocab at 0x7f6b5968df40>,\n",
              " 'covid': <gensim.models.keyedvectors.Vocab at 0x7f6b5968dfa0>,\n",
              " 'rate': <gensim.models.keyedvectors.Vocab at 0x7f6b5968e040>,\n",
              " 'yup': <gensim.models.keyedvectors.Vocab at 0x7f6b5968e0a0>,\n",
              " 'waaaaay': <gensim.models.keyedvectors.Vocab at 0x7f6b5968e100>,\n",
              " 'head': <gensim.models.keyedvectors.Vocab at 0x7f6b5968e160>,\n",
              " 'cha': <gensim.models.keyedvectors.Vocab at 0x7f6b5968e1c0>,\n",
              " 'sui': <gensim.models.keyedvectors.Vocab at 0x7f6b5968e220>,\n",
              " 'baos': <gensim.models.keyedvectors.Vocab at 0x7f6b5968e280>,\n",
              " 'id': <gensim.models.keyedvectors.Vocab at 0x7f6b5968e2e0>,\n",
              " 'lack': <gensim.models.keyedvectors.Vocab at 0x7f6b5968e340>,\n",
              " 'safety': <gensim.models.keyedvectors.Vocab at 0x7f6b5968e3a0>,\n",
              " 'bump': <gensim.models.keyedvectors.Vocab at 0x7f6b5968e400>,\n",
              " 'yelp': <gensim.models.keyedvectors.Vocab at 0x7f6b5968e460>,\n",
              " 'mistake': <gensim.models.keyedvectors.Vocab at 0x7f6b5968e4c0>,\n",
              " 'night': <gensim.models.keyedvectors.Vocab at 0x7f6b5968e520>,\n",
              " 'closing': <gensim.models.keyedvectors.Vocab at 0x7f6b5968e580>,\n",
              " 'timeim': <gensim.models.keyedvectors.Vocab at 0x7f6b5968e5e0>,\n",
              " 'pandemic': <gensim.models.keyedvectors.Vocab at 0x7f6b5968e640>,\n",
              " 'thought': <gensim.models.keyedvectors.Vocab at 0x7f6b5968e6a0>,\n",
              " 'eager': <gensim.models.keyedvectors.Vocab at 0x7f6b5968e700>,\n",
              " 'paranoid': <gensim.models.keyedvectors.Vocab at 0x7f6b5968e760>,\n",
              " 'support': <gensim.models.keyedvectors.Vocab at 0x7f6b5968e7c0>,\n",
              " 'plan': <gensim.models.keyedvectors.Vocab at 0x7f6b5968e820>,\n",
              " 'friendawesome': <gensim.models.keyedvectors.Vocab at 0x7f6b5968e880>,\n",
              " 'regret': <gensim.models.keyedvectors.Vocab at 0x7f6b5968e8e0>,\n",
              " 'happen': <gensim.models.keyedvectors.Vocab at 0x7f6b5968e940>,\n",
              " 'plain': <gensim.models.keyedvectors.Vocab at 0x7f6b5968e9a0>,\n",
              " 'color': <gensim.models.keyedvectors.Vocab at 0x7f6b5968ea00>,\n",
              " 'introduce': <gensim.models.keyedvectors.Vocab at 0x7f6b5968ea60>,\n",
              " 'happenedshame': <gensim.models.keyedvectors.Vocab at 0x7f6b5968eac0>,\n",
              " 'cut': <gensim.models.keyedvectors.Vocab at 0x7f6b5968eb20>,\n",
              " 'product': <gensim.models.keyedvectors.Vocab at 0x7f6b5968eb80>,\n",
              " 'searchoh': <gensim.models.keyedvectors.Vocab at 0x7f6b5968ebe0>,\n",
              " 'stuck': <gensim.models.keyedvectors.Vocab at 0x7f6b5968ec40>,\n",
              " 'disgust': <gensim.models.keyedvectors.Vocab at 0x7f6b5968eca0>,\n",
              " 'funky': <gensim.models.keyedvectors.Vocab at 0x7f6b5968ed00>,\n",
              " 'sister': <gensim.models.keyedvectors.Vocab at 0x7f6b5968ed60>,\n",
              " 'extra': <gensim.models.keyedvectors.Vocab at 0x7f6b5968edc0>,\n",
              " 'nonedible': <gensim.models.keyedvectors.Vocab at 0x7f6b5968ee20>,\n",
              " 'bunschar': <gensim.models.keyedvectors.Vocab at 0x7f6b5968ee80>,\n",
              " 'siu': <gensim.models.keyedvectors.Vocab at 0x7f6b5968eee0>,\n",
              " 'tender': <gensim.models.keyedvectors.Vocab at 0x7f6b5968ef40>,\n",
              " 'fall': <gensim.models.keyedvectors.Vocab at 0x7f6b5968efa0>,\n",
              " 'baoive': <gensim.models.keyedvectors.Vocab at 0x7f6b59690040>,\n",
              " 'flavorful': <gensim.models.keyedvectors.Vocab at 0x7f6b596900a0>,\n",
              " 'ratio': <gensim.models.keyedvectors.Vocab at 0x7f6b59690100>,\n",
              " 'enjoyable': <gensim.models.keyedvectors.Vocab at 0x7f6b59690160>,\n",
              " 'liked': <gensim.models.keyedvectors.Vocab at 0x7f6b596901c0>,\n",
              " 'chunky': <gensim.models.keyedvectors.Vocab at 0x7f6b59690220>,\n",
              " 'uextra': <gensim.models.keyedvectors.Vocab at 0x7f6b59690280>,\n",
              " 'brioche': <gensim.models.keyedvectors.Vocab at 0x7f6b596902e0>,\n",
              " 'oomph': <gensim.models.keyedvectors.Vocab at 0x7f6b59690340>,\n",
              " 'fryer': <gensim.models.keyedvectors.Vocab at 0x7f6b596903a0>,\n",
              " 'oil': <gensim.models.keyedvectors.Vocab at 0x7f6b59690400>,\n",
              " 'staffsweet': <gensim.models.keyedvectors.Vocab at 0x7f6b59690460>,\n",
              " 'long': <gensim.models.keyedvectors.Vocab at 0x7f6b596904c0>,\n",
              " 'skimpy': <gensim.models.keyedvectors.Vocab at 0x7f6b59690520>,\n",
              " 'couldve': <gensim.models.keyedvectors.Vocab at 0x7f6b59690580>,\n",
              " 'trip': <gensim.models.keyedvectors.Vocab at 0x7f6b596905e0>,\n",
              " 'complete': <gensim.models.keyedvectors.Vocab at 0x7f6b59690640>,\n",
              " 'cardjoint': <gensim.models.keyedvectors.Vocab at 0x7f6b596906a0>,\n",
              " 'delightful': <gensim.models.keyedvectors.Vocab at 0x7f6b59690700>,\n",
              " 'mixture': <gensim.models.keyedvectors.Vocab at 0x7f6b59690760>,\n",
              " 'tummyfresh': <gensim.models.keyedvectors.Vocab at 0x7f6b596907c0>,\n",
              " 'saturday': <gensim.models.keyedvectors.Vocab at 0x7f6b59690820>,\n",
              " 'theyve': <gensim.models.keyedvectors.Vocab at 0x7f6b59690880>,\n",
              " 'scallion': <gensim.models.keyedvectors.Vocab at 0x7f6b596908e0>,\n",
              " 'forewarning': <gensim.models.keyedvectors.Vocab at 0x7f6b59690940>,\n",
              " 'mayonnaise': <gensim.models.keyedvectors.Vocab at 0x7f6b596909a0>,\n",
              " 'mayonnaiselike': <gensim.models.keyedvectors.Vocab at 0x7f6b59690a00>,\n",
              " 'spread': <gensim.models.keyedvectors.Vocab at 0x7f6b59690a60>,\n",
              " 'combination': <gensim.models.keyedvectors.Vocab at 0x7f6b59690ac0>,\n",
              " 'checkpandemic': <gensim.models.keyedvectors.Vocab at 0x7f6b59690b20>,\n",
              " 'popular': <gensim.models.keyedvectors.Vocab at 0x7f6b59690b80>,\n",
              " 'other': <gensim.models.keyedvectors.Vocab at 0x7f6b59690be0>,\n",
              " 'familiar': <gensim.models.keyedvectors.Vocab at 0x7f6b59690c40>,\n",
              " 'anticipate': <gensim.models.keyedvectors.Vocab at 0x7f6b59690ca0>,\n",
              " 'city': <gensim.models.keyedvectors.Vocab at 0x7f6b59690d00>,\n",
              " 'call': <gensim.models.keyedvectors.Vocab at 0x7f6b59690d60>,\n",
              " 'opening': <gensim.models.keyedvectors.Vocab at 0x7f6b59690dc0>,\n",
              " 'ambiance': <gensim.models.keyedvectors.Vocab at 0x7f6b59690e20>,\n",
              " 'hello': <gensim.models.keyedvectors.Vocab at 0x7f6b59690e80>,\n",
              " 'chef': <gensim.models.keyedvectors.Vocab at 0x7f6b59690ee0>,\n",
              " 'beam': <gensim.models.keyedvectors.Vocab at 0x7f6b59690f40>,\n",
              " 'accomplishment': <gensim.models.keyedvectors.Vocab at 0x7f6b59690fa0>,\n",
              " 'fusion': <gensim.models.keyedvectors.Vocab at 0x7f6b59691040>,\n",
              " 'bar': <gensim.models.keyedvectors.Vocab at 0x7f6b596910a0>,\n",
              " 'thrill': <gensim.models.keyedvectors.Vocab at 0x7f6b59691100>,\n",
              " 'minutenew': <gensim.models.keyedvectors.Vocab at 0x7f6b59691160>,\n",
              " 'quite': <gensim.models.keyedvectors.Vocab at 0x7f6b596911c0>,\n",
              " 'amazing': <gensim.models.keyedvectors.Vocab at 0x7f6b59691220>,\n",
              " 'official': <gensim.models.keyedvectors.Vocab at 0x7f6b59691280>,\n",
              " 'pleased': <gensim.models.keyedvectors.Vocab at 0x7f6b596912e0>,\n",
              " 'fish': <gensim.models.keyedvectors.Vocab at 0x7f6b59691340>,\n",
              " 'ownerexecutive': <gensim.models.keyedvectors.Vocab at 0x7f6b596913a0>,\n",
              " 'sushiasian': <gensim.models.keyedvectors.Vocab at 0x7f6b59691400>,\n",
              " 'tuna': <gensim.models.keyedvectors.Vocab at 0x7f6b59691460>,\n",
              " 'neighborhood': <gensim.models.keyedvectors.Vocab at 0x7f6b596914c0>,\n",
              " 'team': <gensim.models.keyedvectors.Vocab at 0x7f6b59691520>,\n",
              " 'scramble': <gensim.models.keyedvectors.Vocab at 0x7f6b59691580>,\n",
              " 'tonight': <gensim.models.keyedvectors.Vocab at 0x7f6b596915e0>,\n",
              " 'dollar': <gensim.models.keyedvectors.Vocab at 0x7f6b59691640>,\n",
              " 'dish': <gensim.models.keyedvectors.Vocab at 0x7f6b596916a0>,\n",
              " 'customerlive': <gensim.models.keyedvectors.Vocab at 0x7f6b59691700>,\n",
              " 'lose': <gensim.models.keyedvectors.Vocab at 0x7f6b59691760>,\n",
              " 'edamame': <gensim.models.keyedvectors.Vocab at 0x7f6b596917c0>,\n",
              " 'tartare': <gensim.models.keyedvectors.Vocab at 0x7f6b59691820>,\n",
              " 'tartar': <gensim.models.keyedvectors.Vocab at 0x7f6b59691880>,\n",
              " 'ocean': <gensim.models.keyedvectors.Vocab at 0x7f6b596918e0>,\n",
              " 'rock': <gensim.models.keyedvectors.Vocab at 0x7f6b59691940>,\n",
              " 'shrimp': <gensim.models.keyedvectors.Vocab at 0x7f6b596919a0>,\n",
              " 'miso': <gensim.models.keyedvectors.Vocab at 0x7f6b59691a00>,\n",
              " 'soup': <gensim.models.keyedvectors.Vocab at 0x7f6b59691a60>,\n",
              " 'surf': <gensim.models.keyedvectors.Vocab at 0x7f6b59691ac0>,\n",
              " 'turf': <gensim.models.keyedvectors.Vocab at 0x7f6b59691b20>,\n",
              " 'profile': <gensim.models.keyedvectors.Vocab at 0x7f6b59691b80>,\n",
              " 'enjoy': <gensim.models.keyedvectors.Vocab at 0x7f6b59691be0>,\n",
              " 'chance': <gensim.models.keyedvectors.Vocab at 0x7f6b59691c40>,\n",
              " 'please': <gensim.models.keyedvectors.Vocab at 0x7f6b59691ca0>,\n",
              " 'cocktailbasic': <gensim.models.keyedvectors.Vocab at 0x7f6b59691d00>,\n",
              " 'california': <gensim.models.keyedvectors.Vocab at 0x7f6b59691d60>,\n",
              " 'die': <gensim.models.keyedvectors.Vocab at 0x7f6b59691dc0>,\n",
              " 'tiny': <gensim.models.keyedvectors.Vocab at 0x7f6b59691e20>,\n",
              " 'spice': <gensim.models.keyedvectors.Vocab at 0x7f6b59691e80>,\n",
              " 'follow': <gensim.models.keyedvectors.Vocab at 0x7f6b59691ee0>,\n",
              " 'able': <gensim.models.keyedvectors.Vocab at 0x7f6b59691f40>,\n",
              " 'entire': <gensim.models.keyedvectors.Vocab at 0x7f6b59691fa0>,\n",
              " 'adventure': <gensim.models.keyedvectors.Vocab at 0x7f6b59692040>,\n",
              " 'sake': <gensim.models.keyedvectors.Vocab at 0x7f6b596920a0>,\n",
              " 'beer': <gensim.models.keyedvectors.Vocab at 0x7f6b59692100>,\n",
              " 'awesomegreat': <gensim.models.keyedvectors.Vocab at 0x7f6b59692160>,\n",
              " 'din': <gensim.models.keyedvectors.Vocab at 0x7f6b596921c0>,\n",
              " 'lobster': <gensim.models.keyedvectors.Vocab at 0x7f6b59692220>,\n",
              " 'restaurantfresh': <gensim.models.keyedvectors.Vocab at 0x7f6b59692280>,\n",
              " 'umami': <gensim.models.keyedvectors.Vocab at 0x7f6b596922e0>,\n",
              " 'ingredient': <gensim.models.keyedvectors.Vocab at 0x7f6b59692340>,\n",
              " 'creamhard': <gensim.models.keyedvectors.Vocab at 0x7f6b596923a0>,\n",
              " 'forgot': <gensim.models.keyedvectors.Vocab at 0x7f6b59692400>,\n",
              " 'complementary': <gensim.models.keyedvectors.Vocab at 0x7f6b59692460>,\n",
              " 'fishtown': <gensim.models.keyedvectors.Vocab at 0x7f6b596924c0>,\n",
              " 'dynamite': <gensim.models.keyedvectors.Vocab at 0x7f6b59692520>,\n",
              " 'ub': <gensim.models.keyedvectors.Vocab at 0x7f6b59692580>,\n",
              " 'flood': <gensim.models.keyedvectors.Vocab at 0x7f6b596925e0>,\n",
              " 'mediocre': <gensim.models.keyedvectors.Vocab at 0x7f6b59692640>,\n",
              " 'laban': <gensim.models.keyedvectors.Vocab at 0x7f6b596926a0>,\n",
              " 'fork': <gensim.models.keyedvectors.Vocab at 0x7f6b59692700>,\n",
              " 'road': <gensim.models.keyedvectors.Vocab at 0x7f6b59692760>,\n",
              " 'option': <gensim.models.keyedvectors.Vocab at 0x7f6b596927c0>,\n",
              " 'royal': <gensim.models.keyedvectors.Vocab at 0x7f6b59692820>,\n",
              " 'izakaya': <gensim.models.keyedvectors.Vocab at 0x7f6b59692880>,\n",
              " 'boy': <gensim.models.keyedvectors.Vocab at 0x7f6b596928e0>,\n",
              " 'guarantee': <gensim.models.keyedvectors.Vocab at 0x7f6b59692940>,\n",
              " 'ginger': <gensim.models.keyedvectors.Vocab at 0x7f6b596929a0>,\n",
              " 'avocado': <gensim.models.keyedvectors.Vocab at 0x7f6b59692a00>,\n",
              " 'dress': <gensim.models.keyedvectors.Vocab at 0x7f6b59692a60>,\n",
              " 'mix': <gensim.models.keyedvectors.Vocab at 0x7f6b59692ac0>,\n",
              " 'consider': <gensim.models.keyedvectors.Vocab at 0x7f6b59692b20>,\n",
              " 'romaine': <gensim.models.keyedvectors.Vocab at 0x7f6b59692b80>,\n",
              " 'dragon': <gensim.models.keyedvectors.Vocab at 0x7f6b59692be0>,\n",
              " 'j': <gensim.models.keyedvectors.Vocab at 0x7f6b59692c40>,\n",
              " 'salmon': <gensim.models.keyedvectors.Vocab at 0x7f6b59692ca0>,\n",
              " 'fattier': <gensim.models.keyedvectors.Vocab at 0x7f6b59692d00>,\n",
              " 'alaskan': <gensim.models.keyedvectors.Vocab at 0x7f6b59692d60>,\n",
              " 'highlight': <gensim.models.keyedvectors.Vocab at 0x7f6b59692dc0>,\n",
              " 'craft': <gensim.models.keyedvectors.Vocab at 0x7f6b59692e20>,\n",
              " 'delicate': <gensim.models.keyedvectors.Vocab at 0x7f6b59692e80>,\n",
              " 'subtlety': <gensim.models.keyedvectors.Vocab at 0x7f6b59692ee0>,\n",
              " 'preparation': <gensim.models.keyedvectors.Vocab at 0x7f6b59692f40>,\n",
              " 'care': <gensim.models.keyedvectors.Vocab at 0x7f6b59692fa0>,\n",
              " 'kennew': <gensim.models.keyedvectors.Vocab at 0x7f6b59694040>,\n",
              " 'dig': <gensim.models.keyedvectors.Vocab at 0x7f6b596940a0>,\n",
              " 'upscale': <gensim.models.keyedvectors.Vocab at 0x7f6b59694100>,\n",
              " 'frequent': <gensim.models.keyedvectors.Vocab at 0x7f6b59694160>,\n",
              " 'desired': <gensim.models.keyedvectors.Vocab at 0x7f6b596941c0>,\n",
              " 'understanding': <gensim.models.keyedvectors.Vocab at 0x7f6b59694220>,\n",
              " 'narrow': <gensim.models.keyedvectors.Vocab at 0x7f6b59694280>,\n",
              " 'location': <gensim.models.keyedvectors.Vocab at 0x7f6b596942e0>,\n",
              " 'spring': <gensim.models.keyedvectors.Vocab at 0x7f6b59694340>,\n",
              " 'classic': <gensim.models.keyedvectors.Vocab at 0x7f6b596943a0>,\n",
              " 'tasmanian': <gensim.models.keyedvectors.Vocab at 0x7f6b59694400>,\n",
              " 'wild': <gensim.models.keyedvectors.Vocab at 0x7f6b59694460>,\n",
              " 'present': <gensim.models.keyedvectors.Vocab at 0x7f6b596944c0>,\n",
              " 'humble': <gensim.models.keyedvectors.Vocab at 0x7f6b59694520>,\n",
              " 'coast': <gensim.models.keyedvectors.Vocab at 0x7f6b59694580>,\n",
              " 'wasabi': <gensim.models.keyedvectors.Vocab at 0x7f6b596945e0>,\n",
              " 'count': <gensim.models.keyedvectors.Vocab at 0x7f6b59694640>,\n",
              " 'deliverfish': <gensim.models.keyedvectors.Vocab at 0x7f6b596946a0>,\n",
              " 'grate': <gensim.models.keyedvectors.Vocab at 0x7f6b59694700>,\n",
              " 'girlfriend': <gensim.models.keyedvectors.Vocab at 0x7f6b59694760>,\n",
              " 'girl': <gensim.models.keyedvectors.Vocab at 0x7f6b596947c0>,\n",
              " 'heard': <gensim.models.keyedvectors.Vocab at 0x7f6b59694820>,\n",
              " 'space': <gensim.models.keyedvectors.Vocab at 0x7f6b59694880>,\n",
              " 'lay': <gensim.models.keyedvectors.Vocab at 0x7f6b596948e0>,\n",
              " 'retro': <gensim.models.keyedvectors.Vocab at 0x7f6b59694940>,\n",
              " 'scenery': <gensim.models.keyedvectors.Vocab at 0x7f6b596949a0>,\n",
              " 'water': <gensim.models.keyedvectors.Vocab at 0x7f6b59694a00>,\n",
              " 'chickenshrimp': <gensim.models.keyedvectors.Vocab at 0x7f6b59694a60>,\n",
              " 'house': <gensim.models.keyedvectors.Vocab at 0x7f6b59694ac0>,\n",
              " 'spicy': <gensim.models.keyedvectors.Vocab at 0x7f6b59694b20>,\n",
              " 'yellowtail': <gensim.models.keyedvectors.Vocab at 0x7f6b59694b80>,\n",
              " 'spider': <gensim.models.keyedvectors.Vocab at 0x7f6b59694be0>,\n",
              " 'manager': <gensim.models.keyedvectors.Vocab at 0x7f6b59694c40>,\n",
              " 'touch': <gensim.models.keyedvectors.Vocab at 0x7f6b59694ca0>,\n",
              " 'barnice': <gensim.models.keyedvectors.Vocab at 0x7f6b59694d00>,\n",
              " ...}"
            ]
          },
          "metadata": {},
          "execution_count": 44
        }
      ]
    },
    {
      "cell_type": "code",
      "source": [
        "model1 = model.wv"
      ],
      "metadata": {
        "id": "jIhF_UtBUc9Q"
      },
      "execution_count": 45,
      "outputs": []
    },
    {
      "cell_type": "code",
      "source": [
        "model1.most_similar('manager')"
      ],
      "metadata": {
        "colab": {
          "base_uri": "https://localhost:8080/"
        },
        "id": "sheUkEmV21jk",
        "outputId": "b2a8782c-a04d-4299-db3a-62e09d535ccb"
      },
      "execution_count": 49,
      "outputs": [
        {
          "output_type": "execute_result",
          "data": {
            "text/plain": [
              "[('response', 0.9297802448272705),\n",
              " ('respond', 0.9219815731048584),\n",
              " ('apology', 0.9215949773788452),\n",
              " ('situation', 0.9046130180358887),\n",
              " ('manner', 0.9019166231155396),\n",
              " ('explanation', 0.8824670910835266),\n",
              " ('contact', 0.8813174962997437),\n",
              " ('inconvenience', 0.8811042308807373),\n",
              " ('inform', 0.8794299364089966),\n",
              " ('delay', 0.878964364528656)]"
            ]
          },
          "metadata": {},
          "execution_count": 49
        }
      ]
    },
    {
      "cell_type": "code",
      "source": [
        "model1.most_similar(\"flavor\")"
      ],
      "metadata": {
        "colab": {
          "base_uri": "https://localhost:8080/"
        },
        "id": "D4sE4c_3zOzx",
        "outputId": "0ffea496-4a20-469d-d901-bff48184850d"
      },
      "execution_count": 50,
      "outputs": [
        {
          "output_type": "execute_result",
          "data": {
            "text/plain": [
              "[('texture', 0.8917512893676758),\n",
              " ('balance', 0.8716511726379395),\n",
              " ('combination', 0.8402526378631592),\n",
              " ('consistency', 0.8312594890594482),\n",
              " ('deathrowmeal', 0.811394989490509),\n",
              " ('hint', 0.8042358756065369),\n",
              " ('spice', 0.8004513382911682),\n",
              " ('preference', 0.7998554706573486),\n",
              " ('profile', 0.7940469980239868),\n",
              " ('reggiano', 0.7902443408966064)]"
            ]
          },
          "metadata": {},
          "execution_count": 50
        }
      ]
    },
    {
      "cell_type": "code",
      "source": [
        "for_keras= practice_set['nouns_adjec'].values"
      ],
      "metadata": {
        "id": "2KFBydfs25Yh"
      },
      "execution_count": 51,
      "outputs": []
    },
    {
      "cell_type": "code",
      "source": [
        "for_keras"
      ],
      "metadata": {
        "colab": {
          "base_uri": "https://localhost:8080/"
        },
        "id": "SBtvf7cq4LV-",
        "outputId": "4769d790-84a8-4d12-b781-2eedc57bfb4d"
      },
      "execution_count": 52,
      "outputs": [
        {
          "output_type": "execute_result",
          "data": {
            "text/plain": [
              "array(['heart philadelphia female cashier pastry show display case evening sesame ball paste rice ball bai tang gao areanice little bakery chinatown flirtatious adorn fill bean glutinous similar place worth',\n",
              "       'bakery variety bun pastry bun mung coconut stuff egg tart dozen price standard thing service serve coffee tea couple group guy chillin corner debate something place stock bun townchinatown decent beanfilled bun free good table old table great',\n",
              "       'kind service everyone treat treat judgement theyre favoritedelightful chinatown clean happy delicious ton sweet',\n",
              "       ...,\n",
              "       'hand ice coffee terrific guy counter try apartment bella vista place vote apartment goodfreak close',\n",
              "       'place chill corner coffee shop baristaowner neighborhood order tea afternoon jerk get anyway say day judgment pushiness pastry nothing complain chairgreat super nonpretentious friendly iced free wifi im know im cheap comfortable awesome great little comfortable much',\n",
              "       'neighborhood gem owner guy place spot hang work coffeesuper nice great delicious'],\n",
              "      dtype=object)"
            ]
          },
          "metadata": {},
          "execution_count": 52
        }
      ]
    },
    {
      "cell_type": "code",
      "source": [
        "import numpy as np\n",
        "from tensorflow.keras.preprocessing.text import one_hot\n",
        "from tensorflow.keras.preprocessing.sequence import pad_sequences\n",
        "from tensorflow.keras.models import Sequential\n",
        "from tensorflow.keras.layers import Dense\n",
        "from tensorflow.keras.layers import Flatten\n",
        "from tensorflow.keras.layers import Embedding"
      ],
      "metadata": {
        "id": "PdmBPr_O4i3Z"
      },
      "execution_count": 53,
      "outputs": []
    },
    {
      "cell_type": "code",
      "source": [
        "vocab_size = 300\n",
        "encoded_reviews = [one_hot(x, vocab_size) for x in for_keras]\n",
        "print(encoded_reviews)"
      ],
      "metadata": {
        "colab": {
          "base_uri": "https://localhost:8080/"
        },
        "id": "sGEvSMEj4uEL",
        "outputId": "e926fbb2-a196-47b1-8ac3-ad532852b5a6"
      },
      "execution_count": 54,
      "outputs": [
        {
          "output_type": "stream",
          "name": "stderr",
          "text": [
            "IOPub data rate exceeded.\n",
            "The notebook server will temporarily stop sending output\n",
            "to the client in order to avoid crashing it.\n",
            "To change this limit, set the config variable\n",
            "`--NotebookApp.iopub_data_rate_limit`.\n",
            "\n",
            "Current values:\n",
            "NotebookApp.iopub_data_rate_limit=1000000.0 (bytes/sec)\n",
            "NotebookApp.rate_limit_window=3.0 (secs)\n",
            "\n"
          ]
        }
      ]
    },
    {
      "cell_type": "code",
      "source": [
        "max_length = 10\n",
        "padded_reviews = pad_sequences(encoded_reviews, maxlen=max_length, padding='post')\n",
        "print(padded_reviews)"
      ],
      "metadata": {
        "colab": {
          "base_uri": "https://localhost:8080/"
        },
        "id": "qQu_UqWl5d6T",
        "outputId": "e7b42fb8-d52a-403d-b728-cd7b6e99a68e"
      },
      "execution_count": 55,
      "outputs": [
        {
          "output_type": "stream",
          "name": "stdout",
          "text": [
            "[[113 193 178 ... 227 175 170]\n",
            " [ 16 110 169 ...  44  34  34]\n",
            " [171 102 228 ... 177 171 162]\n",
            " ...\n",
            " [252 283  46 ...  46  63  64]\n",
            " [ 83 286  83 ... 142 222 101]\n",
            " [136 283 175 ...  72  34 177]]\n"
          ]
        }
      ]
    },
    {
      "cell_type": "code",
      "source": [
        "embeded_vector_size = 5\n",
        "model = Sequential()\n",
        "model.add(Embedding(vocab_size, embeded_vector_size, input_length=max_length, name = \"embedding\"))\n",
        "model.add(Flatten())\n",
        "model.add(Dense(1, activation='sigmoid'))"
      ],
      "metadata": {
        "id": "ll578UG65-Ij"
      },
      "execution_count": 56,
      "outputs": []
    },
    {
      "cell_type": "code",
      "source": [
        "practice_set.columns"
      ],
      "metadata": {
        "colab": {
          "base_uri": "https://localhost:8080/"
        },
        "id": "KTGSRxxrAoI_",
        "outputId": "2c43643f-a327-4402-bac2-22ec548698f2"
      },
      "execution_count": 57,
      "outputs": [
        {
          "output_type": "execute_result",
          "data": {
            "text/plain": [
              "Index(['nouns_adjec', 'stars_y'], dtype='object')"
            ]
          },
          "metadata": {},
          "execution_count": 57
        }
      ]
    },
    {
      "cell_type": "code",
      "source": [
        "def stars_transform(x):\n",
        "  if x >= 3.5:\n",
        "    return 1\n",
        "  else:\n",
        "    return 0 \n",
        "\n",
        "\n",
        "practice_set['stars_y'] = practice_set['stars_y'].apply(stars_transform)"
      ],
      "metadata": {
        "id": "nCgpBeg57B0b",
        "colab": {
          "base_uri": "https://localhost:8080/"
        },
        "outputId": "3d54f5a3-b221-4d3e-c561-2dba54cc24f5"
      },
      "execution_count": 58,
      "outputs": [
        {
          "output_type": "stream",
          "name": "stderr",
          "text": [
            "<ipython-input-58-3b0cd9d07dc3>:8: SettingWithCopyWarning: \n",
            "A value is trying to be set on a copy of a slice from a DataFrame.\n",
            "Try using .loc[row_indexer,col_indexer] = value instead\n",
            "\n",
            "See the caveats in the documentation: https://pandas.pydata.org/pandas-docs/stable/user_guide/indexing.html#returning-a-view-versus-a-copy\n",
            "  practice_set['stars_y'] = practice_set['stars_y'].apply(stars_transform)\n"
          ]
        }
      ]
    },
    {
      "cell_type": "code",
      "source": [
        "practice_set['stars_y'].value_counts()"
      ],
      "metadata": {
        "colab": {
          "base_uri": "https://localhost:8080/"
        },
        "id": "ELtLB5NDkc40",
        "outputId": "d72f5a9e-aef0-4439-b453-a86c373d046b"
      },
      "execution_count": 59,
      "outputs": [
        {
          "output_type": "execute_result",
          "data": {
            "text/plain": [
              "1    45608\n",
              "0    20090\n",
              "Name: stars_y, dtype: int64"
            ]
          },
          "metadata": {},
          "execution_count": 59
        }
      ]
    },
    {
      "cell_type": "code",
      "source": [
        "sentiment = practice_set['stars_y'].values.flatten()"
      ],
      "metadata": {
        "id": "zLQxroEBk0ut"
      },
      "execution_count": 60,
      "outputs": []
    },
    {
      "cell_type": "code",
      "source": [
        "X = padded_reviews\n",
        "y=sentiment"
      ],
      "metadata": {
        "id": "HAqBMkWi7M-d"
      },
      "execution_count": 61,
      "outputs": []
    },
    {
      "cell_type": "code",
      "source": [
        "sentiment\n"
      ],
      "metadata": {
        "colab": {
          "base_uri": "https://localhost:8080/"
        },
        "id": "erHuaqsayBH1",
        "outputId": "dfe0cf0c-b374-40d4-f77f-b83c7bb24cef"
      },
      "execution_count": 62,
      "outputs": [
        {
          "output_type": "execute_result",
          "data": {
            "text/plain": [
              "array([1, 1, 1, ..., 1, 1, 1])"
            ]
          },
          "metadata": {},
          "execution_count": 62
        }
      ]
    },
    {
      "cell_type": "code",
      "source": [
        "model.compile(optimizer='adam', loss = 'binary_crossentropy', metrics=['accuracy'])\n",
        "model.summary()"
      ],
      "metadata": {
        "colab": {
          "base_uri": "https://localhost:8080/"
        },
        "id": "v1mGNdH87tn3",
        "outputId": "215dd8e9-5f25-40b4-9371-7df19a11f816"
      },
      "execution_count": 63,
      "outputs": [
        {
          "output_type": "stream",
          "name": "stdout",
          "text": [
            "Model: \"sequential\"\n",
            "_________________________________________________________________\n",
            " Layer (type)                Output Shape              Param #   \n",
            "=================================================================\n",
            " embedding (Embedding)       (None, 10, 5)             1500      \n",
            "                                                                 \n",
            " flatten (Flatten)           (None, 50)                0         \n",
            "                                                                 \n",
            " dense (Dense)               (None, 1)                 51        \n",
            "                                                                 \n",
            "=================================================================\n",
            "Total params: 1,551\n",
            "Trainable params: 1,551\n",
            "Non-trainable params: 0\n",
            "_________________________________________________________________\n"
          ]
        }
      ]
    },
    {
      "cell_type": "code",
      "source": [
        "model.fit(X, y, epochs=50, verbose=0)"
      ],
      "metadata": {
        "colab": {
          "base_uri": "https://localhost:8080/"
        },
        "id": "hYEL52bp770G",
        "outputId": "e4601667-1e80-4181-a45b-dedb6d2b3da0"
      },
      "execution_count": 64,
      "outputs": [
        {
          "output_type": "execute_result",
          "data": {
            "text/plain": [
              "<keras.callbacks.History at 0x7f6b5199d100>"
            ]
          },
          "metadata": {},
          "execution_count": 64
        }
      ]
    },
    {
      "cell_type": "code",
      "source": [
        "loss, accuracy = model.evaluate(X,y)\n",
        "accuracy"
      ],
      "metadata": {
        "colab": {
          "base_uri": "https://localhost:8080/"
        },
        "id": "BIMv4lg38MPh",
        "outputId": "da325190-f286-4692-b2eb-96718b6ab681"
      },
      "execution_count": 65,
      "outputs": [
        {
          "output_type": "stream",
          "name": "stdout",
          "text": [
            "2054/2054 [==============================] - 3s 2ms/step - loss: 0.4912 - accuracy: 0.7633\n"
          ]
        },
        {
          "output_type": "execute_result",
          "data": {
            "text/plain": [
              "0.7633413672447205"
            ]
          },
          "metadata": {},
          "execution_count": 65
        }
      ]
    },
    {
      "cell_type": "code",
      "source": [
        "model.get_layer('embedding').get_weights()[0]"
      ],
      "metadata": {
        "colab": {
          "base_uri": "https://localhost:8080/"
        },
        "id": "Nju41UYz8TpC",
        "outputId": "7eac8217-4252-4fb1-8493-46040ee22b62"
      },
      "execution_count": null,
      "outputs": [
        {
          "output_type": "execute_result",
          "data": {
            "text/plain": [
              "array([[-0.08514103, -0.23153287,  0.24459454, -0.3646788 , -0.25075015],\n",
              "       [-0.2938213 ,  0.07905864,  0.3493986 , -1.0039985 , -0.11557846],\n",
              "       [-0.34502858, -0.07566555, -0.0161044 , -0.06921784, -0.3675889 ],\n",
              "       ...,\n",
              "       [-0.39592603, -0.27611938,  0.35098198,  0.09522876,  0.12187388],\n",
              "       [-0.31211022, -0.16910024,  0.5180508 , -0.35287592, -0.57010895],\n",
              "       [-0.465337  , -0.43238527,  0.5847294 , -0.07537656, -0.48818544]],\n",
              "      dtype=float32)"
            ]
          },
          "metadata": {},
          "execution_count": 48
        }
      ]
    }
  ]
}